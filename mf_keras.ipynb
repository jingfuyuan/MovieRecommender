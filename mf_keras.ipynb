{
 "cells": [
  {
   "attachments": {},
   "cell_type": "markdown",
   "metadata": {},
   "source": [
    "# Build neural networks with TensorFlow for collaborative filtering"
   ]
  },
  {
   "cell_type": "code",
   "execution_count": 1,
   "metadata": {},
   "outputs": [],
   "source": [
    "import numpy as np\n",
    "import pandas as pd\n",
    "import matplotlib.pyplot as plt\n",
    "from sklearn.utils import shuffle\n",
    "from keras.models import Model\n",
    "from keras.layers import Input, Embedding, Dot, Add, Flatten, Concatenate, Dense, Dropout\n",
    "from keras.regularizers import l2\n",
    "from keras.optimizers import SGD, Adam"
   ]
  },
  {
   "attachments": {},
   "cell_type": "markdown",
   "metadata": {},
   "source": [
    "### Data preparation"
   ]
  },
  {
   "cell_type": "code",
   "execution_count": 2,
   "metadata": {},
   "outputs": [],
   "source": [
    "df = pd.read_csv(\"small_rating.csv\")"
   ]
  },
  {
   "cell_type": "code",
   "execution_count": 3,
   "metadata": {},
   "outputs": [],
   "source": [
    "userIds = sorted(df[\"userId\"].unique())\n",
    "movieIds = sorted(df[\"movieId\"].unique())"
   ]
  },
  {
   "cell_type": "code",
   "execution_count": 4,
   "metadata": {},
   "outputs": [
    {
     "name": "stdout",
     "output_type": "stream",
     "text": [
      "number of users: 500\n",
      "number of movies: 200\n"
     ]
    }
   ],
   "source": [
    "print(\"number of users: {}\".format(len(userIds)))\n",
    "print(\"number of movies: {}\".format(len(movieIds)))"
   ]
  },
  {
   "cell_type": "code",
   "execution_count": 5,
   "metadata": {},
   "outputs": [
    {
     "name": "stdout",
     "output_type": "stream",
     "text": [
      "[156, 741, 768, 775, 903, 982, 1849, 2261, 2397, 3284]\n",
      "[1, 2, 6, 10, 11, 16, 17, 19, 21, 25]\n"
     ]
    }
   ],
   "source": [
    "print(userIds[:10])\n",
    "print(movieIds[:10])"
   ]
  },
  {
   "attachments": {},
   "cell_type": "markdown",
   "metadata": {},
   "source": [
    "We need to map the users and movies to new IDs that are continuous integers starting from 0. This is to save the space."
   ]
  },
  {
   "cell_type": "code",
   "execution_count": 6,
   "metadata": {},
   "outputs": [],
   "source": [
    "df2 = df[[\"userId\", \"movieId\", \"rating\"]].copy()\n",
    "df2[\"userId\"] = df2[\"userId\"].map({v:k for k, v in enumerate(userIds)})\n",
    "df2[\"movieId\"] = df2[\"movieId\"].map({v:k for k, v in enumerate(movieIds)})"
   ]
  },
  {
   "cell_type": "code",
   "execution_count": 7,
   "metadata": {},
   "outputs": [],
   "source": [
    "N = df2.userId.max() + 1\n",
    "M = df2.movieId.max() + 1"
   ]
  },
  {
   "cell_type": "code",
   "execution_count": 8,
   "metadata": {},
   "outputs": [
    {
     "data": {
      "text/plain": [
       "(500, 200)"
      ]
     },
     "execution_count": 8,
     "metadata": {},
     "output_type": "execute_result"
    }
   ],
   "source": [
    "N, M"
   ]
  },
  {
   "cell_type": "code",
   "execution_count": 9,
   "metadata": {},
   "outputs": [],
   "source": [
    "df2 = shuffle(df2)"
   ]
  },
  {
   "cell_type": "code",
   "execution_count": 10,
   "metadata": {},
   "outputs": [
    {
     "data": {
      "text/html": [
       "<div>\n",
       "<style scoped>\n",
       "    .dataframe tbody tr th:only-of-type {\n",
       "        vertical-align: middle;\n",
       "    }\n",
       "\n",
       "    .dataframe tbody tr th {\n",
       "        vertical-align: top;\n",
       "    }\n",
       "\n",
       "    .dataframe thead th {\n",
       "        text-align: right;\n",
       "    }\n",
       "</style>\n",
       "<table border=\"1\" class=\"dataframe\">\n",
       "  <thead>\n",
       "    <tr style=\"text-align: right;\">\n",
       "      <th></th>\n",
       "      <th>userId</th>\n",
       "      <th>movieId</th>\n",
       "      <th>rating</th>\n",
       "    </tr>\n",
       "  </thead>\n",
       "  <tbody>\n",
       "    <tr>\n",
       "      <th>38370</th>\n",
       "      <td>221</td>\n",
       "      <td>90</td>\n",
       "      <td>5.0</td>\n",
       "    </tr>\n",
       "    <tr>\n",
       "      <th>68088</th>\n",
       "      <td>393</td>\n",
       "      <td>199</td>\n",
       "      <td>4.5</td>\n",
       "    </tr>\n",
       "    <tr>\n",
       "      <th>49543</th>\n",
       "      <td>286</td>\n",
       "      <td>23</td>\n",
       "      <td>1.0</td>\n",
       "    </tr>\n",
       "    <tr>\n",
       "      <th>24450</th>\n",
       "      <td>141</td>\n",
       "      <td>4</td>\n",
       "      <td>3.0</td>\n",
       "    </tr>\n",
       "    <tr>\n",
       "      <th>5945</th>\n",
       "      <td>34</td>\n",
       "      <td>53</td>\n",
       "      <td>2.0</td>\n",
       "    </tr>\n",
       "  </tbody>\n",
       "</table>\n",
       "</div>"
      ],
      "text/plain": [
       "       userId  movieId  rating\n",
       "38370     221       90     5.0\n",
       "68088     393      199     4.5\n",
       "49543     286       23     1.0\n",
       "24450     141        4     3.0\n",
       "5945       34       53     2.0"
      ]
     },
     "execution_count": 10,
     "metadata": {},
     "output_type": "execute_result"
    }
   ],
   "source": [
    "df2.head()"
   ]
  },
  {
   "attachments": {},
   "cell_type": "markdown",
   "metadata": {},
   "source": [
    "Split data into train dataset and test dataset."
   ]
  },
  {
   "cell_type": "code",
   "execution_count": 14,
   "metadata": {},
   "outputs": [],
   "source": [
    "cutoff = int(0.8 * len(df2))\n",
    "df_train = df2.iloc[:cutoff]\n",
    "df_test = df2.iloc[cutoff:]"
   ]
  },
  {
   "cell_type": "code",
   "execution_count": 15,
   "metadata": {},
   "outputs": [
    {
     "data": {
      "text/plain": [
       "((69212, 3), (17304, 3))"
      ]
     },
     "execution_count": 15,
     "metadata": {},
     "output_type": "execute_result"
    }
   ],
   "source": [
    "df_train.shape, df_test.shape"
   ]
  },
  {
   "cell_type": "code",
   "execution_count": 100,
   "metadata": {},
   "outputs": [
    {
     "name": "stdout",
     "output_type": "stream",
     "text": [
      "Epoch 1/50\n",
      "541/541 [==============================] - 2s 3ms/step - loss: 0.7512 - mse: 0.7512 - val_loss: 0.6820 - val_mse: 0.6820\n",
      "Epoch 2/50\n",
      "541/541 [==============================] - 1s 2ms/step - loss: 0.6713 - mse: 0.6713 - val_loss: 0.6643 - val_mse: 0.6643\n",
      "Epoch 3/50\n",
      "541/541 [==============================] - 1s 2ms/step - loss: 0.6480 - mse: 0.6480 - val_loss: 0.6484 - val_mse: 0.6484\n",
      "Epoch 4/50\n",
      "541/541 [==============================] - 1s 2ms/step - loss: 0.6366 - mse: 0.6366 - val_loss: 0.6332 - val_mse: 0.6332\n",
      "Epoch 5/50\n",
      "541/541 [==============================] - 1s 2ms/step - loss: 0.6284 - mse: 0.6284 - val_loss: 0.6623 - val_mse: 0.6623\n",
      "Epoch 6/50\n",
      "541/541 [==============================] - 1s 2ms/step - loss: 0.6236 - mse: 0.6236 - val_loss: 0.6321 - val_mse: 0.6321\n",
      "Epoch 7/50\n",
      "541/541 [==============================] - 1s 2ms/step - loss: 0.6197 - mse: 0.6197 - val_loss: 0.6261 - val_mse: 0.6261\n",
      "Epoch 8/50\n",
      "541/541 [==============================] - 1s 2ms/step - loss: 0.6141 - mse: 0.6141 - val_loss: 0.6346 - val_mse: 0.6346\n",
      "Epoch 9/50\n",
      "541/541 [==============================] - 1s 2ms/step - loss: 0.6140 - mse: 0.6140 - val_loss: 0.6182 - val_mse: 0.6182\n",
      "Epoch 10/50\n",
      "541/541 [==============================] - 1s 2ms/step - loss: 0.6088 - mse: 0.6088 - val_loss: 0.6167 - val_mse: 0.6167\n",
      "Epoch 11/50\n",
      "541/541 [==============================] - 1s 2ms/step - loss: 0.6088 - mse: 0.6088 - val_loss: 0.6350 - val_mse: 0.6350\n",
      "Epoch 12/50\n",
      "541/541 [==============================] - 1s 2ms/step - loss: 0.6091 - mse: 0.6091 - val_loss: 0.6255 - val_mse: 0.6255\n",
      "Epoch 13/50\n",
      "541/541 [==============================] - 1s 2ms/step - loss: 0.6078 - mse: 0.6078 - val_loss: 0.6333 - val_mse: 0.6333\n",
      "Epoch 14/50\n",
      "541/541 [==============================] - 1s 2ms/step - loss: 0.6049 - mse: 0.6049 - val_loss: 0.6135 - val_mse: 0.6135\n",
      "Epoch 15/50\n",
      "541/541 [==============================] - 1s 2ms/step - loss: 0.6019 - mse: 0.6019 - val_loss: 0.6157 - val_mse: 0.6157\n",
      "Epoch 16/50\n",
      "541/541 [==============================] - 1s 2ms/step - loss: 0.6016 - mse: 0.6016 - val_loss: 0.6307 - val_mse: 0.6307\n",
      "Epoch 17/50\n",
      "541/541 [==============================] - 1s 2ms/step - loss: 0.6012 - mse: 0.6012 - val_loss: 0.6171 - val_mse: 0.6171\n",
      "Epoch 18/50\n",
      "541/541 [==============================] - 1s 2ms/step - loss: 0.5950 - mse: 0.5950 - val_loss: 0.6122 - val_mse: 0.6122\n",
      "Epoch 19/50\n",
      "541/541 [==============================] - 1s 2ms/step - loss: 0.5934 - mse: 0.5934 - val_loss: 0.6111 - val_mse: 0.6111\n",
      "Epoch 20/50\n",
      "541/541 [==============================] - 1s 2ms/step - loss: 0.5937 - mse: 0.5937 - val_loss: 0.6081 - val_mse: 0.6081\n",
      "Epoch 21/50\n",
      "541/541 [==============================] - 1s 2ms/step - loss: 0.5895 - mse: 0.5895 - val_loss: 0.6121 - val_mse: 0.6121\n",
      "Epoch 22/50\n",
      "541/541 [==============================] - 1s 2ms/step - loss: 0.5874 - mse: 0.5874 - val_loss: 0.6096 - val_mse: 0.6096\n",
      "Epoch 23/50\n",
      "541/541 [==============================] - 1s 2ms/step - loss: 0.5855 - mse: 0.5855 - val_loss: 0.6053 - val_mse: 0.6053\n",
      "Epoch 24/50\n",
      "541/541 [==============================] - 1s 2ms/step - loss: 0.5817 - mse: 0.5817 - val_loss: 0.6217 - val_mse: 0.6217\n",
      "Epoch 25/50\n",
      "541/541 [==============================] - 1s 2ms/step - loss: 0.5792 - mse: 0.5792 - val_loss: 0.6110 - val_mse: 0.6110\n",
      "Epoch 26/50\n",
      "541/541 [==============================] - 1s 2ms/step - loss: 0.5764 - mse: 0.5764 - val_loss: 0.6023 - val_mse: 0.6023\n",
      "Epoch 27/50\n",
      "541/541 [==============================] - 1s 2ms/step - loss: 0.5710 - mse: 0.5710 - val_loss: 0.5976 - val_mse: 0.5976\n",
      "Epoch 28/50\n",
      "541/541 [==============================] - 1s 2ms/step - loss: 0.5700 - mse: 0.5700 - val_loss: 0.5914 - val_mse: 0.5914\n",
      "Epoch 29/50\n",
      "541/541 [==============================] - 1s 2ms/step - loss: 0.5660 - mse: 0.5660 - val_loss: 0.5957 - val_mse: 0.5957\n",
      "Epoch 30/50\n",
      "541/541 [==============================] - 1s 2ms/step - loss: 0.5635 - mse: 0.5635 - val_loss: 0.6016 - val_mse: 0.6016\n",
      "Epoch 31/50\n",
      "541/541 [==============================] - 1s 2ms/step - loss: 0.5626 - mse: 0.5626 - val_loss: 0.5866 - val_mse: 0.5866\n",
      "Epoch 32/50\n",
      "541/541 [==============================] - 1s 2ms/step - loss: 0.5579 - mse: 0.5579 - val_loss: 0.5953 - val_mse: 0.5953\n",
      "Epoch 33/50\n",
      "541/541 [==============================] - 1s 2ms/step - loss: 0.5564 - mse: 0.5564 - val_loss: 0.5928 - val_mse: 0.5928\n",
      "Epoch 34/50\n",
      "541/541 [==============================] - 1s 2ms/step - loss: 0.5557 - mse: 0.5557 - val_loss: 0.5881 - val_mse: 0.5881\n",
      "Epoch 35/50\n",
      "541/541 [==============================] - 1s 2ms/step - loss: 0.5548 - mse: 0.5548 - val_loss: 0.5903 - val_mse: 0.5903\n",
      "Epoch 36/50\n",
      "541/541 [==============================] - 1s 2ms/step - loss: 0.5530 - mse: 0.5530 - val_loss: 0.5837 - val_mse: 0.5837\n",
      "Epoch 37/50\n",
      "541/541 [==============================] - 1s 2ms/step - loss: 0.5498 - mse: 0.5498 - val_loss: 0.5854 - val_mse: 0.5854\n",
      "Epoch 38/50\n",
      "541/541 [==============================] - 1s 2ms/step - loss: 0.5505 - mse: 0.5505 - val_loss: 0.5947 - val_mse: 0.5947\n",
      "Epoch 39/50\n",
      "541/541 [==============================] - 1s 2ms/step - loss: 0.5455 - mse: 0.5455 - val_loss: 0.5893 - val_mse: 0.5893\n",
      "Epoch 40/50\n",
      "541/541 [==============================] - 1s 2ms/step - loss: 0.5425 - mse: 0.5425 - val_loss: 0.5846 - val_mse: 0.5846\n",
      "Epoch 41/50\n",
      "541/541 [==============================] - 1s 2ms/step - loss: 0.5417 - mse: 0.5417 - val_loss: 0.5874 - val_mse: 0.5874\n",
      "Epoch 42/50\n",
      "541/541 [==============================] - 1s 2ms/step - loss: 0.5406 - mse: 0.5406 - val_loss: 0.5909 - val_mse: 0.5909\n",
      "Epoch 43/50\n",
      "541/541 [==============================] - 1s 2ms/step - loss: 0.5393 - mse: 0.5393 - val_loss: 0.5882 - val_mse: 0.5882\n",
      "Epoch 44/50\n",
      "541/541 [==============================] - 1s 2ms/step - loss: 0.5357 - mse: 0.5357 - val_loss: 0.5926 - val_mse: 0.5926\n",
      "Epoch 45/50\n",
      "541/541 [==============================] - 1s 2ms/step - loss: 0.5360 - mse: 0.5360 - val_loss: 0.5869 - val_mse: 0.5869\n",
      "Epoch 46/50\n",
      "541/541 [==============================] - 1s 2ms/step - loss: 0.5314 - mse: 0.5314 - val_loss: 0.5859 - val_mse: 0.5859\n",
      "Epoch 47/50\n",
      "541/541 [==============================] - 1s 2ms/step - loss: 0.5352 - mse: 0.5352 - val_loss: 0.6016 - val_mse: 0.6016\n",
      "Epoch 48/50\n",
      "541/541 [==============================] - 1s 2ms/step - loss: 0.5310 - mse: 0.5310 - val_loss: 0.5822 - val_mse: 0.5822\n",
      "Epoch 49/50\n",
      "541/541 [==============================] - 1s 2ms/step - loss: 0.5318 - mse: 0.5318 - val_loss: 0.5877 - val_mse: 0.5877\n",
      "Epoch 50/50\n",
      "541/541 [==============================] - 1s 2ms/step - loss: 0.5270 - mse: 0.5270 - val_loss: 0.6259 - val_mse: 0.6259\n"
     ]
    }
   ],
   "source": [
    "K = 10\n",
    "mu = df_train.rating.mean()\n",
    "epoch = 50\n",
    "reg = 0\n",
    "u = Input(shape=(1,))\n",
    "m = Input(shape=(1,))\n",
    "u_embedding = Embedding(N, K, embeddings_regularizer=l2(reg))(u)\n",
    "m_embedding = Embedding(M, K, embeddings_regularizer=l2(reg))(m)\n",
    "u_bias = Embedding(N, 1, embeddings_regularizer=l2(reg))(u)\n",
    "m_bias = Embedding(M, 1, embeddings_regularizer=l2(reg))(m)\n",
    "# x = Dot(axes=2)([u_embedding, m_embedding])\n",
    "# x = Add()([x, u_bias, m_bias])\n",
    "# x= Flatten()(x)\n",
    "x = Concatenate(axis=-1)([u_embedding, m_embedding])\n",
    "x = Flatten()(x)\n",
    "x = Dense(500, activation='relu')(x)\n",
    "x = Dropout(0.5)(x)\n",
    "# x = Dense(16)(x)\n",
    "x = Dense(1)(x)\n",
    "model = Model(inputs = [u, m], outputs = x)\n",
    "model.compile(\n",
    "    loss='mse',\n",
    "    optimizer=SGD(learning_rate=0.08, momentum=0.9),\n",
    "    metrics=['mse']\n",
    ")\n",
    "r = model.fit(\n",
    "    x = [df_train.userId.values, df_train.movieId.values],\n",
    "    y = df_train.rating.values - mu,\n",
    "    epochs = epoch,\n",
    "    batch_size=128,\n",
    "    validation_data=(\n",
    "        [df_test.userId.values, df_test.movieId.values],\n",
    "        df_test.rating.values - mu\n",
    "    )\n",
    ")"
   ]
  },
  {
   "cell_type": "code",
   "execution_count": 101,
   "metadata": {},
   "outputs": [
    {
     "name": "stdout",
     "output_type": "stream",
     "text": [
      "Model: \"model_14\"\n",
      "__________________________________________________________________________________________________\n",
      " Layer (type)                   Output Shape         Param #     Connected to                     \n",
      "==================================================================================================\n",
      " input_29 (InputLayer)          [(None, 1)]          0           []                               \n",
      "                                                                                                  \n",
      " input_30 (InputLayer)          [(None, 1)]          0           []                               \n",
      "                                                                                                  \n",
      " embedding_56 (Embedding)       (None, 1, 10)        5000        ['input_29[0][0]']               \n",
      "                                                                                                  \n",
      " embedding_57 (Embedding)       (None, 1, 10)        2000        ['input_30[0][0]']               \n",
      "                                                                                                  \n",
      " concatenate_13 (Concatenate)   (None, 1, 20)        0           ['embedding_56[0][0]',           \n",
      "                                                                  'embedding_57[0][0]']           \n",
      "                                                                                                  \n",
      " flatten_10 (Flatten)           (None, 20)           0           ['concatenate_13[0][0]']         \n",
      "                                                                                                  \n",
      " dense_34 (Dense)               (None, 500)          10500       ['flatten_10[0][0]']             \n",
      "                                                                                                  \n",
      " dropout_7 (Dropout)            (None, 500)          0           ['dense_34[0][0]']               \n",
      "                                                                                                  \n",
      " dense_35 (Dense)               (None, 1)            501         ['dropout_7[0][0]']              \n",
      "                                                                                                  \n",
      "==================================================================================================\n",
      "Total params: 18,001\n",
      "Trainable params: 18,001\n",
      "Non-trainable params: 0\n",
      "__________________________________________________________________________________________________\n"
     ]
    }
   ],
   "source": [
    "model.summary()"
   ]
  },
  {
   "cell_type": "code",
   "execution_count": 102,
   "metadata": {},
   "outputs": [
    {
     "name": "stdout",
     "output_type": "stream",
     "text": [
      "Model: \"model_14\"\n",
      "__________________________________________________________________________________________________\n",
      " Layer (type)                   Output Shape         Param #     Connected to                     \n",
      "==================================================================================================\n",
      " input_29 (InputLayer)          [(None, 1)]          0           []                               \n",
      "                                                                                                  \n",
      " input_30 (InputLayer)          [(None, 1)]          0           []                               \n",
      "                                                                                                  \n",
      " embedding_56 (Embedding)       (None, 1, 10)        5000        ['input_29[0][0]']               \n",
      "                                                                                                  \n",
      " embedding_57 (Embedding)       (None, 1, 10)        2000        ['input_30[0][0]']               \n",
      "                                                                                                  \n",
      " concatenate_13 (Concatenate)   (None, 1, 20)        0           ['embedding_56[0][0]',           \n",
      "                                                                  'embedding_57[0][0]']           \n",
      "                                                                                                  \n",
      " flatten_10 (Flatten)           (None, 20)           0           ['concatenate_13[0][0]']         \n",
      "                                                                                                  \n",
      " dense_34 (Dense)               (None, 500)          10500       ['flatten_10[0][0]']             \n",
      "                                                                                                  \n",
      " dropout_7 (Dropout)            (None, 500)          0           ['dense_34[0][0]']               \n",
      "                                                                                                  \n",
      " dense_35 (Dense)               (None, 1)            501         ['dropout_7[0][0]']              \n",
      "                                                                                                  \n",
      "==================================================================================================\n",
      "Total params: 18,001\n",
      "Trainable params: 18,001\n",
      "Non-trainable params: 0\n",
      "__________________________________________________________________________________________________\n"
     ]
    }
   ],
   "source": [
    "model.summary()"
   ]
  },
  {
   "cell_type": "code",
   "execution_count": 103,
   "metadata": {},
   "outputs": [
    {
     "data": {
      "text/plain": [
       "{'loss': [0.7512064576148987,\n",
       "  0.6713409423828125,\n",
       "  0.6479830741882324,\n",
       "  0.6366281509399414,\n",
       "  0.6284306645393372,\n",
       "  0.6235662698745728,\n",
       "  0.6197254061698914,\n",
       "  0.6140696406364441,\n",
       "  0.6139525175094604,\n",
       "  0.608763575553894,\n",
       "  0.6087964773178101,\n",
       "  0.6090925931930542,\n",
       "  0.6078205704689026,\n",
       "  0.6049016118049622,\n",
       "  0.6018759608268738,\n",
       "  0.601567268371582,\n",
       "  0.6011996269226074,\n",
       "  0.594953715801239,\n",
       "  0.5933656096458435,\n",
       "  0.5937353372573853,\n",
       "  0.5895199775695801,\n",
       "  0.5873669385910034,\n",
       "  0.5854536890983582,\n",
       "  0.58172607421875,\n",
       "  0.5791833400726318,\n",
       "  0.5764384865760803,\n",
       "  0.5710066556930542,\n",
       "  0.5700132846832275,\n",
       "  0.5660186409950256,\n",
       "  0.5635261535644531,\n",
       "  0.5625637173652649,\n",
       "  0.5578954219818115,\n",
       "  0.5563939213752747,\n",
       "  0.5557050704956055,\n",
       "  0.5548427700996399,\n",
       "  0.5529617071151733,\n",
       "  0.5497671961784363,\n",
       "  0.5505266785621643,\n",
       "  0.5455414056777954,\n",
       "  0.5424551963806152,\n",
       "  0.5416626930236816,\n",
       "  0.540561318397522,\n",
       "  0.539304256439209,\n",
       "  0.5356658697128296,\n",
       "  0.5359862446784973,\n",
       "  0.5313783288002014,\n",
       "  0.5351578593254089,\n",
       "  0.530997633934021,\n",
       "  0.5318059325218201,\n",
       "  0.5270411968231201],\n",
       " 'mse': [0.7512064576148987,\n",
       "  0.6713409423828125,\n",
       "  0.6479830741882324,\n",
       "  0.6366281509399414,\n",
       "  0.6284306645393372,\n",
       "  0.6235662698745728,\n",
       "  0.6197254061698914,\n",
       "  0.6140696406364441,\n",
       "  0.6139525175094604,\n",
       "  0.608763575553894,\n",
       "  0.6087964773178101,\n",
       "  0.6090925931930542,\n",
       "  0.6078205704689026,\n",
       "  0.6049016118049622,\n",
       "  0.6018759608268738,\n",
       "  0.601567268371582,\n",
       "  0.6011996269226074,\n",
       "  0.594953715801239,\n",
       "  0.5933656096458435,\n",
       "  0.5937353372573853,\n",
       "  0.5895199775695801,\n",
       "  0.5873669385910034,\n",
       "  0.5854536890983582,\n",
       "  0.58172607421875,\n",
       "  0.5791833400726318,\n",
       "  0.5764384865760803,\n",
       "  0.5710066556930542,\n",
       "  0.5700132846832275,\n",
       "  0.5660186409950256,\n",
       "  0.5635261535644531,\n",
       "  0.5625637173652649,\n",
       "  0.5578954219818115,\n",
       "  0.5563939213752747,\n",
       "  0.5557050704956055,\n",
       "  0.5548427700996399,\n",
       "  0.5529617071151733,\n",
       "  0.5497671961784363,\n",
       "  0.5505266785621643,\n",
       "  0.5455414056777954,\n",
       "  0.5424551963806152,\n",
       "  0.5416626930236816,\n",
       "  0.540561318397522,\n",
       "  0.539304256439209,\n",
       "  0.5356658697128296,\n",
       "  0.5359862446784973,\n",
       "  0.5313783288002014,\n",
       "  0.5351578593254089,\n",
       "  0.530997633934021,\n",
       "  0.5318059325218201,\n",
       "  0.5270411968231201],\n",
       " 'val_loss': [0.6820112466812134,\n",
       "  0.6643249988555908,\n",
       "  0.6483888030052185,\n",
       "  0.6332377195358276,\n",
       "  0.662250280380249,\n",
       "  0.6320714950561523,\n",
       "  0.6261091232299805,\n",
       "  0.6346474885940552,\n",
       "  0.6182187795639038,\n",
       "  0.6167274713516235,\n",
       "  0.6350417733192444,\n",
       "  0.6255432367324829,\n",
       "  0.6332529187202454,\n",
       "  0.613525927066803,\n",
       "  0.6156678795814514,\n",
       "  0.6307123303413391,\n",
       "  0.6170886158943176,\n",
       "  0.6121970415115356,\n",
       "  0.6110643744468689,\n",
       "  0.6081493496894836,\n",
       "  0.612062394618988,\n",
       "  0.6095932722091675,\n",
       "  0.6053434014320374,\n",
       "  0.6217173337936401,\n",
       "  0.6109580397605896,\n",
       "  0.6022965312004089,\n",
       "  0.5976049900054932,\n",
       "  0.5913965702056885,\n",
       "  0.5956612229347229,\n",
       "  0.6015855073928833,\n",
       "  0.5866009593009949,\n",
       "  0.5953212976455688,\n",
       "  0.5927740931510925,\n",
       "  0.5880500078201294,\n",
       "  0.590254545211792,\n",
       "  0.5837114453315735,\n",
       "  0.585386335849762,\n",
       "  0.5946636199951172,\n",
       "  0.5892845392227173,\n",
       "  0.584585964679718,\n",
       "  0.5874304175376892,\n",
       "  0.5909227728843689,\n",
       "  0.5881557464599609,\n",
       "  0.592562735080719,\n",
       "  0.586920976638794,\n",
       "  0.5858811736106873,\n",
       "  0.6016228795051575,\n",
       "  0.5821714401245117,\n",
       "  0.5876933336257935,\n",
       "  0.625865638256073],\n",
       " 'val_mse': [0.6820112466812134,\n",
       "  0.6643249988555908,\n",
       "  0.6483888030052185,\n",
       "  0.6332377195358276,\n",
       "  0.662250280380249,\n",
       "  0.6320714950561523,\n",
       "  0.6261091232299805,\n",
       "  0.6346474885940552,\n",
       "  0.6182187795639038,\n",
       "  0.6167274713516235,\n",
       "  0.6350417733192444,\n",
       "  0.6255432367324829,\n",
       "  0.6332529187202454,\n",
       "  0.613525927066803,\n",
       "  0.6156678795814514,\n",
       "  0.6307123303413391,\n",
       "  0.6170886158943176,\n",
       "  0.6121970415115356,\n",
       "  0.6110643744468689,\n",
       "  0.6081493496894836,\n",
       "  0.612062394618988,\n",
       "  0.6095932722091675,\n",
       "  0.6053434014320374,\n",
       "  0.6217173337936401,\n",
       "  0.6109580397605896,\n",
       "  0.6022965312004089,\n",
       "  0.5976049900054932,\n",
       "  0.5913965702056885,\n",
       "  0.5956612229347229,\n",
       "  0.6015855073928833,\n",
       "  0.5866009593009949,\n",
       "  0.5953212976455688,\n",
       "  0.5927740931510925,\n",
       "  0.5880500078201294,\n",
       "  0.590254545211792,\n",
       "  0.5837114453315735,\n",
       "  0.585386335849762,\n",
       "  0.5946636199951172,\n",
       "  0.5892845392227173,\n",
       "  0.584585964679718,\n",
       "  0.5874304175376892,\n",
       "  0.5909227728843689,\n",
       "  0.5881557464599609,\n",
       "  0.592562735080719,\n",
       "  0.586920976638794,\n",
       "  0.5858811736106873,\n",
       "  0.6016228795051575,\n",
       "  0.5821714401245117,\n",
       "  0.5876933336257935,\n",
       "  0.625865638256073]}"
      ]
     },
     "execution_count": 103,
     "metadata": {},
     "output_type": "execute_result"
    }
   ],
   "source": [
    "r.history"
   ]
  },
  {
   "cell_type": "code",
   "execution_count": null,
   "metadata": {},
   "outputs": [],
   "source": []
  },
  {
   "cell_type": "code",
   "execution_count": 104,
   "metadata": {},
   "outputs": [
    {
     "data": {
      "image/png": "[encoded data removed]",
      "text/plain": [
       "<Figure size 432x288 with 1 Axes>"
      ]
     },
     "metadata": {
      "needs_background": "light"
     },
     "output_type": "display_data"
    }
   ],
   "source": [
    "plt.plot(r.history['loss'], label=\"train loss\")\n",
    "plt.plot(r.history['val_loss'], label=\"test loss\")\n",
    "plt.legend()\n",
    "plt.show()"
   ]
  },
  {
   "cell_type": "code",
   "execution_count": 105,
   "metadata": {},
   "outputs": [
    {
     "data": {
      "image/png": "[encoded data removed]",
      "text/plain": [
       "<Figure size 432x288 with 1 Axes>"
      ]
     },
     "metadata": {
      "needs_background": "light"
     },
     "output_type": "display_data"
    }
   ],
   "source": [
    "plt.plot(r.history['mse'], label=\"train mse\")\n",
    "plt.plot(r.history['val_mse'], label=\"test mse\")\n",
    "plt.legend()\n",
    "plt.show()"
   ]
  },
  {
   "cell_type": "code",
   "execution_count": null,
   "metadata": {},
   "outputs": [],
   "source": []
  },
  {
   "cell_type": "code",
   "execution_count": 107,
   "metadata": {},
   "outputs": [],
   "source": [
    "from scipy.sparse import csr_matrix"
   ]
  },
  {
   "cell_type": "code",
   "execution_count": 122,
   "metadata": {},
   "outputs": [],
   "source": [
    "df2_shuffled = shuffle(df2)\n",
    "cutoff = int(0.8 * len(df2))\n",
    "train = df2_shuffled.iloc[:cutoff]\n",
    "test = df2_shuffled.iloc[cutoff:]"
   ]
  },
  {
   "cell_type": "code",
   "execution_count": 123,
   "metadata": {},
   "outputs": [],
   "source": [
    "N = df2.userId.max() + 1\n",
    "M = df2.movieId.max() + 1\n",
    "A = csr_matrix((train.rating, (train.userId, train.movieId)), shape=(N, M))\n",
    "A_test = csr_matrix((test.rating, (test.userId, test.movieId)), shape=(N, M))"
   ]
  },
  {
   "cell_type": "code",
   "execution_count": 150,
   "metadata": {},
   "outputs": [
    {
     "data": {
      "text/plain": [
       "(500, 200)"
      ]
     },
     "execution_count": 150,
     "metadata": {},
     "output_type": "execute_result"
    }
   ],
   "source": [
    "N, M"
   ]
  },
  {
   "cell_type": "code",
   "execution_count": 127,
   "metadata": {},
   "outputs": [],
   "source": [
    "mask = (A > 0) * 1.0\n",
    "mask_test = (A_test > 0) * 1.0"
   ]
  },
  {
   "cell_type": "code",
   "execution_count": 130,
   "metadata": {},
   "outputs": [],
   "source": [
    "mu = A.sum() / mask.sum()"
   ]
  },
  {
   "cell_type": "code",
   "execution_count": 131,
   "metadata": {},
   "outputs": [
    {
     "data": {
      "text/plain": [
       "3.654337398139051"
      ]
     },
     "execution_count": 131,
     "metadata": {},
     "output_type": "execute_result"
    }
   ],
   "source": [
    "mu"
   ]
  },
  {
   "cell_type": "code",
   "execution_count": 133,
   "metadata": {},
   "outputs": [],
   "source": [
    "import keras.backend as K"
   ]
  },
  {
   "cell_type": "code",
   "execution_count": 218,
   "metadata": {},
   "outputs": [],
   "source": [
    "def custome_loss(y_true, y_pred):\n",
    "    mask = K.cast(K.not_equal(y_true, 0), dtype='float32')\n",
    "    diff = y_pred - y_true\n",
    "    sqdiff = diff * diff * mask\n",
    "    sse = K.sum(K.sum(sqdiff))\n",
    "    n = K.sum(K.sum(mask))\n",
    "    return sse / n\n",
    "\n",
    "batch_size=128\n",
    "reg = 0.00001\n",
    "\n",
    "def generator(A, M):\n",
    "    while True:\n",
    "        A, M = shuffle(A, M)\n",
    "        for i in range(A.shape[0] // batch_size + 1):\n",
    "            upper = min((i+1)*batch_size, A.shape[0])\n",
    "            a = A[i*batch_size:upper].toarray()\n",
    "            m = M[i*batch_size:upper].toarray()\n",
    "            a = a - mu * m\n",
    "            noisy = a\n",
    "            yield noisy, a\n",
    "\n",
    "def test_generator(A, M, A_test, M_test):\n",
    "    while True:\n",
    "        for i in range(A.shape[0] // batch_size + 1):\n",
    "            upper = min((i+1) * batch_size, A.shape[0])\n",
    "            a = A[i*batch_size:upper].toarray()\n",
    "            m = M[i*batch_size:upper].toarray()\n",
    "            at = A_test[i*batch_size:upper].toarray()\n",
    "            mt = M_test[i*batch_size:upper].toarray()\n",
    "            a = a - mu * m\n",
    "            at = at - mu * mt\n",
    "            yield a, at\n"
   ]
  },
  {
   "cell_type": "code",
   "execution_count": 219,
   "metadata": {},
   "outputs": [],
   "source": [
    "i = Input(shape=(M,))\n",
    "x = Dropout(0.7)(i)\n",
    "x = Dense(100, activation='tanh', kernel_regularizer=l2(reg))(x)\n",
    "outputs = Dense(M, kernel_regularizer=l2(reg))(x)\n",
    "\n",
    "model = Model(inputs = i, outputs = outputs)"
   ]
  },
  {
   "cell_type": "code",
   "execution_count": 220,
   "metadata": {},
   "outputs": [
    {
     "name": "stdout",
     "output_type": "stream",
     "text": [
      "Model: \"model_31\"\n",
      "_________________________________________________________________\n",
      " Layer (type)                Output Shape              Param #   \n",
      "=================================================================\n",
      " input_47 (InputLayer)       [(None, 200)]             0         \n",
      "                                                                 \n",
      " dropout_24 (Dropout)        (None, 200)               0         \n",
      "                                                                 \n",
      " dense_68 (Dense)            (None, 100)               20100     \n",
      "                                                                 \n",
      " dense_69 (Dense)            (None, 200)               20200     \n",
      "                                                                 \n",
      "=================================================================\n",
      "Total params: 40,300\n",
      "Trainable params: 40,300\n",
      "Non-trainable params: 0\n",
      "_________________________________________________________________\n"
     ]
    }
   ],
   "source": [
    "model.summary()"
   ]
  },
  {
   "cell_type": "code",
   "execution_count": 221,
   "metadata": {},
   "outputs": [
    {
     "name": "stdout",
     "output_type": "stream",
     "text": [
      "Epoch 1/100\n",
      "4/4 [==============================] - 1s 56ms/step - loss: 1.3543 - custome_loss: 1.3506 - val_loss: 1.1629 - val_custome_loss: 1.1593\n",
      "Epoch 2/100\n",
      "4/4 [==============================] - 0s 11ms/step - loss: 1.3134 - custome_loss: 1.3098 - val_loss: 1.0974 - val_custome_loss: 1.0937\n",
      "Epoch 3/100\n",
      "4/4 [==============================] - 0s 11ms/step - loss: 1.2538 - custome_loss: 1.2496 - val_loss: 1.0244 - val_custome_loss: 1.0207\n",
      "Epoch 4/100\n",
      "4/4 [==============================] - 0s 11ms/step - loss: 1.1897 - custome_loss: 1.1862 - val_loss: 0.9552 - val_custome_loss: 0.9515\n",
      "Epoch 5/100\n",
      "4/4 [==============================] - 0s 12ms/step - loss: 1.1147 - custome_loss: 1.1109 - val_loss: 0.8941 - val_custome_loss: 0.8904\n",
      "Epoch 6/100\n",
      "4/4 [==============================] - 0s 12ms/step - loss: 1.0452 - custome_loss: 1.0433 - val_loss: 0.8425 - val_custome_loss: 0.8388\n",
      "Epoch 7/100\n",
      "4/4 [==============================] - 0s 12ms/step - loss: 0.9846 - custome_loss: 0.9826 - val_loss: 0.8014 - val_custome_loss: 0.7976\n",
      "Epoch 8/100\n",
      "4/4 [==============================] - 0s 11ms/step - loss: 0.9234 - custome_loss: 0.9188 - val_loss: 0.7715 - val_custome_loss: 0.7678\n",
      "Epoch 9/100\n",
      "4/4 [==============================] - 0s 12ms/step - loss: 0.8831 - custome_loss: 0.8809 - val_loss: 0.7504 - val_custome_loss: 0.7467\n",
      "Epoch 10/100\n",
      "4/4 [==============================] - 0s 12ms/step - loss: 0.8398 - custome_loss: 0.8363 - val_loss: 0.7355 - val_custome_loss: 0.7318\n",
      "Epoch 11/100\n",
      "4/4 [==============================] - 0s 12ms/step - loss: 0.8161 - custome_loss: 0.8141 - val_loss: 0.7242 - val_custome_loss: 0.7206\n",
      "Epoch 12/100\n",
      "4/4 [==============================] - 0s 12ms/step - loss: 0.7882 - custome_loss: 0.7845 - val_loss: 0.7152 - val_custome_loss: 0.7116\n",
      "Epoch 13/100\n",
      "4/4 [==============================] - 0s 12ms/step - loss: 0.7715 - custome_loss: 0.7693 - val_loss: 0.7074 - val_custome_loss: 0.7038\n",
      "Epoch 14/100\n",
      "4/4 [==============================] - 0s 12ms/step - loss: 0.7600 - custome_loss: 0.7575 - val_loss: 0.7008 - val_custome_loss: 0.6973\n",
      "Epoch 15/100\n",
      "4/4 [==============================] - 0s 12ms/step - loss: 0.7470 - custome_loss: 0.7457 - val_loss: 0.6943 - val_custome_loss: 0.6908\n",
      "Epoch 16/100\n",
      "4/4 [==============================] - 0s 11ms/step - loss: 0.7359 - custome_loss: 0.7325 - val_loss: 0.6882 - val_custome_loss: 0.6847\n",
      "Epoch 17/100\n",
      "4/4 [==============================] - 0s 11ms/step - loss: 0.7209 - custome_loss: 0.7174 - val_loss: 0.6823 - val_custome_loss: 0.6788\n",
      "Epoch 18/100\n",
      "4/4 [==============================] - 0s 17ms/step - loss: 0.7146 - custome_loss: 0.7124 - val_loss: 0.6766 - val_custome_loss: 0.6732\n",
      "Epoch 19/100\n",
      "4/4 [==============================] - 0s 12ms/step - loss: 0.7054 - custome_loss: 0.7048 - val_loss: 0.6714 - val_custome_loss: 0.6680\n",
      "Epoch 20/100\n",
      "4/4 [==============================] - 0s 11ms/step - loss: 0.6971 - custome_loss: 0.6944 - val_loss: 0.6664 - val_custome_loss: 0.6630\n",
      "Epoch 21/100\n",
      "4/4 [==============================] - 0s 11ms/step - loss: 0.6902 - custome_loss: 0.6878 - val_loss: 0.6618 - val_custome_loss: 0.6584\n",
      "Epoch 22/100\n",
      "4/4 [==============================] - 0s 11ms/step - loss: 0.6841 - custome_loss: 0.6820 - val_loss: 0.6579 - val_custome_loss: 0.6546\n",
      "Epoch 23/100\n",
      "4/4 [==============================] - 0s 11ms/step - loss: 0.6772 - custome_loss: 0.6744 - val_loss: 0.6546 - val_custome_loss: 0.6512\n",
      "Epoch 24/100\n",
      "4/4 [==============================] - 0s 11ms/step - loss: 0.6678 - custome_loss: 0.6656 - val_loss: 0.6512 - val_custome_loss: 0.6479\n",
      "Epoch 25/100\n",
      "4/4 [==============================] - 0s 11ms/step - loss: 0.6683 - custome_loss: 0.6661 - val_loss: 0.6481 - val_custome_loss: 0.6448\n",
      "Epoch 26/100\n",
      "4/4 [==============================] - 0s 11ms/step - loss: 0.6558 - custome_loss: 0.6546 - val_loss: 0.6452 - val_custome_loss: 0.6419\n",
      "Epoch 27/100\n",
      "4/4 [==============================] - 0s 10ms/step - loss: 0.6555 - custome_loss: 0.6521 - val_loss: 0.6425 - val_custome_loss: 0.6392\n",
      "Epoch 28/100\n",
      "4/4 [==============================] - 0s 11ms/step - loss: 0.6465 - custome_loss: 0.6446 - val_loss: 0.6396 - val_custome_loss: 0.6364\n",
      "Epoch 29/100\n",
      "4/4 [==============================] - 0s 11ms/step - loss: 0.6451 - custome_loss: 0.6431 - val_loss: 0.6371 - val_custome_loss: 0.6338\n",
      "Epoch 30/100\n",
      "4/4 [==============================] - 0s 11ms/step - loss: 0.6372 - custome_loss: 0.6361 - val_loss: 0.6347 - val_custome_loss: 0.6315\n",
      "Epoch 31/100\n",
      "4/4 [==============================] - 0s 11ms/step - loss: 0.6342 - custome_loss: 0.6314 - val_loss: 0.6326 - val_custome_loss: 0.6293\n",
      "Epoch 32/100\n",
      "4/4 [==============================] - 0s 11ms/step - loss: 0.6310 - custome_loss: 0.6292 - val_loss: 0.6308 - val_custome_loss: 0.6276\n",
      "Epoch 33/100\n",
      "4/4 [==============================] - 0s 11ms/step - loss: 0.6208 - custome_loss: 0.6183 - val_loss: 0.6290 - val_custome_loss: 0.6258\n",
      "Epoch 34/100\n",
      "4/4 [==============================] - 0s 11ms/step - loss: 0.6210 - custome_loss: 0.6192 - val_loss: 0.6275 - val_custome_loss: 0.6243\n",
      "Epoch 35/100\n",
      "4/4 [==============================] - 0s 11ms/step - loss: 0.6225 - custome_loss: 0.6196 - val_loss: 0.6262 - val_custome_loss: 0.6230\n",
      "Epoch 36/100\n",
      "4/4 [==============================] - 0s 11ms/step - loss: 0.6140 - custome_loss: 0.6125 - val_loss: 0.6250 - val_custome_loss: 0.6218\n",
      "Epoch 37/100\n",
      "4/4 [==============================] - 0s 11ms/step - loss: 0.6049 - custome_loss: 0.6025 - val_loss: 0.6235 - val_custome_loss: 0.6203\n",
      "Epoch 38/100\n",
      "4/4 [==============================] - 0s 11ms/step - loss: 0.6055 - custome_loss: 0.6029 - val_loss: 0.6218 - val_custome_loss: 0.6186\n",
      "Epoch 39/100\n",
      "4/4 [==============================] - 0s 11ms/step - loss: 0.6052 - custome_loss: 0.6037 - val_loss: 0.6201 - val_custome_loss: 0.6169\n",
      "Epoch 40/100\n",
      "4/4 [==============================] - 0s 11ms/step - loss: 0.6032 - custome_loss: 0.6016 - val_loss: 0.6184 - val_custome_loss: 0.6153\n",
      "Epoch 41/100\n",
      "4/4 [==============================] - 0s 11ms/step - loss: 0.6010 - custome_loss: 0.5982 - val_loss: 0.6172 - val_custome_loss: 0.6140\n",
      "Epoch 42/100\n",
      "4/4 [==============================] - 0s 11ms/step - loss: 0.5967 - custome_loss: 0.5948 - val_loss: 0.6159 - val_custome_loss: 0.6128\n",
      "Epoch 43/100\n",
      "4/4 [==============================] - 0s 11ms/step - loss: 0.5973 - custome_loss: 0.5951 - val_loss: 0.6148 - val_custome_loss: 0.6116\n",
      "Epoch 44/100\n",
      "4/4 [==============================] - 0s 11ms/step - loss: 0.5924 - custome_loss: 0.5902 - val_loss: 0.6136 - val_custome_loss: 0.6104\n",
      "Epoch 45/100\n",
      "4/4 [==============================] - 0s 11ms/step - loss: 0.5912 - custome_loss: 0.5887 - val_loss: 0.6125 - val_custome_loss: 0.6094\n",
      "Epoch 46/100\n",
      "4/4 [==============================] - 0s 11ms/step - loss: 0.5822 - custome_loss: 0.5804 - val_loss: 0.6113 - val_custome_loss: 0.6082\n",
      "Epoch 47/100\n",
      "4/4 [==============================] - 0s 11ms/step - loss: 0.5879 - custome_loss: 0.5859 - val_loss: 0.6103 - val_custome_loss: 0.6072\n",
      "Epoch 48/100\n",
      "4/4 [==============================] - 0s 11ms/step - loss: 0.5799 - custome_loss: 0.5775 - val_loss: 0.6096 - val_custome_loss: 0.6065\n",
      "Epoch 49/100\n",
      "4/4 [==============================] - 0s 11ms/step - loss: 0.5813 - custome_loss: 0.5798 - val_loss: 0.6086 - val_custome_loss: 0.6056\n",
      "Epoch 50/100\n",
      "4/4 [==============================] - 0s 11ms/step - loss: 0.5750 - custome_loss: 0.5731 - val_loss: 0.6078 - val_custome_loss: 0.6048\n",
      "Epoch 51/100\n",
      "4/4 [==============================] - 0s 15ms/step - loss: 0.5750 - custome_loss: 0.5738 - val_loss: 0.6070 - val_custome_loss: 0.6039\n",
      "Epoch 52/100\n",
      "4/4 [==============================] - 0s 12ms/step - loss: 0.5721 - custome_loss: 0.5697 - val_loss: 0.6061 - val_custome_loss: 0.6030\n",
      "Epoch 53/100\n",
      "4/4 [==============================] - 0s 11ms/step - loss: 0.5717 - custome_loss: 0.5701 - val_loss: 0.6050 - val_custome_loss: 0.6019\n",
      "Epoch 54/100\n",
      "4/4 [==============================] - 0s 11ms/step - loss: 0.5658 - custome_loss: 0.5635 - val_loss: 0.6042 - val_custome_loss: 0.6012\n",
      "Epoch 55/100\n",
      "4/4 [==============================] - 0s 12ms/step - loss: 0.5663 - custome_loss: 0.5644 - val_loss: 0.6034 - val_custome_loss: 0.6004\n",
      "Epoch 56/100\n",
      "4/4 [==============================] - 0s 11ms/step - loss: 0.5643 - custome_loss: 0.5622 - val_loss: 0.6026 - val_custome_loss: 0.5996\n",
      "Epoch 57/100\n",
      "4/4 [==============================] - 0s 11ms/step - loss: 0.5596 - custome_loss: 0.5574 - val_loss: 0.6018 - val_custome_loss: 0.5988\n",
      "Epoch 58/100\n",
      "4/4 [==============================] - 0s 11ms/step - loss: 0.5601 - custome_loss: 0.5580 - val_loss: 0.6012 - val_custome_loss: 0.5981\n",
      "Epoch 59/100\n",
      "4/4 [==============================] - 0s 11ms/step - loss: 0.5548 - custome_loss: 0.5528 - val_loss: 0.6007 - val_custome_loss: 0.5977\n",
      "Epoch 60/100\n",
      "4/4 [==============================] - 0s 11ms/step - loss: 0.5578 - custome_loss: 0.5560 - val_loss: 0.6002 - val_custome_loss: 0.5972\n",
      "Epoch 61/100\n",
      "4/4 [==============================] - 0s 11ms/step - loss: 0.5564 - custome_loss: 0.5547 - val_loss: 0.5996 - val_custome_loss: 0.5966\n",
      "Epoch 62/100\n",
      "4/4 [==============================] - 0s 11ms/step - loss: 0.5534 - custome_loss: 0.5520 - val_loss: 0.5990 - val_custome_loss: 0.5960\n",
      "Epoch 63/100\n",
      "4/4 [==============================] - 0s 11ms/step - loss: 0.5559 - custome_loss: 0.5537 - val_loss: 0.5984 - val_custome_loss: 0.5954\n",
      "Epoch 64/100\n",
      "4/4 [==============================] - 0s 11ms/step - loss: 0.5476 - custome_loss: 0.5458 - val_loss: 0.5978 - val_custome_loss: 0.5948\n",
      "Epoch 65/100\n",
      "4/4 [==============================] - 0s 11ms/step - loss: 0.5520 - custome_loss: 0.5499 - val_loss: 0.5973 - val_custome_loss: 0.5942\n",
      "Epoch 66/100\n",
      "4/4 [==============================] - 0s 11ms/step - loss: 0.5508 - custome_loss: 0.5493 - val_loss: 0.5967 - val_custome_loss: 0.5937\n",
      "Epoch 67/100\n",
      "4/4 [==============================] - 0s 11ms/step - loss: 0.5480 - custome_loss: 0.5467 - val_loss: 0.5961 - val_custome_loss: 0.5930\n",
      "Epoch 68/100\n",
      "4/4 [==============================] - 0s 11ms/step - loss: 0.5467 - custome_loss: 0.5454 - val_loss: 0.5954 - val_custome_loss: 0.5924\n",
      "Epoch 69/100\n",
      "4/4 [==============================] - 0s 11ms/step - loss: 0.5432 - custome_loss: 0.5421 - val_loss: 0.5950 - val_custome_loss: 0.5920\n",
      "Epoch 70/100\n",
      "4/4 [==============================] - 0s 11ms/step - loss: 0.5461 - custome_loss: 0.5451 - val_loss: 0.5946 - val_custome_loss: 0.5916\n",
      "Epoch 71/100\n",
      "4/4 [==============================] - 0s 11ms/step - loss: 0.5433 - custome_loss: 0.5409 - val_loss: 0.5941 - val_custome_loss: 0.5911\n",
      "Epoch 72/100\n",
      "4/4 [==============================] - 0s 11ms/step - loss: 0.5415 - custome_loss: 0.5401 - val_loss: 0.5935 - val_custome_loss: 0.5905\n",
      "Epoch 73/100\n",
      "4/4 [==============================] - 0s 11ms/step - loss: 0.5416 - custome_loss: 0.5397 - val_loss: 0.5928 - val_custome_loss: 0.5898\n",
      "Epoch 74/100\n",
      "4/4 [==============================] - 0s 11ms/step - loss: 0.5375 - custome_loss: 0.5358 - val_loss: 0.5923 - val_custome_loss: 0.5893\n",
      "Epoch 75/100\n",
      "4/4 [==============================] - 0s 11ms/step - loss: 0.5304 - custome_loss: 0.5291 - val_loss: 0.5918 - val_custome_loss: 0.5888\n",
      "Epoch 76/100\n",
      "4/4 [==============================] - 0s 11ms/step - loss: 0.5366 - custome_loss: 0.5359 - val_loss: 0.5913 - val_custome_loss: 0.5883\n",
      "Epoch 77/100\n",
      "4/4 [==============================] - 0s 11ms/step - loss: 0.5337 - custome_loss: 0.5319 - val_loss: 0.5911 - val_custome_loss: 0.5881\n",
      "Epoch 78/100\n",
      "4/4 [==============================] - 0s 11ms/step - loss: 0.5362 - custome_loss: 0.5347 - val_loss: 0.5909 - val_custome_loss: 0.5879\n",
      "Epoch 79/100\n",
      "4/4 [==============================] - 0s 11ms/step - loss: 0.5373 - custome_loss: 0.5358 - val_loss: 0.5906 - val_custome_loss: 0.5876\n",
      "Epoch 80/100\n",
      "4/4 [==============================] - 0s 11ms/step - loss: 0.5337 - custome_loss: 0.5317 - val_loss: 0.5903 - val_custome_loss: 0.5873\n",
      "Epoch 81/100\n",
      "4/4 [==============================] - 0s 11ms/step - loss: 0.5317 - custome_loss: 0.5306 - val_loss: 0.5900 - val_custome_loss: 0.5870\n",
      "Epoch 82/100\n",
      "4/4 [==============================] - 0s 11ms/step - loss: 0.5266 - custome_loss: 0.5245 - val_loss: 0.5896 - val_custome_loss: 0.5866\n",
      "Epoch 83/100\n",
      "4/4 [==============================] - 0s 11ms/step - loss: 0.5264 - custome_loss: 0.5243 - val_loss: 0.5892 - val_custome_loss: 0.5862\n",
      "Epoch 84/100\n",
      "4/4 [==============================] - 0s 11ms/step - loss: 0.5315 - custome_loss: 0.5305 - val_loss: 0.5888 - val_custome_loss: 0.5858\n",
      "Epoch 85/100\n",
      "4/4 [==============================] - 0s 11ms/step - loss: 0.5262 - custome_loss: 0.5251 - val_loss: 0.5883 - val_custome_loss: 0.5853\n",
      "Epoch 86/100\n",
      "4/4 [==============================] - 0s 18ms/step - loss: 0.5279 - custome_loss: 0.5260 - val_loss: 0.5880 - val_custome_loss: 0.5850\n",
      "Epoch 87/100\n",
      "4/4 [==============================] - 0s 11ms/step - loss: 0.5273 - custome_loss: 0.5258 - val_loss: 0.5877 - val_custome_loss: 0.5847\n",
      "Epoch 88/100\n",
      "4/4 [==============================] - 0s 11ms/step - loss: 0.5265 - custome_loss: 0.5247 - val_loss: 0.5874 - val_custome_loss: 0.5844\n",
      "Epoch 89/100\n",
      "4/4 [==============================] - 0s 11ms/step - loss: 0.5188 - custome_loss: 0.5166 - val_loss: 0.5870 - val_custome_loss: 0.5840\n",
      "Epoch 90/100\n",
      "4/4 [==============================] - 0s 11ms/step - loss: 0.5210 - custome_loss: 0.5196 - val_loss: 0.5866 - val_custome_loss: 0.5837\n",
      "Epoch 91/100\n",
      "4/4 [==============================] - 0s 11ms/step - loss: 0.5188 - custome_loss: 0.5165 - val_loss: 0.5864 - val_custome_loss: 0.5835\n",
      "Epoch 92/100\n",
      "4/4 [==============================] - 0s 11ms/step - loss: 0.5237 - custome_loss: 0.5219 - val_loss: 0.5860 - val_custome_loss: 0.5830\n",
      "Epoch 93/100\n",
      "4/4 [==============================] - 0s 11ms/step - loss: 0.5206 - custome_loss: 0.5205 - val_loss: 0.5855 - val_custome_loss: 0.5825\n",
      "Epoch 94/100\n",
      "4/4 [==============================] - 0s 11ms/step - loss: 0.5169 - custome_loss: 0.5148 - val_loss: 0.5852 - val_custome_loss: 0.5822\n",
      "Epoch 95/100\n",
      "4/4 [==============================] - 0s 11ms/step - loss: 0.5159 - custome_loss: 0.5137 - val_loss: 0.5849 - val_custome_loss: 0.5819\n",
      "Epoch 96/100\n",
      "4/4 [==============================] - 0s 11ms/step - loss: 0.5180 - custome_loss: 0.5159 - val_loss: 0.5844 - val_custome_loss: 0.5815\n",
      "Epoch 97/100\n",
      "4/4 [==============================] - 0s 11ms/step - loss: 0.5155 - custome_loss: 0.5151 - val_loss: 0.5841 - val_custome_loss: 0.5811\n",
      "Epoch 98/100\n",
      "4/4 [==============================] - 0s 11ms/step - loss: 0.5136 - custome_loss: 0.5126 - val_loss: 0.5839 - val_custome_loss: 0.5809\n",
      "Epoch 99/100\n",
      "4/4 [==============================] - 0s 11ms/step - loss: 0.5164 - custome_loss: 0.5143 - val_loss: 0.5837 - val_custome_loss: 0.5808\n",
      "Epoch 100/100\n",
      "4/4 [==============================] - 0s 11ms/step - loss: 0.5116 - custome_loss: 0.5094 - val_loss: 0.5834 - val_custome_loss: 0.5805\n"
     ]
    }
   ],
   "source": [
    "model.compile(\n",
    "    loss = custome_loss,\n",
    "    optimizer=SGD(learning_rate=0.07, momentum=0.9),\n",
    "    metrics=[custome_loss] \n",
    ")\n",
    "\n",
    "r = model.fit(\n",
    "    generator(A, mask),\n",
    "    validation_data=test_generator(A, mask, A_test, mask_test),\n",
    "    epochs=100,\n",
    "    steps_per_epoch=A.shape[0] // batch_size + 1,\n",
    "    validation_steps=A_test.shape[0] // batch_size + 1\n",
    ")"
   ]
  },
  {
   "cell_type": "code",
   "execution_count": 222,
   "metadata": {},
   "outputs": [
    {
     "data": {
      "image/png": "[encoded data removed]",
      "text/plain": [
       "<Figure size 432x288 with 1 Axes>"
      ]
     },
     "metadata": {
      "needs_background": "light"
     },
     "output_type": "display_data"
    }
   ],
   "source": [
    "plt.plot(r.history['loss'], label=\"train loss\")\n",
    "plt.plot(r.history['val_loss'], label=\"test loss\")\n",
    "plt.legend()\n",
    "plt.show()"
   ]
  },
  {
   "cell_type": "code",
   "execution_count": 223,
   "metadata": {},
   "outputs": [
    {
     "data": {
      "image/png": "[encoded data removed]",
      "text/plain": [
       "<Figure size 432x288 with 1 Axes>"
      ]
     },
     "metadata": {
      "needs_background": "light"
     },
     "output_type": "display_data"
    }
   ],
   "source": [
    "plt.plot(r.history['custome_loss'], label=\"train mse\")\n",
    "plt.plot(r.history['val_custome_loss'], label=\"test mse\")\n",
    "plt.legend()\n",
    "plt.show()"
   ]
  },
  {
   "cell_type": "code",
   "execution_count": null,
   "metadata": {},
   "outputs": [],
   "source": []
  }
 ],
 "metadata": {
  "kernelspec": {
   "display_name": "6.86x",
   "language": "python",
   "name": "python3"
  },
  "language_info": {
   "codemirror_mode": {
    "name": "ipython",
    "version": 3
   },
   "file_extension": ".py",
   "mimetype": "text/x-python",
   "name": "python",
   "nbconvert_exporter": "python",
   "pygments_lexer": "ipython3",
   "version": "3.9.12"
  },
  "orig_nbformat": 4,
  "vscode": {
   "interpreter": {
    "hash": "a753ad7429735aa118c0f067317ae5a330857701974315844cd454527ad11075"
   }
  }
 },
 "nbformat": 4,
 "nbformat_minor": 2
}
