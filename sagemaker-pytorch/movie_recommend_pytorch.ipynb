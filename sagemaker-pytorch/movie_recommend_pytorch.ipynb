{
 "cells": [
  {
   "attachments": {},
   "cell_type": "markdown",
   "metadata": {},
   "source": [
    "# Train and deploy a PyTorch NN model for movie rating on SageMaker"
   ]
  },
  {
   "attachments": {},
   "cell_type": "markdown",
   "metadata": {},
   "source": [
    "### Import libraries"
   ]
  },
  {
   "cell_type": "code",
   "execution_count": 1,
   "metadata": {},
   "outputs": [],
   "source": [
    "import numpy as np\n",
    "import pandas as pd\n",
    "import matplotlib.pyplot as plt\n",
    "import os\n",
    "import sagemaker\n",
    "from sagemaker import get_execution_role\n",
    "from sagemaker.pytorch import PyTorch\n",
    "import boto3\n",
    "from sklearn.utils import shuffle"
   ]
  },
  {
   "attachments": {},
   "cell_type": "markdown",
   "metadata": {},
   "source": [
    "### SageMaker configuration"
   ]
  },
  {
   "cell_type": "code",
   "execution_count": 2,
   "metadata": {},
   "outputs": [
    {
     "name": "stderr",
     "output_type": "stream",
     "text": [
      "Couldn't call 'get_role' to get Role ARN from role name ml_user_cli to get Role path.\n"
     ]
    },
    {
     "name": "stdout",
     "output_type": "stream",
     "text": [
      "arn:aws:iam::335220673881:role/service-role/AmazonSageMaker-ExecutionRole-20230328T205885\n",
      "sagemaker-us-east-1-335220673881\n"
     ]
    }
   ],
   "source": [
    "# create boto session and sagemaker session\n",
    "boto_session = boto3.Session(profile_name='ml_user_cli')\n",
    "region = boto_session.region_name\n",
    "sm_session = sagemaker.Session(boto_session=boto_session)\n",
    "\n",
    "# get sagemaker execution role\n",
    "try:\n",
    "    role = get_execution_role(sm_session)\n",
    "except ValueError:\n",
    "    iam = boto_session.client('iam')\n",
    "    role = iam.get_role(RoleName='AmazonSageMaker-ExecutionRole-20230328T205885')['Role']['Arn']\n",
    "    print(role)\n",
    "\n",
    "# set s3 bucket\n",
    "bucket = sm_session.default_bucket()\n",
    "print(bucket)"
   ]
  },
  {
   "attachments": {},
   "cell_type": "markdown",
   "metadata": {},
   "source": [
    "### Data preparation"
   ]
  },
  {
   "cell_type": "code",
   "execution_count": 3,
   "metadata": {},
   "outputs": [
    {
     "data": {
      "text/html": [
       "<div>\n",
       "<style scoped>\n",
       "    .dataframe tbody tr th:only-of-type {\n",
       "        vertical-align: middle;\n",
       "    }\n",
       "\n",
       "    .dataframe tbody tr th {\n",
       "        vertical-align: top;\n",
       "    }\n",
       "\n",
       "    .dataframe thead th {\n",
       "        text-align: right;\n",
       "    }\n",
       "</style>\n",
       "<table border=\"1\" class=\"dataframe\">\n",
       "  <thead>\n",
       "    <tr style=\"text-align: right;\">\n",
       "      <th></th>\n",
       "      <th>userId</th>\n",
       "      <th>movieId</th>\n",
       "      <th>rating</th>\n",
       "      <th>timestamp</th>\n",
       "    </tr>\n",
       "  </thead>\n",
       "  <tbody>\n",
       "    <tr>\n",
       "      <th>0</th>\n",
       "      <td>1</td>\n",
       "      <td>2</td>\n",
       "      <td>3.5</td>\n",
       "      <td>2005-04-02 23:53:47</td>\n",
       "    </tr>\n",
       "    <tr>\n",
       "      <th>1</th>\n",
       "      <td>1</td>\n",
       "      <td>29</td>\n",
       "      <td>3.5</td>\n",
       "      <td>2005-04-02 23:31:16</td>\n",
       "    </tr>\n",
       "    <tr>\n",
       "      <th>2</th>\n",
       "      <td>1</td>\n",
       "      <td>32</td>\n",
       "      <td>3.5</td>\n",
       "      <td>2005-04-02 23:33:39</td>\n",
       "    </tr>\n",
       "    <tr>\n",
       "      <th>3</th>\n",
       "      <td>1</td>\n",
       "      <td>47</td>\n",
       "      <td>3.5</td>\n",
       "      <td>2005-04-02 23:32:07</td>\n",
       "    </tr>\n",
       "    <tr>\n",
       "      <th>4</th>\n",
       "      <td>1</td>\n",
       "      <td>50</td>\n",
       "      <td>3.5</td>\n",
       "      <td>2005-04-02 23:29:40</td>\n",
       "    </tr>\n",
       "  </tbody>\n",
       "</table>\n",
       "</div>"
      ],
      "text/plain": [
       "   userId  movieId  rating            timestamp\n",
       "0       1        2     3.5  2005-04-02 23:53:47\n",
       "1       1       29     3.5  2005-04-02 23:31:16\n",
       "2       1       32     3.5  2005-04-02 23:33:39\n",
       "3       1       47     3.5  2005-04-02 23:32:07\n",
       "4       1       50     3.5  2005-04-02 23:29:40"
      ]
     },
     "execution_count": 3,
     "metadata": {},
     "output_type": "execute_result"
    }
   ],
   "source": [
    "df = pd.read_csv(\"rating.csv\")\n",
    "df.head()"
   ]
  },
  {
   "cell_type": "code",
   "execution_count": 4,
   "metadata": {},
   "outputs": [],
   "source": [
    "df = df.drop(\"timestamp\", axis=1)"
   ]
  },
  {
   "attachments": {},
   "cell_type": "markdown",
   "metadata": {},
   "source": [
    "check how many users and movies in the dataset."
   ]
  },
  {
   "cell_type": "code",
   "execution_count": 5,
   "metadata": {},
   "outputs": [
    {
     "name": "stdout",
     "output_type": "stream",
     "text": [
      "total number of users is 138493\n",
      "total number of movies is 26744\n",
      "minimum user ID is 1, maximum user ID is 138493\n",
      "minimum movie ID is 1, maximum movie ID is 131262\n"
     ]
    }
   ],
   "source": [
    "print(\"total number of users is {}\".format(df['userId'].nunique()))\n",
    "print(\"total number of movies is {}\".format(df['movieId'].nunique()))\n",
    "print(\"minimum user ID is {}, maximum user ID is {}\".format(df['userId'].min(), df['userId'].max()))\n",
    "print(\"minimum movie ID is {}, maximum movie ID is {}\".format(df['movieId'].min(), df['movieId'].max()))"
   ]
  },
  {
   "attachments": {},
   "cell_type": "markdown",
   "metadata": {},
   "source": [
    "Movie IDs are not continuous integers. We need to map them to new IDs."
   ]
  },
  {
   "cell_type": "code",
   "execution_count": 6,
   "metadata": {},
   "outputs": [],
   "source": [
    "user_ids = sorted(df['userId'].unique())\n",
    "movie_ids = sorted(df['movieId'].unique())\n",
    "map_userId = {v:i for i, v in enumerate(user_ids)}\n",
    "map_movieId = {v:i for i, v in enumerate(movie_ids)}\n",
    "df['new_user_id'] = df['userId'].map(map_userId)\n",
    "df['new_movie_id'] = df['movieId'].map(map_movieId)"
   ]
  },
  {
   "cell_type": "code",
   "execution_count": 7,
   "metadata": {},
   "outputs": [
    {
     "data": {
      "text/html": [
       "<div>\n",
       "<style scoped>\n",
       "    .dataframe tbody tr th:only-of-type {\n",
       "        vertical-align: middle;\n",
       "    }\n",
       "\n",
       "    .dataframe tbody tr th {\n",
       "        vertical-align: top;\n",
       "    }\n",
       "\n",
       "    .dataframe thead th {\n",
       "        text-align: right;\n",
       "    }\n",
       "</style>\n",
       "<table border=\"1\" class=\"dataframe\">\n",
       "  <thead>\n",
       "    <tr style=\"text-align: right;\">\n",
       "      <th></th>\n",
       "      <th>userId</th>\n",
       "      <th>movieId</th>\n",
       "      <th>rating</th>\n",
       "      <th>new_user_id</th>\n",
       "      <th>new_movie_id</th>\n",
       "    </tr>\n",
       "  </thead>\n",
       "  <tbody>\n",
       "    <tr>\n",
       "      <th>0</th>\n",
       "      <td>1</td>\n",
       "      <td>2</td>\n",
       "      <td>3.5</td>\n",
       "      <td>0</td>\n",
       "      <td>1</td>\n",
       "    </tr>\n",
       "    <tr>\n",
       "      <th>1</th>\n",
       "      <td>1</td>\n",
       "      <td>29</td>\n",
       "      <td>3.5</td>\n",
       "      <td>0</td>\n",
       "      <td>28</td>\n",
       "    </tr>\n",
       "    <tr>\n",
       "      <th>2</th>\n",
       "      <td>1</td>\n",
       "      <td>32</td>\n",
       "      <td>3.5</td>\n",
       "      <td>0</td>\n",
       "      <td>31</td>\n",
       "    </tr>\n",
       "    <tr>\n",
       "      <th>3</th>\n",
       "      <td>1</td>\n",
       "      <td>47</td>\n",
       "      <td>3.5</td>\n",
       "      <td>0</td>\n",
       "      <td>46</td>\n",
       "    </tr>\n",
       "    <tr>\n",
       "      <th>4</th>\n",
       "      <td>1</td>\n",
       "      <td>50</td>\n",
       "      <td>3.5</td>\n",
       "      <td>0</td>\n",
       "      <td>49</td>\n",
       "    </tr>\n",
       "  </tbody>\n",
       "</table>\n",
       "</div>"
      ],
      "text/plain": [
       "   userId  movieId  rating  new_user_id  new_movie_id\n",
       "0       1        2     3.5            0             1\n",
       "1       1       29     3.5            0            28\n",
       "2       1       32     3.5            0            31\n",
       "3       1       47     3.5            0            46\n",
       "4       1       50     3.5            0            49"
      ]
     },
     "execution_count": 7,
     "metadata": {},
     "output_type": "execute_result"
    }
   ],
   "source": [
    "df.head()"
   ]
  },
  {
   "attachments": {},
   "cell_type": "markdown",
   "metadata": {},
   "source": [
    "Split data into train and test dataset. Save them in the format of numpy array."
   ]
  },
  {
   "cell_type": "code",
   "execution_count": 8,
   "metadata": {},
   "outputs": [],
   "source": [
    "\n",
    "data = df[['new_user_id', 'new_movie_id', 'rating']].to_numpy()\n",
    "data = shuffle(data)\n",
    "N = len(data)\n",
    "idx_cut = int(N * 0.8)\n",
    "train_data = data[:idx_cut]\n",
    "test_data = data[idx_cut:]\n",
    "\n",
    "np.save('train/train_data.npy', train_data)\n",
    "np.save('test/test_data.npy', test_data)\n",
    "\n",
    "# also save the number of users and movies in a file. They will be used to construct the neural network\n",
    "N_users = df['new_user_id'].max() + 1\n",
    "N_movies = df['new_movie_id'].max() + 1\n",
    "\n",
    "with open('train/total_users_and_movies.txt', 'w') as f:\n",
    "    f.write(f\"{N_users},{N_movies}\")\n"
   ]
  },
  {
   "attachments": {},
   "cell_type": "markdown",
   "metadata": {},
   "source": [
    "upload data into s3 for training"
   ]
  },
  {
   "cell_type": "code",
   "execution_count": 9,
   "metadata": {},
   "outputs": [],
   "source": [
    "s3_client = boto_session.client('s3')\n",
    "s3_prefix = \"movieLens/\"\n",
    "train_file = \"train/train_data.npy\"\n",
    "test_file = \"test/test_data.npy\"\n",
    "param_file = \"train/total_users_and_movies.txt\"\n",
    "s3_client.upload_file(train_file, bucket, s3_prefix + train_file)\n",
    "s3_client.upload_file(test_file, bucket, s3_prefix + test_file)\n",
    "s3_client.upload_file(param_file, bucket, s3_prefix + param_file)"
   ]
  },
  {
   "attachments": {},
   "cell_type": "markdown",
   "metadata": {},
   "source": [
    "### train model"
   ]
  },
  {
   "cell_type": "code",
   "execution_count": 10,
   "metadata": {},
   "outputs": [],
   "source": [
    "hyperparameters = {\n",
    "    \"epochs\": 50,\n",
    "    \"batch_size\": 5120\n",
    "}"
   ]
  },
  {
   "cell_type": "code",
   "execution_count": 11,
   "metadata": {},
   "outputs": [],
   "source": [
    "from sagemaker.local import LocalSession\n",
    "\n",
    "# set local_mode to true to train the model on local machine. It is for testing the algorithm\n",
    "local_mode = False\n",
    "\n",
    "if local_mode:\n",
    "    sm_session = LocalSession(boto_session=boto3.Session(profile_name=\"ml_user_cli\"))\n",
    "    sm_session.config = {'local': {'local_code': True}}\n",
    "    role = 'arn:aws:iam::111111111111:role/service-role/AmazonSageMaker-ExecutionRole-20200101T000001'\n",
    "    train_instance_type = \"local\"\n",
    "    output_path = \"file://model/\"\n",
    "    inputs = {\n",
    "        \"train\": \"file://train/\",\n",
    "        \"test\": \"file://test/\"\n",
    "    }\n",
    "else:\n",
    "    train_instance_type = \"ml.c5.4xlarge\"\n",
    "    output_path = \"s3://{}/movieLens/model/\".format(bucket)\n",
    "    inputs = {\n",
    "        \"train\": \"s3://{}/movieLens/train/\".format(bucket),\n",
    "        \"test\": \"s3://{}/movieLens/test/\".format(bucket)\n",
    "    }"
   ]
  },
  {
   "cell_type": "code",
   "execution_count": 12,
   "metadata": {},
   "outputs": [
    {
     "data": {
      "text/plain": [
       "({'train': 's3://sagemaker-us-east-1-335220673881/movieLens/train/',\n",
       "  'test': 's3://sagemaker-us-east-1-335220673881/movieLens/test/'},\n",
       " 's3://sagemaker-us-east-1-335220673881/movieLens/model/')"
      ]
     },
     "execution_count": 12,
     "metadata": {},
     "output_type": "execute_result"
    }
   ],
   "source": [
    "inputs, output_path"
   ]
  },
  {
   "cell_type": "code",
   "execution_count": 13,
   "metadata": {},
   "outputs": [],
   "source": [
    "estimator = PyTorch(\n",
    "    entry_point=\"train_and_inference.py\",\n",
    "    source_dir=\"code\",\n",
    "    instance_type=train_instance_type,\n",
    "    instance_count = 1,\n",
    "    hyperparameters = hyperparameters,\n",
    "    sagemaker_session = sm_session,\n",
    "    role = role,\n",
    "    output_path=output_path,\n",
    "    base_job_name = \"pytorch-Model\",\n",
    "    framework_version=\"1.11\",\n",
    "    py_version=\"py38\"\n",
    ")"
   ]
  },
  {
   "cell_type": "code",
   "execution_count": 14,
   "metadata": {},
   "outputs": [
    {
     "name": "stderr",
     "output_type": "stream",
     "text": [
      "INFO:sagemaker.image_uris:image_uri is not presented, retrieving image_uri based on instance_type, framework etc.\n",
      "INFO:sagemaker:Creating training-job with name: pytorch-Model-2023-06-26-02-00-33-158\n"
     ]
    },
    {
     "name": "stdout",
     "output_type": "stream",
     "text": [
      "Using provided s3_resource\n",
      "2023-06-26 02:00:33 Starting - Starting the training job...\n",
      "2023-06-26 02:00:53 Starting - Preparing the instances for training......\n",
      "2023-06-26 02:01:55 Downloading - Downloading input data...\n",
      "2023-06-26 02:02:20 Training - Downloading the training image...\n",
      "2023-06-26 02:03:05 Training - Training image download completed. Training in progress....bash: cannot set terminal process group (-1): Inappropriate ioctl for device\n",
      "bash: no job control in this shell\n",
      "2023-06-25 22:03:27,132 sagemaker-training-toolkit INFO     Imported framework sagemaker_pytorch_container.training\n",
      "2023-06-25 22:03:27,134 sagemaker-training-toolkit INFO     No GPUs detected (normal if no gpus installed)\n",
      "2023-06-25 22:03:27,136 sagemaker-training-toolkit INFO     No Neurons detected (normal if no neurons installed)\n",
      "2023-06-25 22:03:27,146 sagemaker_pytorch_container.training INFO     Block until all host DNS lookups succeed.\n",
      "2023-06-25 22:03:27,148 sagemaker_pytorch_container.training INFO     Invoking user training script.\n",
      "2023-06-25 22:03:27,370 sagemaker-training-toolkit INFO     No GPUs detected (normal if no gpus installed)\n",
      "2023-06-25 22:03:27,372 sagemaker-training-toolkit INFO     No Neurons detected (normal if no neurons installed)\n",
      "2023-06-25 22:03:27,385 sagemaker-training-toolkit INFO     No GPUs detected (normal if no gpus installed)\n",
      "2023-06-25 22:03:27,387 sagemaker-training-toolkit INFO     No Neurons detected (normal if no neurons installed)\n",
      "2023-06-25 22:03:27,400 sagemaker-training-toolkit INFO     No GPUs detected (normal if no gpus installed)\n",
      "2023-06-25 22:03:27,403 sagemaker-training-toolkit INFO     No Neurons detected (normal if no neurons installed)\n",
      "2023-06-25 22:03:27,413 sagemaker-training-toolkit INFO     Invoking user script\n",
      "Training Env:\n",
      "{\n",
      "    \"additional_framework_parameters\": {},\n",
      "    \"channel_input_dirs\": {\n",
      "        \"test\": \"/opt/ml/input/data/test\",\n",
      "        \"train\": \"/opt/ml/input/data/train\"\n",
      "    },\n",
      "    \"current_host\": \"algo-1\",\n",
      "    \"current_instance_group\": \"homogeneousCluster\",\n",
      "    \"current_instance_group_hosts\": [\n",
      "        \"algo-1\"\n",
      "    ],\n",
      "    \"current_instance_type\": \"ml.c5.4xlarge\",\n",
      "    \"distribution_hosts\": [],\n",
      "    \"distribution_instance_groups\": [],\n",
      "    \"framework_module\": \"sagemaker_pytorch_container.training:main\",\n",
      "    \"hosts\": [\n",
      "        \"algo-1\"\n",
      "    ],\n",
      "    \"hyperparameters\": {\n",
      "        \"batch_size\": 5120,\n",
      "        \"epochs\": 50\n",
      "    },\n",
      "    \"input_config_dir\": \"/opt/ml/input/config\",\n",
      "    \"input_data_config\": {\n",
      "        \"test\": {\n",
      "            \"TrainingInputMode\": \"File\",\n",
      "            \"S3DistributionType\": \"FullyReplicated\",\n",
      "            \"RecordWrapperType\": \"None\"\n",
      "        },\n",
      "        \"train\": {\n",
      "            \"TrainingInputMode\": \"File\",\n",
      "            \"S3DistributionType\": \"FullyReplicated\",\n",
      "            \"RecordWrapperType\": \"None\"\n",
      "        }\n",
      "    },\n",
      "    \"input_dir\": \"/opt/ml/input\",\n",
      "    \"instance_groups\": [\n",
      "        \"homogeneousCluster\"\n",
      "    ],\n",
      "    \"instance_groups_dict\": {\n",
      "        \"homogeneousCluster\": {\n",
      "            \"instance_group_name\": \"homogeneousCluster\",\n",
      "            \"instance_type\": \"ml.c5.4xlarge\",\n",
      "            \"hosts\": [\n",
      "                \"algo-1\"\n",
      "            ]\n",
      "        }\n",
      "    },\n",
      "    \"is_hetero\": false,\n",
      "    \"is_master\": true,\n",
      "    \"is_modelparallel_enabled\": null,\n",
      "    \"is_smddpmprun_installed\": false,\n",
      "    \"job_name\": \"pytorch-Model-2023-06-26-02-00-33-158\",\n",
      "    \"log_level\": 20,\n",
      "    \"master_hostname\": \"algo-1\",\n",
      "    \"model_dir\": \"/opt/ml/model\",\n",
      "    \"module_dir\": \"s3://sagemaker-us-east-1-335220673881/pytorch-Model-2023-06-26-02-00-33-158/source/sourcedir.tar.gz\",\n",
      "    \"module_name\": \"train_and_inference\",\n",
      "    \"network_interface_name\": \"eth0\",\n",
      "    \"num_cpus\": 16,\n",
      "    \"num_gpus\": 0,\n",
      "    \"num_neurons\": 0,\n",
      "    \"output_data_dir\": \"/opt/ml/output/data\",\n",
      "    \"output_dir\": \"/opt/ml/output\",\n",
      "    \"output_intermediate_dir\": \"/opt/ml/output/intermediate\",\n",
      "    \"resource_config\": {\n",
      "        \"current_host\": \"algo-1\",\n",
      "        \"current_instance_type\": \"ml.c5.4xlarge\",\n",
      "        \"current_group_name\": \"homogeneousCluster\",\n",
      "        \"hosts\": [\n",
      "            \"algo-1\"\n",
      "        ],\n",
      "        \"instance_groups\": [\n",
      "            {\n",
      "                \"instance_group_name\": \"homogeneousCluster\",\n",
      "                \"instance_type\": \"ml.c5.4xlarge\",\n",
      "                \"hosts\": [\n",
      "                    \"algo-1\"\n",
      "                ]\n",
      "            }\n",
      "        ],\n",
      "        \"network_interface_name\": \"eth0\"\n",
      "    },\n",
      "    \"user_entry_point\": \"train_and_inference.py\"\n",
      "}\n",
      "Environment variables:\n",
      "SM_HOSTS=[\"algo-1\"]\n",
      "SM_NETWORK_INTERFACE_NAME=eth0\n",
      "SM_HPS={\"batch_size\":5120,\"epochs\":50}\n",
      "SM_USER_ENTRY_POINT=train_and_inference.py\n",
      "SM_FRAMEWORK_PARAMS={}\n",
      "SM_RESOURCE_CONFIG={\"current_group_name\":\"homogeneousCluster\",\"current_host\":\"algo-1\",\"current_instance_type\":\"ml.c5.4xlarge\",\"hosts\":[\"algo-1\"],\"instance_groups\":[{\"hosts\":[\"algo-1\"],\"instance_group_name\":\"homogeneousCluster\",\"instance_type\":\"ml.c5.4xlarge\"}],\"network_interface_name\":\"eth0\"}\n",
      "SM_INPUT_DATA_CONFIG={\"test\":{\"RecordWrapperType\":\"None\",\"S3DistributionType\":\"FullyReplicated\",\"TrainingInputMode\":\"File\"},\"train\":{\"RecordWrapperType\":\"None\",\"S3DistributionType\":\"FullyReplicated\",\"TrainingInputMode\":\"File\"}}\n",
      "SM_OUTPUT_DATA_DIR=/opt/ml/output/data\n",
      "SM_CHANNELS=[\"test\",\"train\"]\n",
      "SM_CURRENT_HOST=algo-1\n",
      "SM_CURRENT_INSTANCE_TYPE=ml.c5.4xlarge\n",
      "SM_CURRENT_INSTANCE_GROUP=homogeneousCluster\n",
      "SM_CURRENT_INSTANCE_GROUP_HOSTS=[\"algo-1\"]\n",
      "SM_INSTANCE_GROUPS=[\"homogeneousCluster\"]\n",
      "SM_INSTANCE_GROUPS_DICT={\"homogeneousCluster\":{\"hosts\":[\"algo-1\"],\"instance_group_name\":\"homogeneousCluster\",\"instance_type\":\"ml.c5.4xlarge\"}}\n",
      "SM_DISTRIBUTION_INSTANCE_GROUPS=[]\n",
      "SM_IS_HETERO=false\n",
      "SM_MODULE_NAME=train_and_inference\n",
      "SM_LOG_LEVEL=20\n",
      "SM_FRAMEWORK_MODULE=sagemaker_pytorch_container.training:main\n",
      "SM_INPUT_DIR=/opt/ml/input\n",
      "SM_INPUT_CONFIG_DIR=/opt/ml/input/config\n",
      "SM_OUTPUT_DIR=/opt/ml/output\n",
      "SM_NUM_CPUS=16\n",
      "SM_NUM_GPUS=0\n",
      "SM_NUM_NEURONS=0\n",
      "SM_MODEL_DIR=/opt/ml/model\n",
      "SM_MODULE_DIR=s3://sagemaker-us-east-1-335220673881/pytorch-Model-2023-06-26-02-00-33-158/source/sourcedir.tar.gz\n",
      "SM_TRAINING_ENV={\"additional_framework_parameters\":{},\"channel_input_dirs\":{\"test\":\"/opt/ml/input/data/test\",\"train\":\"/opt/ml/input/data/train\"},\"current_host\":\"algo-1\",\"current_instance_group\":\"homogeneousCluster\",\"current_instance_group_hosts\":[\"algo-1\"],\"current_instance_type\":\"ml.c5.4xlarge\",\"distribution_hosts\":[],\"distribution_instance_groups\":[],\"framework_module\":\"sagemaker_pytorch_container.training:main\",\"hosts\":[\"algo-1\"],\"hyperparameters\":{\"batch_size\":5120,\"epochs\":50},\"input_config_dir\":\"/opt/ml/input/config\",\"input_data_config\":{\"test\":{\"RecordWrapperType\":\"None\",\"S3DistributionType\":\"FullyReplicated\",\"TrainingInputMode\":\"File\"},\"train\":{\"RecordWrapperType\":\"None\",\"S3DistributionType\":\"FullyReplicated\",\"TrainingInputMode\":\"File\"}},\"input_dir\":\"/opt/ml/input\",\"instance_groups\":[\"homogeneousCluster\"],\"instance_groups_dict\":{\"homogeneousCluster\":{\"hosts\":[\"algo-1\"],\"instance_group_name\":\"homogeneousCluster\",\"instance_type\":\"ml.c5.4xlarge\"}},\"is_hetero\":false,\"is_master\":true,\"is_modelparallel_enabled\":null,\"is_smddpmprun_installed\":false,\"job_name\":\"pytorch-Model-2023-06-26-02-00-33-158\",\"log_level\":20,\"master_hostname\":\"algo-1\",\"model_dir\":\"/opt/ml/model\",\"module_dir\":\"s3://sagemaker-us-east-1-335220673881/pytorch-Model-2023-06-26-02-00-33-158/source/sourcedir.tar.gz\",\"module_name\":\"train_and_inference\",\"network_interface_name\":\"eth0\",\"num_cpus\":16,\"num_gpus\":0,\"num_neurons\":0,\"output_data_dir\":\"/opt/ml/output/data\",\"output_dir\":\"/opt/ml/output\",\"output_intermediate_dir\":\"/opt/ml/output/intermediate\",\"resource_config\":{\"current_group_name\":\"homogeneousCluster\",\"current_host\":\"algo-1\",\"current_instance_type\":\"ml.c5.4xlarge\",\"hosts\":[\"algo-1\"],\"instance_groups\":[{\"hosts\":[\"algo-1\"],\"instance_group_name\":\"homogeneousCluster\",\"instance_type\":\"ml.c5.4xlarge\"}],\"network_interface_name\":\"eth0\"},\"user_entry_point\":\"train_and_inference.py\"}\n",
      "SM_USER_ARGS=[\"--batch_size\",\"5120\",\"--epochs\",\"50\"]\n",
      "SM_OUTPUT_INTERMEDIATE_DIR=/opt/ml/output/intermediate\n",
      "SM_CHANNEL_TEST=/opt/ml/input/data/test\n",
      "SM_CHANNEL_TRAIN=/opt/ml/input/data/train\n",
      "SM_HP_BATCH_SIZE=5120\n",
      "SM_HP_EPOCHS=50\n",
      "PYTHONPATH=/opt/ml/code:/opt/conda/bin:/opt/conda/lib/python38.zip:/opt/conda/lib/python3.8:/opt/conda/lib/python3.8/lib-dynload:/opt/conda/lib/python3.8/site-packages:/opt/conda/lib/python3.8/site-packages/smdebug-1.0.26b20230214-py3.8.egg:/opt/conda/lib/python3.8/site-packages/pyinstrument-3.4.2-py3.8.egg:/opt/conda/lib/python3.8/site-packages/pyinstrument_cext-0.2.4-py3.8-linux-x86_64.egg\n",
      "Invoking script with the following command:\n",
      "/opt/conda/bin/python3.8 train_and_inference.py --batch_size 5120 --epochs 50\n",
      "2023-06-25 22:03:27,863 sagemaker-training-toolkit INFO     Exceptions not imported for SageMaker TF as Tensorflow is not installed.\n",
      "batch_size = 5120, epochs = 50\n",
      "train data shape: (16000210, 3), test data shape: (4000053, 3)\n",
      "number of users: 138493, number of movies: 26744\n",
      "epoch: 0, train loss: 0.9551613166670881, test loss: 0.8226406946968849, run time: 0:00:39.479120\n",
      "epoch: 1, train loss: 0.773900035856934, test loss: 0.7541080268142778, run time: 0:00:38.839230\n",
      "epoch: 2, train loss: 0.7395024583153593, test loss: 0.7450976328319295, run time: 0:00:38.733334\n",
      "epoch: 3, train loss: 0.7313757836246674, test loss: 0.738929828338306, run time: 0:00:42.085921\n",
      "epoch: 4, train loss: 0.7277766506182255, test loss: 0.7405770392064244, run time: 0:00:38.380570\n",
      "epoch: 5, train loss: 0.7252124659502575, test loss: 0.7367793731677258, run time: 0:00:38.784215\n",
      "epoch: 6, train loss: 0.7227350517068242, test loss: 0.7351969379903106, run time: 0:00:39.088962\n",
      "epoch: 7, train loss: 0.720135972771367, test loss: 0.7312677335708647, run time: 0:00:39.274172\n",
      "epoch: 8, train loss: 0.7170072207829163, test loss: 0.7294735667650657, run time: 0:00:39.451089\n",
      "epoch: 9, train loss: 0.713307412709476, test loss: 0.7253775208654916, run time: 0:00:39.268864\n",
      "epoch: 10, train loss: 0.7090996085110186, test loss: 0.7261198169130194, run time: 0:00:39.253544\n",
      "epoch: 11, train loss: 0.7042877495822736, test loss: 0.71913296754098, run time: 0:00:39.781856\n",
      "epoch: 12, train loss: 0.6993875389326404, test loss: 0.7162629353725697, run time: 0:00:38.785375\n",
      "epoch: 13, train loss: 0.6944355859790028, test loss: 0.7119455560089072, run time: 0:00:38.819605\n",
      "epoch: 14, train loss: 0.689823282028114, test loss: 0.7085175044701227, run time: 0:00:39.399702\n",
      "epoch: 15, train loss: 0.6854648028172061, test loss: 0.7049397722534512, run time: 0:00:38.565375\n",
      "epoch: 16, train loss: 0.6817526118883473, test loss: 0.7044210221304004, run time: 0:00:39.688042\n",
      "epoch: 17, train loss: 0.6784169463987771, test loss: 0.7012572439430315, run time: 0:00:39.160184\n",
      "epoch: 18, train loss: 0.6754719923683564, test loss: 0.6998990043959654, run time: 0:00:39.048200\n",
      "epoch: 19, train loss: 0.6729367089363069, test loss: 0.698385123935197, run time: 0:00:39.188695\n",
      "epoch: 20, train loss: 0.6707377378672114, test loss: 0.6978097084690543, run time: 0:00:38.959209\n",
      "epoch: 21, train loss: 0.6687782762985693, test loss: 0.6975539985977476, run time: 0:00:39.048894\n",
      "epoch: 22, train loss: 0.6670520634355258, test loss: 0.6986134485972811, run time: 0:00:37.735168\n",
      "epoch: 23, train loss: 0.6655817817436603, test loss: 0.6974411414712286, run time: 0:00:39.351184\n",
      "epoch: 24, train loss: 0.6639690169407936, test loss: 0.6959175106204684, run time: 0:00:39.649873\n",
      "epoch: 25, train loss: 0.6626589231893792, test loss: 0.6956955631218298, run time: 0:00:40.216249\n",
      "epoch: 26, train loss: 0.6613256827387685, test loss: 0.6957992325963267, run time: 0:00:39.258184\n",
      "epoch: 27, train loss: 0.6601618131383138, test loss: 0.6948432143386978, run time: 0:00:39.194866\n",
      "epoch: 28, train loss: 0.6589694565218073, test loss: 0.6962743732325561, run time: 0:00:39.755566\n",
      "epoch: 29, train loss: 0.6578703182901393, test loss: 0.6980138808260183, run time: 0:00:40.551393\n",
      "epoch: 30, train loss: 0.6568183340251408, test loss: 0.6957142384308378, run time: 0:00:39.807903\n",
      "epoch: 31, train loss: 0.6557108225039924, test loss: 0.696937586340453, run time: 0:00:39.804086\n",
      "epoch: 32, train loss: 0.6546809720977788, test loss: 0.6963023878729252, run time: 0:00:40.311067\n",
      "epoch: 33, train loss: 0.6536239848942308, test loss: 0.6974075363420159, run time: 0:00:39.228066\n",
      "epoch: 34, train loss: 0.6525679222872375, test loss: 0.6970585814827238, run time: 0:00:39.388551\n",
      "epoch: 35, train loss: 0.6516366113818615, test loss: 0.6966085388989705, run time: 0:00:39.363556\n",
      "epoch: 36, train loss: 0.650579628964227, test loss: 0.6968727347338596, run time: 0:00:39.220222\n",
      "epoch: 37, train loss: 0.6495848194346242, test loss: 0.6962046674297898, run time: 0:00:39.541216\n",
      "epoch: 38, train loss: 0.6486557022890675, test loss: 0.6978325501579763, run time: 0:00:37.761047\n",
      "epoch: 39, train loss: 0.647662552155826, test loss: 0.6990467464679953, run time: 0:00:36.847657\n",
      "epoch: 40, train loss: 0.6466318849028492, test loss: 0.6994764452700115, run time: 0:00:37.552093\n",
      "epoch: 41, train loss: 0.6455844278260827, test loss: 0.6975853287655375, run time: 0:00:37.372937\n",
      "epoch: 42, train loss: 0.6446172945101293, test loss: 0.6984397466377834, run time: 0:00:37.437149\n",
      "epoch: 43, train loss: 0.6436243135427254, test loss: 0.7012926597729363, run time: 0:00:37.860647\n",
      "epoch: 44, train loss: 0.642696086729633, test loss: 0.6979202836218392, run time: 0:00:37.504810\n",
      "epoch: 45, train loss: 0.6415720435570846, test loss: 0.699169544993764, run time: 0:00:37.517021\n",
      "epoch: 46, train loss: 0.640670076765773, test loss: 0.7008647461376531, run time: 0:00:37.847503\n",
      "epoch: 47, train loss: 0.6397159334870386, test loss: 0.6988860619494982, run time: 0:00:37.648138\n",
      "epoch: 48, train loss: 0.6386496473678167, test loss: 0.699483667645613, run time: 0:00:37.561791\n",
      "epoch: 49, train loss: 0.637654786508814, test loss: 0.7000630503267888, run time: 0:00:37.573563\n",
      "model saved to /opt/ml/model\n",
      "Created a floder at /opt/ml/model/code!\n",
      "Saving python code to /opt/ml/model/code.\n",
      "2023-06-25 22:35:55,373 sagemaker-training-toolkit INFO     Waiting for the process to finish and give a return code.\n",
      "2023-06-25 22:35:55,373 sagemaker-training-toolkit INFO     Done waiting for a return code. Received 0 from exiting process.\n",
      "2023-06-25 22:35:55,374 sagemaker-training-toolkit INFO     Reporting training SUCCESS\n",
      "\n",
      "2023-06-26 02:36:08 Uploading - Uploading generated training model\n",
      "2023-06-26 02:36:08 Completed - Training job completed\n",
      "Training seconds: 2053\n",
      "Billable seconds: 2053\n"
     ]
    }
   ],
   "source": [
    "estimator.fit(inputs)"
   ]
  },
  {
   "attachments": {},
   "cell_type": "markdown",
   "metadata": {},
   "source": [
    "Train and validation losses are stored in the output folder. Download the output data from s3 and visualize the results."
   ]
  },
  {
   "cell_type": "code",
   "execution_count": 15,
   "metadata": {},
   "outputs": [],
   "source": [
    "model_name = estimator._current_job_name\n",
    "s3_client.download_file(bucket, \"movieLens/model/\" + model_name + \"/output/output.tar.gz\", \"output/output.tar.gz\")"
   ]
  },
  {
   "cell_type": "code",
   "execution_count": 16,
   "metadata": {},
   "outputs": [],
   "source": [
    "!tar -xf output/output.tar.gz -C output/"
   ]
  },
  {
   "cell_type": "code",
   "execution_count": 17,
   "metadata": {},
   "outputs": [
    {
     "data": {
      "text/html": [
       "<div>\n",
       "<style scoped>\n",
       "    .dataframe tbody tr th:only-of-type {\n",
       "        vertical-align: middle;\n",
       "    }\n",
       "\n",
       "    .dataframe tbody tr th {\n",
       "        vertical-align: top;\n",
       "    }\n",
       "\n",
       "    .dataframe thead th {\n",
       "        text-align: right;\n",
       "    }\n",
       "</style>\n",
       "<table border=\"1\" class=\"dataframe\">\n",
       "  <thead>\n",
       "    <tr style=\"text-align: right;\">\n",
       "      <th></th>\n",
       "      <th>train_losses</th>\n",
       "      <th>test_losses</th>\n",
       "    </tr>\n",
       "  </thead>\n",
       "  <tbody>\n",
       "    <tr>\n",
       "      <th>0</th>\n",
       "      <td>0.955161</td>\n",
       "      <td>0.822641</td>\n",
       "    </tr>\n",
       "    <tr>\n",
       "      <th>1</th>\n",
       "      <td>0.773900</td>\n",
       "      <td>0.754108</td>\n",
       "    </tr>\n",
       "    <tr>\n",
       "      <th>2</th>\n",
       "      <td>0.739502</td>\n",
       "      <td>0.745098</td>\n",
       "    </tr>\n",
       "    <tr>\n",
       "      <th>3</th>\n",
       "      <td>0.731376</td>\n",
       "      <td>0.738930</td>\n",
       "    </tr>\n",
       "    <tr>\n",
       "      <th>4</th>\n",
       "      <td>0.727777</td>\n",
       "      <td>0.740577</td>\n",
       "    </tr>\n",
       "  </tbody>\n",
       "</table>\n",
       "</div>"
      ],
      "text/plain": [
       "   train_losses  test_losses\n",
       "0      0.955161     0.822641\n",
       "1      0.773900     0.754108\n",
       "2      0.739502     0.745098\n",
       "3      0.731376     0.738930\n",
       "4      0.727777     0.740577"
      ]
     },
     "execution_count": 17,
     "metadata": {},
     "output_type": "execute_result"
    }
   ],
   "source": [
    "loss_df = pd.read_csv(\"output/losses.csv\", index_col=0)\n",
    "loss_df.head()"
   ]
  },
  {
   "cell_type": "code",
   "execution_count": 18,
   "metadata": {},
   "outputs": [
    {
     "data": {
      "image/png": "[encoded data removed]",
      "text/plain": [
       "<Figure size 576x432 with 1 Axes>"
      ]
     },
     "metadata": {
      "needs_background": "light"
     },
     "output_type": "display_data"
    }
   ],
   "source": [
    "plt.figure(figsize=(8,6))\n",
    "plt.plot(loss_df['train_losses'], label=\"train loss\")\n",
    "plt.plot(loss_df['test_losses'], label='test loss')\n",
    "plt.legend()\n",
    "plt.show()"
   ]
  },
  {
   "attachments": {},
   "cell_type": "markdown",
   "metadata": {},
   "source": [
    "### Deploy the trained model on sagemaker"
   ]
  },
  {
   "cell_type": "code",
   "execution_count": 19,
   "metadata": {},
   "outputs": [
    {
     "name": "stderr",
     "output_type": "stream",
     "text": [
      "INFO:sagemaker:Repacking model artifact (s3://sagemaker-us-east-1-335220673881/movieLens/model/pytorch-Model-2023-06-26-02-00-33-158/output/model.tar.gz), script artifact (s3://sagemaker-us-east-1-335220673881/pytorch-Model-2023-06-26-02-00-33-158/source/sourcedir.tar.gz), and dependencies ([]) into single tar.gz file located at s3://sagemaker-us-east-1-335220673881/pytorch-Model-2023-06-26-02-36-32-314/model.tar.gz. This may take some time depending on model size...\n",
      "INFO:sagemaker:Creating model with name: pytorch-Model-2023-06-26-02-36-32-314\n",
      "INFO:sagemaker:Creating endpoint-config with name pytorch-model\n",
      "INFO:sagemaker:Creating endpoint with name pytorch-model\n"
     ]
    },
    {
     "name": "stdout",
     "output_type": "stream",
     "text": [
      "-------!"
     ]
    }
   ],
   "source": [
    "predictor = estimator.deploy(\n",
    "    initial_instance_count=1,\n",
    "    instance_type='ml.m5.large',\n",
    "    endpoint_name='pytorch-model'\n",
    ")"
   ]
  },
  {
   "cell_type": "code",
   "execution_count": 20,
   "metadata": {},
   "outputs": [],
   "source": [
    "from sagemaker.serializers import JSONSerializer\n",
    "from sagemaker.deserializers import JSONDeserializer"
   ]
  },
  {
   "cell_type": "code",
   "execution_count": 21,
   "metadata": {},
   "outputs": [],
   "source": [
    "predictor.serializer = JSONSerializer()\n",
    "predictor.deserializer = JSONDeserializer()"
   ]
  },
  {
   "attachments": {},
   "cell_type": "markdown",
   "metadata": {},
   "source": [
    "### make inference using deployed endpoint"
   ]
  },
  {
   "cell_type": "code",
   "execution_count": 22,
   "metadata": {},
   "outputs": [],
   "source": [
    "test_input = np.load(\"test/test_data.npy\")"
   ]
  },
  {
   "cell_type": "code",
   "execution_count": 23,
   "metadata": {},
   "outputs": [
    {
     "data": {
      "text/plain": [
       "array([[8.5243e+04, 9.5640e+03, 4.0000e+00],\n",
       "       [5.3163e+04, 4.4000e+01, 3.0000e+00],\n",
       "       [3.8361e+04, 1.1130e+03, 5.0000e+00],\n",
       "       [4.5470e+04, 2.2490e+03, 1.0000e+00],\n",
       "       [9.6352e+04, 1.3280e+03, 5.0000e+00]])"
      ]
     },
     "execution_count": 23,
     "metadata": {},
     "output_type": "execute_result"
    }
   ],
   "source": [
    "# two dimensional numpy array with three columns.\n",
    "# the first column is user ID, second column is movie ID, and third column is rating. \n",
    "# we need the first two columns as input for the predictor\n",
    "test_input[:5]"
   ]
  },
  {
   "cell_type": "code",
   "execution_count": 24,
   "metadata": {},
   "outputs": [
    {
     "data": {
      "text/plain": [
       "array([[8.52430e+04, 9.56400e+03],\n",
       "       [5.31630e+04, 4.40000e+01],\n",
       "       [3.83610e+04, 1.11300e+03],\n",
       "       [4.54700e+04, 2.24900e+03],\n",
       "       [9.63520e+04, 1.32800e+03],\n",
       "       [9.84950e+04, 7.04100e+03],\n",
       "       [7.54770e+04, 8.91000e+02],\n",
       "       [1.28035e+05, 1.27500e+03],\n",
       "       [7.14690e+04, 5.89000e+03],\n",
       "       [7.15900e+04, 3.81700e+03],\n",
       "       [1.14800e+05, 5.31000e+02],\n",
       "       [2.89050e+04, 1.83900e+03],\n",
       "       [1.30476e+05, 4.79100e+03],\n",
       "       [1.76010e+04, 1.25700e+04],\n",
       "       [1.10617e+05, 2.34800e+03],\n",
       "       [3.78240e+04, 1.91600e+03],\n",
       "       [8.02000e+03, 1.22400e+03],\n",
       "       [9.43450e+04, 2.30200e+03],\n",
       "       [1.66130e+04, 1.19900e+03],\n",
       "       [5.02520e+04, 1.26580e+04]])"
      ]
     },
     "execution_count": 24,
     "metadata": {},
     "output_type": "execute_result"
    }
   ],
   "source": [
    "sample = test_input[:20,:2]\n",
    "sample"
   ]
  },
  {
   "attachments": {},
   "cell_type": "markdown",
   "metadata": {},
   "source": [
    "Predict the ratings for a sample input data"
   ]
  },
  {
   "cell_type": "code",
   "execution_count": 25,
   "metadata": {},
   "outputs": [
    {
     "data": {
      "text/plain": [
       "[3.6819026470184326,\n",
       " 3.6196787357330322,\n",
       " 4.460675239562988,\n",
       " 3.6950528621673584,\n",
       " 3.15885591506958,\n",
       " 3.0009536743164062,\n",
       " 4.534146308898926,\n",
       " 4.044096946716309,\n",
       " 3.6700918674468994,\n",
       " 3.396740674972534,\n",
       " 3.934185743331909,\n",
       " 3.758690595626831,\n",
       " 2.765838861465454,\n",
       " 0.6914318203926086,\n",
       " 3.6143033504486084,\n",
       " 4.176187992095947,\n",
       " 4.7065348625183105,\n",
       " 2.964540481567383,\n",
       " 2.644045114517212,\n",
       " 3.296950578689575]"
      ]
     },
     "execution_count": 25,
     "metadata": {},
     "output_type": "execute_result"
    }
   ],
   "source": [
    "predictor.predict(sample)"
   ]
  },
  {
   "cell_type": "code",
   "execution_count": 26,
   "metadata": {},
   "outputs": [],
   "source": [
    "def batch_prediction(inputs, predictor):\n",
    "    batches = int(np.ceil(len(inputs)/5000))\n",
    "    results = []\n",
    "    for i in range(batches):\n",
    "        x_batch = inputs[i*5000:(i+1)*5000, :2]\n",
    "        results += predictor.predict(x_batch)\n",
    "\n",
    "    return results"
   ]
  },
  {
   "attachments": {},
   "cell_type": "markdown",
   "metadata": {},
   "source": [
    "make prediction for all the test dataset"
   ]
  },
  {
   "cell_type": "code",
   "execution_count": 27,
   "metadata": {},
   "outputs": [],
   "source": [
    "rating_pred = batch_prediction(test_input, predictor)"
   ]
  },
  {
   "cell_type": "code",
   "execution_count": 28,
   "metadata": {},
   "outputs": [],
   "source": [
    "from sklearn.metrics import mean_squared_error"
   ]
  },
  {
   "cell_type": "code",
   "execution_count": 29,
   "metadata": {},
   "outputs": [
    {
     "name": "stdout",
     "output_type": "stream",
     "text": [
      "the mean squared error for test dataset is 0.7000429989639377\n"
     ]
    }
   ],
   "source": [
    "rating_actual = test_input[:,2]\n",
    "print(\"the mean squared error for test dataset is {}\".format(mean_squared_error(rating_pred, rating_actual)))"
   ]
  },
  {
   "attachments": {},
   "cell_type": "markdown",
   "metadata": {},
   "source": [
    "check the prediction residuals"
   ]
  },
  {
   "cell_type": "code",
   "execution_count": 30,
   "metadata": {},
   "outputs": [],
   "source": [
    "residual = np.array(rating_pred) - np.array(rating_actual)"
   ]
  },
  {
   "cell_type": "code",
   "execution_count": 31,
   "metadata": {},
   "outputs": [
    {
     "data": {
      "image/png": "[encoded data removed]",
      "text/plain": [
       "<Figure size 576x432 with 1 Axes>"
      ]
     },
     "metadata": {
      "needs_background": "light"
     },
     "output_type": "display_data"
    }
   ],
   "source": [
    "plt.figure(figsize=(8,6))\n",
    "plt.hist(residual, bins=100)\n",
    "plt.show()"
   ]
  },
  {
   "attachments": {},
   "cell_type": "markdown",
   "metadata": {},
   "source": [
    "### Recommend movies to users"
   ]
  },
  {
   "cell_type": "code",
   "execution_count": 32,
   "metadata": {},
   "outputs": [
    {
     "data": {
      "text/html": [
       "<div>\n",
       "<style scoped>\n",
       "    .dataframe tbody tr th:only-of-type {\n",
       "        vertical-align: middle;\n",
       "    }\n",
       "\n",
       "    .dataframe tbody tr th {\n",
       "        vertical-align: top;\n",
       "    }\n",
       "\n",
       "    .dataframe thead th {\n",
       "        text-align: right;\n",
       "    }\n",
       "</style>\n",
       "<table border=\"1\" class=\"dataframe\">\n",
       "  <thead>\n",
       "    <tr style=\"text-align: right;\">\n",
       "      <th></th>\n",
       "      <th>movieId</th>\n",
       "      <th>title</th>\n",
       "      <th>genres</th>\n",
       "    </tr>\n",
       "  </thead>\n",
       "  <tbody>\n",
       "    <tr>\n",
       "      <th>0</th>\n",
       "      <td>1</td>\n",
       "      <td>Toy Story (1995)</td>\n",
       "      <td>Adventure|Animation|Children|Comedy|Fantasy</td>\n",
       "    </tr>\n",
       "    <tr>\n",
       "      <th>1</th>\n",
       "      <td>2</td>\n",
       "      <td>Jumanji (1995)</td>\n",
       "      <td>Adventure|Children|Fantasy</td>\n",
       "    </tr>\n",
       "    <tr>\n",
       "      <th>2</th>\n",
       "      <td>3</td>\n",
       "      <td>Grumpier Old Men (1995)</td>\n",
       "      <td>Comedy|Romance</td>\n",
       "    </tr>\n",
       "    <tr>\n",
       "      <th>3</th>\n",
       "      <td>4</td>\n",
       "      <td>Waiting to Exhale (1995)</td>\n",
       "      <td>Comedy|Drama|Romance</td>\n",
       "    </tr>\n",
       "    <tr>\n",
       "      <th>4</th>\n",
       "      <td>5</td>\n",
       "      <td>Father of the Bride Part II (1995)</td>\n",
       "      <td>Comedy</td>\n",
       "    </tr>\n",
       "  </tbody>\n",
       "</table>\n",
       "</div>"
      ],
      "text/plain": [
       "   movieId                               title  \\\n",
       "0        1                    Toy Story (1995)   \n",
       "1        2                      Jumanji (1995)   \n",
       "2        3             Grumpier Old Men (1995)   \n",
       "3        4            Waiting to Exhale (1995)   \n",
       "4        5  Father of the Bride Part II (1995)   \n",
       "\n",
       "                                        genres  \n",
       "0  Adventure|Animation|Children|Comedy|Fantasy  \n",
       "1                   Adventure|Children|Fantasy  \n",
       "2                               Comedy|Romance  \n",
       "3                         Comedy|Drama|Romance  \n",
       "4                                       Comedy  "
      ]
     },
     "execution_count": 32,
     "metadata": {},
     "output_type": "execute_result"
    }
   ],
   "source": [
    "movie_df = pd.read_csv(\"movie.csv\")\n",
    "movie_df.head()"
   ]
  },
  {
   "attachments": {},
   "cell_type": "markdown",
   "metadata": {},
   "source": [
    "Count movie genres"
   ]
  },
  {
   "cell_type": "code",
   "execution_count": 33,
   "metadata": {},
   "outputs": [
    {
     "data": {
      "text/plain": [
       "['(no genres listed)',\n",
       " 'Action',\n",
       " 'Adventure',\n",
       " 'Animation',\n",
       " 'Children',\n",
       " 'Comedy',\n",
       " 'Crime',\n",
       " 'Documentary',\n",
       " 'Drama',\n",
       " 'Fantasy',\n",
       " 'Film-Noir',\n",
       " 'Horror',\n",
       " 'IMAX',\n",
       " 'Musical',\n",
       " 'Mystery',\n",
       " 'Romance',\n",
       " 'Sci-Fi',\n",
       " 'Thriller',\n",
       " 'War',\n",
       " 'Western']"
      ]
     },
     "execution_count": 33,
     "metadata": {},
     "output_type": "execute_result"
    }
   ],
   "source": [
    "genres_set = set()\n",
    "for genres in movie_df['genres']:\n",
    "    for g in genres.split(\"|\"):\n",
    "        genres_set.add(g.strip())\n",
    "\n",
    "genres_list = sorted(list(genres_set))\n",
    "n_genre = len(genres_list)\n",
    "genres_list"
   ]
  },
  {
   "attachments": {},
   "cell_type": "markdown",
   "metadata": {},
   "source": [
    "one-hot encode the movie genres to make it easier for filtering movies by categories"
   ]
  },
  {
   "cell_type": "code",
   "execution_count": 34,
   "metadata": {},
   "outputs": [
    {
     "data": {
      "text/html": [
       "<div>\n",
       "<style scoped>\n",
       "    .dataframe tbody tr th:only-of-type {\n",
       "        vertical-align: middle;\n",
       "    }\n",
       "\n",
       "    .dataframe tbody tr th {\n",
       "        vertical-align: top;\n",
       "    }\n",
       "\n",
       "    .dataframe thead th {\n",
       "        text-align: right;\n",
       "    }\n",
       "</style>\n",
       "<table border=\"1\" class=\"dataframe\">\n",
       "  <thead>\n",
       "    <tr style=\"text-align: right;\">\n",
       "      <th></th>\n",
       "      <th>(no genres listed)</th>\n",
       "      <th>Action</th>\n",
       "      <th>Adventure</th>\n",
       "      <th>Animation</th>\n",
       "      <th>Children</th>\n",
       "      <th>Comedy</th>\n",
       "      <th>Crime</th>\n",
       "      <th>Documentary</th>\n",
       "      <th>Drama</th>\n",
       "      <th>Fantasy</th>\n",
       "      <th>Film-Noir</th>\n",
       "      <th>Horror</th>\n",
       "      <th>IMAX</th>\n",
       "      <th>Musical</th>\n",
       "      <th>Mystery</th>\n",
       "      <th>Romance</th>\n",
       "      <th>Sci-Fi</th>\n",
       "      <th>Thriller</th>\n",
       "      <th>War</th>\n",
       "      <th>Western</th>\n",
       "    </tr>\n",
       "  </thead>\n",
       "  <tbody>\n",
       "    <tr>\n",
       "      <th>0</th>\n",
       "      <td>0</td>\n",
       "      <td>0</td>\n",
       "      <td>1</td>\n",
       "      <td>1</td>\n",
       "      <td>1</td>\n",
       "      <td>1</td>\n",
       "      <td>0</td>\n",
       "      <td>0</td>\n",
       "      <td>0</td>\n",
       "      <td>1</td>\n",
       "      <td>0</td>\n",
       "      <td>0</td>\n",
       "      <td>0</td>\n",
       "      <td>0</td>\n",
       "      <td>0</td>\n",
       "      <td>0</td>\n",
       "      <td>0</td>\n",
       "      <td>0</td>\n",
       "      <td>0</td>\n",
       "      <td>0</td>\n",
       "    </tr>\n",
       "    <tr>\n",
       "      <th>1</th>\n",
       "      <td>0</td>\n",
       "      <td>0</td>\n",
       "      <td>1</td>\n",
       "      <td>0</td>\n",
       "      <td>1</td>\n",
       "      <td>0</td>\n",
       "      <td>0</td>\n",
       "      <td>0</td>\n",
       "      <td>0</td>\n",
       "      <td>1</td>\n",
       "      <td>0</td>\n",
       "      <td>0</td>\n",
       "      <td>0</td>\n",
       "      <td>0</td>\n",
       "      <td>0</td>\n",
       "      <td>0</td>\n",
       "      <td>0</td>\n",
       "      <td>0</td>\n",
       "      <td>0</td>\n",
       "      <td>0</td>\n",
       "    </tr>\n",
       "    <tr>\n",
       "      <th>2</th>\n",
       "      <td>0</td>\n",
       "      <td>0</td>\n",
       "      <td>0</td>\n",
       "      <td>0</td>\n",
       "      <td>0</td>\n",
       "      <td>1</td>\n",
       "      <td>0</td>\n",
       "      <td>0</td>\n",
       "      <td>0</td>\n",
       "      <td>0</td>\n",
       "      <td>0</td>\n",
       "      <td>0</td>\n",
       "      <td>0</td>\n",
       "      <td>0</td>\n",
       "      <td>0</td>\n",
       "      <td>1</td>\n",
       "      <td>0</td>\n",
       "      <td>0</td>\n",
       "      <td>0</td>\n",
       "      <td>0</td>\n",
       "    </tr>\n",
       "    <tr>\n",
       "      <th>3</th>\n",
       "      <td>0</td>\n",
       "      <td>0</td>\n",
       "      <td>0</td>\n",
       "      <td>0</td>\n",
       "      <td>0</td>\n",
       "      <td>1</td>\n",
       "      <td>0</td>\n",
       "      <td>0</td>\n",
       "      <td>1</td>\n",
       "      <td>0</td>\n",
       "      <td>0</td>\n",
       "      <td>0</td>\n",
       "      <td>0</td>\n",
       "      <td>0</td>\n",
       "      <td>0</td>\n",
       "      <td>1</td>\n",
       "      <td>0</td>\n",
       "      <td>0</td>\n",
       "      <td>0</td>\n",
       "      <td>0</td>\n",
       "    </tr>\n",
       "    <tr>\n",
       "      <th>4</th>\n",
       "      <td>0</td>\n",
       "      <td>0</td>\n",
       "      <td>0</td>\n",
       "      <td>0</td>\n",
       "      <td>0</td>\n",
       "      <td>1</td>\n",
       "      <td>0</td>\n",
       "      <td>0</td>\n",
       "      <td>0</td>\n",
       "      <td>0</td>\n",
       "      <td>0</td>\n",
       "      <td>0</td>\n",
       "      <td>0</td>\n",
       "      <td>0</td>\n",
       "      <td>0</td>\n",
       "      <td>0</td>\n",
       "      <td>0</td>\n",
       "      <td>0</td>\n",
       "      <td>0</td>\n",
       "      <td>0</td>\n",
       "    </tr>\n",
       "  </tbody>\n",
       "</table>\n",
       "</div>"
      ],
      "text/plain": [
       "   (no genres listed)  Action  Adventure  Animation  Children  Comedy  Crime  \\\n",
       "0                   0       0          1          1         1       1      0   \n",
       "1                   0       0          1          0         1       0      0   \n",
       "2                   0       0          0          0         0       1      0   \n",
       "3                   0       0          0          0         0       1      0   \n",
       "4                   0       0          0          0         0       1      0   \n",
       "\n",
       "   Documentary  Drama  Fantasy  Film-Noir  Horror  IMAX  Musical  Mystery  \\\n",
       "0            0      0        1          0       0     0        0        0   \n",
       "1            0      0        1          0       0     0        0        0   \n",
       "2            0      0        0          0       0     0        0        0   \n",
       "3            0      1        0          0       0     0        0        0   \n",
       "4            0      0        0          0       0     0        0        0   \n",
       "\n",
       "   Romance  Sci-Fi  Thriller  War  Western  \n",
       "0        0       0         0    0        0  \n",
       "1        0       0         0    0        0  \n",
       "2        1       0         0    0        0  \n",
       "3        1       0         0    0        0  \n",
       "4        0       0         0    0        0  "
      ]
     },
     "execution_count": 34,
     "metadata": {},
     "output_type": "execute_result"
    }
   ],
   "source": [
    "n_movie = movie_df.shape[0]\n",
    "genre_df = pd.DataFrame(np.zeros((n_movie, n_genre), dtype=int), columns=genres_list)\n",
    "for i, genre in enumerate(movie_df['genres']):\n",
    "    for g in genre.split(\"|\"):\n",
    "        genre_df.loc[i, g.strip()] = 1\n",
    "\n",
    "genre_df.head()"
   ]
  },
  {
   "cell_type": "code",
   "execution_count": 35,
   "metadata": {},
   "outputs": [
    {
     "data": {
      "text/html": [
       "<div>\n",
       "<style scoped>\n",
       "    .dataframe tbody tr th:only-of-type {\n",
       "        vertical-align: middle;\n",
       "    }\n",
       "\n",
       "    .dataframe tbody tr th {\n",
       "        vertical-align: top;\n",
       "    }\n",
       "\n",
       "    .dataframe thead th {\n",
       "        text-align: right;\n",
       "    }\n",
       "</style>\n",
       "<table border=\"1\" class=\"dataframe\">\n",
       "  <thead>\n",
       "    <tr style=\"text-align: right;\">\n",
       "      <th></th>\n",
       "      <th>movieId</th>\n",
       "      <th>title</th>\n",
       "      <th>genres</th>\n",
       "      <th>(no genres listed)</th>\n",
       "      <th>Action</th>\n",
       "      <th>Adventure</th>\n",
       "      <th>Animation</th>\n",
       "      <th>Children</th>\n",
       "      <th>Comedy</th>\n",
       "      <th>Crime</th>\n",
       "      <th>...</th>\n",
       "      <th>Film-Noir</th>\n",
       "      <th>Horror</th>\n",
       "      <th>IMAX</th>\n",
       "      <th>Musical</th>\n",
       "      <th>Mystery</th>\n",
       "      <th>Romance</th>\n",
       "      <th>Sci-Fi</th>\n",
       "      <th>Thriller</th>\n",
       "      <th>War</th>\n",
       "      <th>Western</th>\n",
       "    </tr>\n",
       "  </thead>\n",
       "  <tbody>\n",
       "    <tr>\n",
       "      <th>0</th>\n",
       "      <td>1</td>\n",
       "      <td>Toy Story (1995)</td>\n",
       "      <td>Adventure|Animation|Children|Comedy|Fantasy</td>\n",
       "      <td>0</td>\n",
       "      <td>0</td>\n",
       "      <td>1</td>\n",
       "      <td>1</td>\n",
       "      <td>1</td>\n",
       "      <td>1</td>\n",
       "      <td>0</td>\n",
       "      <td>...</td>\n",
       "      <td>0</td>\n",
       "      <td>0</td>\n",
       "      <td>0</td>\n",
       "      <td>0</td>\n",
       "      <td>0</td>\n",
       "      <td>0</td>\n",
       "      <td>0</td>\n",
       "      <td>0</td>\n",
       "      <td>0</td>\n",
       "      <td>0</td>\n",
       "    </tr>\n",
       "    <tr>\n",
       "      <th>1</th>\n",
       "      <td>2</td>\n",
       "      <td>Jumanji (1995)</td>\n",
       "      <td>Adventure|Children|Fantasy</td>\n",
       "      <td>0</td>\n",
       "      <td>0</td>\n",
       "      <td>1</td>\n",
       "      <td>0</td>\n",
       "      <td>1</td>\n",
       "      <td>0</td>\n",
       "      <td>0</td>\n",
       "      <td>...</td>\n",
       "      <td>0</td>\n",
       "      <td>0</td>\n",
       "      <td>0</td>\n",
       "      <td>0</td>\n",
       "      <td>0</td>\n",
       "      <td>0</td>\n",
       "      <td>0</td>\n",
       "      <td>0</td>\n",
       "      <td>0</td>\n",
       "      <td>0</td>\n",
       "    </tr>\n",
       "    <tr>\n",
       "      <th>2</th>\n",
       "      <td>3</td>\n",
       "      <td>Grumpier Old Men (1995)</td>\n",
       "      <td>Comedy|Romance</td>\n",
       "      <td>0</td>\n",
       "      <td>0</td>\n",
       "      <td>0</td>\n",
       "      <td>0</td>\n",
       "      <td>0</td>\n",
       "      <td>1</td>\n",
       "      <td>0</td>\n",
       "      <td>...</td>\n",
       "      <td>0</td>\n",
       "      <td>0</td>\n",
       "      <td>0</td>\n",
       "      <td>0</td>\n",
       "      <td>0</td>\n",
       "      <td>1</td>\n",
       "      <td>0</td>\n",
       "      <td>0</td>\n",
       "      <td>0</td>\n",
       "      <td>0</td>\n",
       "    </tr>\n",
       "    <tr>\n",
       "      <th>3</th>\n",
       "      <td>4</td>\n",
       "      <td>Waiting to Exhale (1995)</td>\n",
       "      <td>Comedy|Drama|Romance</td>\n",
       "      <td>0</td>\n",
       "      <td>0</td>\n",
       "      <td>0</td>\n",
       "      <td>0</td>\n",
       "      <td>0</td>\n",
       "      <td>1</td>\n",
       "      <td>0</td>\n",
       "      <td>...</td>\n",
       "      <td>0</td>\n",
       "      <td>0</td>\n",
       "      <td>0</td>\n",
       "      <td>0</td>\n",
       "      <td>0</td>\n",
       "      <td>1</td>\n",
       "      <td>0</td>\n",
       "      <td>0</td>\n",
       "      <td>0</td>\n",
       "      <td>0</td>\n",
       "    </tr>\n",
       "    <tr>\n",
       "      <th>4</th>\n",
       "      <td>5</td>\n",
       "      <td>Father of the Bride Part II (1995)</td>\n",
       "      <td>Comedy</td>\n",
       "      <td>0</td>\n",
       "      <td>0</td>\n",
       "      <td>0</td>\n",
       "      <td>0</td>\n",
       "      <td>0</td>\n",
       "      <td>1</td>\n",
       "      <td>0</td>\n",
       "      <td>...</td>\n",
       "      <td>0</td>\n",
       "      <td>0</td>\n",
       "      <td>0</td>\n",
       "      <td>0</td>\n",
       "      <td>0</td>\n",
       "      <td>0</td>\n",
       "      <td>0</td>\n",
       "      <td>0</td>\n",
       "      <td>0</td>\n",
       "      <td>0</td>\n",
       "    </tr>\n",
       "  </tbody>\n",
       "</table>\n",
       "<p>5 rows × 23 columns</p>\n",
       "</div>"
      ],
      "text/plain": [
       "   movieId                               title  \\\n",
       "0        1                    Toy Story (1995)   \n",
       "1        2                      Jumanji (1995)   \n",
       "2        3             Grumpier Old Men (1995)   \n",
       "3        4            Waiting to Exhale (1995)   \n",
       "4        5  Father of the Bride Part II (1995)   \n",
       "\n",
       "                                        genres  (no genres listed)  Action  \\\n",
       "0  Adventure|Animation|Children|Comedy|Fantasy                   0       0   \n",
       "1                   Adventure|Children|Fantasy                   0       0   \n",
       "2                               Comedy|Romance                   0       0   \n",
       "3                         Comedy|Drama|Romance                   0       0   \n",
       "4                                       Comedy                   0       0   \n",
       "\n",
       "   Adventure  Animation  Children  Comedy  Crime  ...  Film-Noir  Horror  \\\n",
       "0          1          1         1       1      0  ...          0       0   \n",
       "1          1          0         1       0      0  ...          0       0   \n",
       "2          0          0         0       1      0  ...          0       0   \n",
       "3          0          0         0       1      0  ...          0       0   \n",
       "4          0          0         0       1      0  ...          0       0   \n",
       "\n",
       "   IMAX  Musical  Mystery  Romance  Sci-Fi  Thriller  War  Western  \n",
       "0     0        0        0        0       0         0    0        0  \n",
       "1     0        0        0        0       0         0    0        0  \n",
       "2     0        0        0        1       0         0    0        0  \n",
       "3     0        0        0        1       0         0    0        0  \n",
       "4     0        0        0        0       0         0    0        0  \n",
       "\n",
       "[5 rows x 23 columns]"
      ]
     },
     "execution_count": 35,
     "metadata": {},
     "output_type": "execute_result"
    }
   ],
   "source": [
    "movie_df2 = pd.concat([movie_df, genre_df], axis=1)\n",
    "movie_df2.head()"
   ]
  },
  {
   "attachments": {},
   "cell_type": "markdown",
   "metadata": {},
   "source": [
    "create function to generate the numpy array input for predicting ratings of all movies for a specific user ID.  \n",
    "**Note the IDs are new user ID and new movie ID**"
   ]
  },
  {
   "cell_type": "code",
   "execution_count": 36,
   "metadata": {},
   "outputs": [],
   "source": [
    "def one_user_input(userId):\n",
    "    input_arr = np.zeros((N_movies, 2), dtype=int)\n",
    "    input_arr[:,0] = userId\n",
    "    input_arr[:,1] = np.arange(N_movies)\n",
    "    return input_arr"
   ]
  },
  {
   "cell_type": "code",
   "execution_count": 37,
   "metadata": {},
   "outputs": [
    {
     "data": {
      "text/plain": [
       "array([[    3,     0],\n",
       "       [    3,     1],\n",
       "       [    3,     2],\n",
       "       ...,\n",
       "       [    3, 26741],\n",
       "       [    3, 26742],\n",
       "       [    3, 26743]])"
      ]
     },
     "execution_count": 37,
     "metadata": {},
     "output_type": "execute_result"
    }
   ],
   "source": [
    "one_user_input(3)"
   ]
  },
  {
   "attachments": {},
   "cell_type": "markdown",
   "metadata": {},
   "source": [
    "Now, predict the ratings of all movies for user ID."
   ]
  },
  {
   "cell_type": "code",
   "execution_count": 38,
   "metadata": {},
   "outputs": [],
   "source": [
    "def predict_for_user(userId):\n",
    "    input_arr = one_user_input(userId)\n",
    "    one_user_rating_df = pd.DataFrame(input_arr, columns=['new_user_id', 'new_movie_id'])\n",
    "    one_user_rating_df['rating_pred'] = predictor.predict(input_arr)\n",
    "    return one_user_rating_df"
   ]
  },
  {
   "cell_type": "code",
   "execution_count": 39,
   "metadata": {},
   "outputs": [
    {
     "data": {
      "text/html": [
       "<div>\n",
       "<style scoped>\n",
       "    .dataframe tbody tr th:only-of-type {\n",
       "        vertical-align: middle;\n",
       "    }\n",
       "\n",
       "    .dataframe tbody tr th {\n",
       "        vertical-align: top;\n",
       "    }\n",
       "\n",
       "    .dataframe thead th {\n",
       "        text-align: right;\n",
       "    }\n",
       "</style>\n",
       "<table border=\"1\" class=\"dataframe\">\n",
       "  <thead>\n",
       "    <tr style=\"text-align: right;\">\n",
       "      <th></th>\n",
       "      <th>new_user_id</th>\n",
       "      <th>new_movie_id</th>\n",
       "      <th>rating_pred</th>\n",
       "    </tr>\n",
       "  </thead>\n",
       "  <tbody>\n",
       "    <tr>\n",
       "      <th>0</th>\n",
       "      <td>1</td>\n",
       "      <td>0</td>\n",
       "      <td>4.409844</td>\n",
       "    </tr>\n",
       "    <tr>\n",
       "      <th>1</th>\n",
       "      <td>1</td>\n",
       "      <td>1</td>\n",
       "      <td>3.776822</td>\n",
       "    </tr>\n",
       "    <tr>\n",
       "      <th>2</th>\n",
       "      <td>1</td>\n",
       "      <td>2</td>\n",
       "      <td>3.740627</td>\n",
       "    </tr>\n",
       "    <tr>\n",
       "      <th>3</th>\n",
       "      <td>1</td>\n",
       "      <td>3</td>\n",
       "      <td>3.217554</td>\n",
       "    </tr>\n",
       "    <tr>\n",
       "      <th>4</th>\n",
       "      <td>1</td>\n",
       "      <td>4</td>\n",
       "      <td>3.524639</td>\n",
       "    </tr>\n",
       "    <tr>\n",
       "      <th>...</th>\n",
       "      <td>...</td>\n",
       "      <td>...</td>\n",
       "      <td>...</td>\n",
       "    </tr>\n",
       "    <tr>\n",
       "      <th>26739</th>\n",
       "      <td>1</td>\n",
       "      <td>26739</td>\n",
       "      <td>3.452080</td>\n",
       "    </tr>\n",
       "    <tr>\n",
       "      <th>26740</th>\n",
       "      <td>1</td>\n",
       "      <td>26740</td>\n",
       "      <td>4.509295</td>\n",
       "    </tr>\n",
       "    <tr>\n",
       "      <th>26741</th>\n",
       "      <td>1</td>\n",
       "      <td>26741</td>\n",
       "      <td>2.880450</td>\n",
       "    </tr>\n",
       "    <tr>\n",
       "      <th>26742</th>\n",
       "      <td>1</td>\n",
       "      <td>26742</td>\n",
       "      <td>3.910204</td>\n",
       "    </tr>\n",
       "    <tr>\n",
       "      <th>26743</th>\n",
       "      <td>1</td>\n",
       "      <td>26743</td>\n",
       "      <td>2.924682</td>\n",
       "    </tr>\n",
       "  </tbody>\n",
       "</table>\n",
       "<p>26744 rows × 3 columns</p>\n",
       "</div>"
      ],
      "text/plain": [
       "       new_user_id  new_movie_id  rating_pred\n",
       "0                1             0     4.409844\n",
       "1                1             1     3.776822\n",
       "2                1             2     3.740627\n",
       "3                1             3     3.217554\n",
       "4                1             4     3.524639\n",
       "...            ...           ...          ...\n",
       "26739            1         26739     3.452080\n",
       "26740            1         26740     4.509295\n",
       "26741            1         26741     2.880450\n",
       "26742            1         26742     3.910204\n",
       "26743            1         26743     2.924682\n",
       "\n",
       "[26744 rows x 3 columns]"
      ]
     },
     "execution_count": 39,
     "metadata": {},
     "output_type": "execute_result"
    }
   ],
   "source": [
    "predict_for_user(1)"
   ]
  },
  {
   "attachments": {},
   "cell_type": "markdown",
   "metadata": {},
   "source": [
    "Make recommendation for a specific user. The following function returns the recommended movies and movies that have already been watched by the user."
   ]
  },
  {
   "cell_type": "code",
   "execution_count": 40,
   "metadata": {},
   "outputs": [],
   "source": [
    "def recommend_for_user(userId, genre = None):\n",
    "    \"\"\"\n",
    "    return two pandas DataFrame: recommended movies and watched movies\n",
    "    \"\"\"\n",
    "    all_rating = predict_for_user(userId)\n",
    "    # map the new IDs back to original IDs\n",
    "    all_rating['userId'] = all_rating['new_user_id'].map(lambda x : user_ids[x]) #user_ids is a list of old ids\n",
    "    all_rating['movieId'] = all_rating['new_movie_id'].map(lambda x: movie_ids[x]) #movie_ids is a list of old ids\n",
    "    all_rating = all_rating.merge(movie_df2, how='left', on='movieId')\n",
    "\n",
    "    #check the movies that have already been watched by users\n",
    "    watched_df = df[df['new_user_id'] == userId]\n",
    "    watched_df = watched_df.merge(movie_df2, how='left', on='movieId')\n",
    "    watched_list = watched_df['movieId'].tolist()\n",
    "\n",
    "    if genre:\n",
    "        #select the movies that are not in the watched list and has the specified genre\n",
    "        selecting = (~all_rating['movieId'].isin(watched_list)) & (all_rating[genre]==1)\n",
    "        recommended_movies = all_rating[selecting]\n",
    "    else:\n",
    "        recommended_movies = all_rating[~all_rating['movieId'].isin(watched_list)]\n",
    "\n",
    "    return recommended_movies.sort_values(by='rating_pred', ascending=False).reset_index(drop=True),\\\n",
    "          watched_df.sort_values(by='rating', ascending=False).reset_index(drop=True)\n"
   ]
  },
  {
   "cell_type": "code",
   "execution_count": 41,
   "metadata": {},
   "outputs": [],
   "source": [
    "recommend, watched = recommend_for_user(12345)"
   ]
  },
  {
   "attachments": {},
   "cell_type": "markdown",
   "metadata": {},
   "source": [
    "Show the top 10 movies watched by the user"
   ]
  },
  {
   "cell_type": "code",
   "execution_count": 42,
   "metadata": {},
   "outputs": [
    {
     "data": {
      "text/html": [
       "<div>\n",
       "<style scoped>\n",
       "    .dataframe tbody tr th:only-of-type {\n",
       "        vertical-align: middle;\n",
       "    }\n",
       "\n",
       "    .dataframe tbody tr th {\n",
       "        vertical-align: top;\n",
       "    }\n",
       "\n",
       "    .dataframe thead th {\n",
       "        text-align: right;\n",
       "    }\n",
       "</style>\n",
       "<table border=\"1\" class=\"dataframe\">\n",
       "  <thead>\n",
       "    <tr style=\"text-align: right;\">\n",
       "      <th></th>\n",
       "      <th>userId</th>\n",
       "      <th>movieId</th>\n",
       "      <th>rating</th>\n",
       "      <th>new_user_id</th>\n",
       "      <th>new_movie_id</th>\n",
       "      <th>title</th>\n",
       "      <th>genres</th>\n",
       "    </tr>\n",
       "  </thead>\n",
       "  <tbody>\n",
       "    <tr>\n",
       "      <th>0</th>\n",
       "      <td>12346</td>\n",
       "      <td>357</td>\n",
       "      <td>5.0</td>\n",
       "      <td>12345</td>\n",
       "      <td>353</td>\n",
       "      <td>Four Weddings and a Funeral (1994)</td>\n",
       "      <td>Comedy|Romance</td>\n",
       "    </tr>\n",
       "    <tr>\n",
       "      <th>1</th>\n",
       "      <td>12346</td>\n",
       "      <td>539</td>\n",
       "      <td>5.0</td>\n",
       "      <td>12345</td>\n",
       "      <td>535</td>\n",
       "      <td>Sleepless in Seattle (1993)</td>\n",
       "      <td>Comedy|Drama|Romance</td>\n",
       "    </tr>\n",
       "    <tr>\n",
       "      <th>2</th>\n",
       "      <td>12346</td>\n",
       "      <td>508</td>\n",
       "      <td>5.0</td>\n",
       "      <td>12345</td>\n",
       "      <td>504</td>\n",
       "      <td>Philadelphia (1993)</td>\n",
       "      <td>Drama</td>\n",
       "    </tr>\n",
       "    <tr>\n",
       "      <th>3</th>\n",
       "      <td>12346</td>\n",
       "      <td>318</td>\n",
       "      <td>5.0</td>\n",
       "      <td>12345</td>\n",
       "      <td>315</td>\n",
       "      <td>Shawshank Redemption, The (1994)</td>\n",
       "      <td>Crime|Drama</td>\n",
       "    </tr>\n",
       "    <tr>\n",
       "      <th>4</th>\n",
       "      <td>12346</td>\n",
       "      <td>300</td>\n",
       "      <td>4.0</td>\n",
       "      <td>12345</td>\n",
       "      <td>297</td>\n",
       "      <td>Quiz Show (1994)</td>\n",
       "      <td>Drama</td>\n",
       "    </tr>\n",
       "    <tr>\n",
       "      <th>5</th>\n",
       "      <td>12346</td>\n",
       "      <td>590</td>\n",
       "      <td>4.0</td>\n",
       "      <td>12345</td>\n",
       "      <td>584</td>\n",
       "      <td>Dances with Wolves (1990)</td>\n",
       "      <td>Adventure|Drama|Western</td>\n",
       "    </tr>\n",
       "    <tr>\n",
       "      <th>6</th>\n",
       "      <td>12346</td>\n",
       "      <td>553</td>\n",
       "      <td>4.0</td>\n",
       "      <td>12345</td>\n",
       "      <td>549</td>\n",
       "      <td>Tombstone (1993)</td>\n",
       "      <td>Action|Drama|Western</td>\n",
       "    </tr>\n",
       "    <tr>\n",
       "      <th>7</th>\n",
       "      <td>12346</td>\n",
       "      <td>527</td>\n",
       "      <td>4.0</td>\n",
       "      <td>12345</td>\n",
       "      <td>523</td>\n",
       "      <td>Schindler's List (1993)</td>\n",
       "      <td>Drama|War</td>\n",
       "    </tr>\n",
       "    <tr>\n",
       "      <th>8</th>\n",
       "      <td>12346</td>\n",
       "      <td>480</td>\n",
       "      <td>4.0</td>\n",
       "      <td>12345</td>\n",
       "      <td>476</td>\n",
       "      <td>Jurassic Park (1993)</td>\n",
       "      <td>Action|Adventure|Sci-Fi|Thriller</td>\n",
       "    </tr>\n",
       "    <tr>\n",
       "      <th>9</th>\n",
       "      <td>12346</td>\n",
       "      <td>457</td>\n",
       "      <td>4.0</td>\n",
       "      <td>12345</td>\n",
       "      <td>453</td>\n",
       "      <td>Fugitive, The (1993)</td>\n",
       "      <td>Thriller</td>\n",
       "    </tr>\n",
       "  </tbody>\n",
       "</table>\n",
       "</div>"
      ],
      "text/plain": [
       "   userId  movieId  rating  new_user_id  new_movie_id  \\\n",
       "0   12346      357     5.0        12345           353   \n",
       "1   12346      539     5.0        12345           535   \n",
       "2   12346      508     5.0        12345           504   \n",
       "3   12346      318     5.0        12345           315   \n",
       "4   12346      300     4.0        12345           297   \n",
       "5   12346      590     4.0        12345           584   \n",
       "6   12346      553     4.0        12345           549   \n",
       "7   12346      527     4.0        12345           523   \n",
       "8   12346      480     4.0        12345           476   \n",
       "9   12346      457     4.0        12345           453   \n",
       "\n",
       "                                title                            genres  \n",
       "0  Four Weddings and a Funeral (1994)                    Comedy|Romance  \n",
       "1         Sleepless in Seattle (1993)              Comedy|Drama|Romance  \n",
       "2                 Philadelphia (1993)                             Drama  \n",
       "3    Shawshank Redemption, The (1994)                       Crime|Drama  \n",
       "4                    Quiz Show (1994)                             Drama  \n",
       "5           Dances with Wolves (1990)           Adventure|Drama|Western  \n",
       "6                    Tombstone (1993)              Action|Drama|Western  \n",
       "7             Schindler's List (1993)                         Drama|War  \n",
       "8                Jurassic Park (1993)  Action|Adventure|Sci-Fi|Thriller  \n",
       "9                Fugitive, The (1993)                          Thriller  "
      ]
     },
     "execution_count": 42,
     "metadata": {},
     "output_type": "execute_result"
    }
   ],
   "source": [
    "watched.iloc[:,:7].head(10)"
   ]
  },
  {
   "attachments": {},
   "cell_type": "markdown",
   "metadata": {},
   "source": [
    "Show the top 10 movies recommended for the user"
   ]
  },
  {
   "cell_type": "code",
   "execution_count": 43,
   "metadata": {},
   "outputs": [
    {
     "data": {
      "text/html": [
       "<div>\n",
       "<style scoped>\n",
       "    .dataframe tbody tr th:only-of-type {\n",
       "        vertical-align: middle;\n",
       "    }\n",
       "\n",
       "    .dataframe tbody tr th {\n",
       "        vertical-align: top;\n",
       "    }\n",
       "\n",
       "    .dataframe thead th {\n",
       "        text-align: right;\n",
       "    }\n",
       "</style>\n",
       "<table border=\"1\" class=\"dataframe\">\n",
       "  <thead>\n",
       "    <tr style=\"text-align: right;\">\n",
       "      <th></th>\n",
       "      <th>new_user_id</th>\n",
       "      <th>new_movie_id</th>\n",
       "      <th>rating_pred</th>\n",
       "      <th>userId</th>\n",
       "      <th>movieId</th>\n",
       "      <th>title</th>\n",
       "      <th>genres</th>\n",
       "    </tr>\n",
       "  </thead>\n",
       "  <tbody>\n",
       "    <tr>\n",
       "      <th>0</th>\n",
       "      <td>12345</td>\n",
       "      <td>22215</td>\n",
       "      <td>5.849219</td>\n",
       "      <td>12346</td>\n",
       "      <td>107252</td>\n",
       "      <td>Island at War (2004)</td>\n",
       "      <td>Drama|War</td>\n",
       "    </tr>\n",
       "    <tr>\n",
       "      <th>1</th>\n",
       "      <td>12345</td>\n",
       "      <td>20210</td>\n",
       "      <td>5.758446</td>\n",
       "      <td>12346</td>\n",
       "      <td>99724</td>\n",
       "      <td>K-11 (2012)</td>\n",
       "      <td>Crime|Drama</td>\n",
       "    </tr>\n",
       "    <tr>\n",
       "      <th>2</th>\n",
       "      <td>12345</td>\n",
       "      <td>26138</td>\n",
       "      <td>5.696417</td>\n",
       "      <td>12346</td>\n",
       "      <td>128187</td>\n",
       "      <td>Freedom Song (2000)</td>\n",
       "      <td>Drama</td>\n",
       "    </tr>\n",
       "    <tr>\n",
       "      <th>3</th>\n",
       "      <td>12345</td>\n",
       "      <td>26557</td>\n",
       "      <td>5.695791</td>\n",
       "      <td>12346</td>\n",
       "      <td>130347</td>\n",
       "      <td>Bill Hicks: Sane Man (1989)</td>\n",
       "      <td>Comedy</td>\n",
       "    </tr>\n",
       "    <tr>\n",
       "      <th>4</th>\n",
       "      <td>12345</td>\n",
       "      <td>20140</td>\n",
       "      <td>5.632021</td>\n",
       "      <td>12346</td>\n",
       "      <td>99450</td>\n",
       "      <td>Sun Kissed (2012)</td>\n",
       "      <td>Documentary</td>\n",
       "    </tr>\n",
       "    <tr>\n",
       "      <th>5</th>\n",
       "      <td>12345</td>\n",
       "      <td>25305</td>\n",
       "      <td>5.564713</td>\n",
       "      <td>12346</td>\n",
       "      <td>121374</td>\n",
       "      <td>Bill Burr: Why Do I Do This? (2008)</td>\n",
       "      <td>Comedy</td>\n",
       "    </tr>\n",
       "    <tr>\n",
       "      <th>6</th>\n",
       "      <td>12345</td>\n",
       "      <td>21657</td>\n",
       "      <td>5.554166</td>\n",
       "      <td>12346</td>\n",
       "      <td>105189</td>\n",
       "      <td>Emo Philips Live (1987)</td>\n",
       "      <td>Comedy</td>\n",
       "    </tr>\n",
       "    <tr>\n",
       "      <th>7</th>\n",
       "      <td>12345</td>\n",
       "      <td>12281</td>\n",
       "      <td>5.551993</td>\n",
       "      <td>12346</td>\n",
       "      <td>56548</td>\n",
       "      <td>All Passion Spent (1986)</td>\n",
       "      <td>Drama</td>\n",
       "    </tr>\n",
       "    <tr>\n",
       "      <th>8</th>\n",
       "      <td>12345</td>\n",
       "      <td>15150</td>\n",
       "      <td>5.490038</td>\n",
       "      <td>12346</td>\n",
       "      <td>77344</td>\n",
       "      <td>Chizuko's Younger Sister (Futari) (1991)</td>\n",
       "      <td>Drama</td>\n",
       "    </tr>\n",
       "    <tr>\n",
       "      <th>9</th>\n",
       "      <td>12345</td>\n",
       "      <td>22351</td>\n",
       "      <td>5.487239</td>\n",
       "      <td>12346</td>\n",
       "      <td>107730</td>\n",
       "      <td>By the People: The Election of Barack Obama (2...</td>\n",
       "      <td>Documentary</td>\n",
       "    </tr>\n",
       "  </tbody>\n",
       "</table>\n",
       "</div>"
      ],
      "text/plain": [
       "   new_user_id  new_movie_id  rating_pred  userId  movieId  \\\n",
       "0        12345         22215     5.849219   12346   107252   \n",
       "1        12345         20210     5.758446   12346    99724   \n",
       "2        12345         26138     5.696417   12346   128187   \n",
       "3        12345         26557     5.695791   12346   130347   \n",
       "4        12345         20140     5.632021   12346    99450   \n",
       "5        12345         25305     5.564713   12346   121374   \n",
       "6        12345         21657     5.554166   12346   105189   \n",
       "7        12345         12281     5.551993   12346    56548   \n",
       "8        12345         15150     5.490038   12346    77344   \n",
       "9        12345         22351     5.487239   12346   107730   \n",
       "\n",
       "                                               title       genres  \n",
       "0                               Island at War (2004)    Drama|War  \n",
       "1                                        K-11 (2012)  Crime|Drama  \n",
       "2                                Freedom Song (2000)        Drama  \n",
       "3                        Bill Hicks: Sane Man (1989)       Comedy  \n",
       "4                                  Sun Kissed (2012)  Documentary  \n",
       "5                Bill Burr: Why Do I Do This? (2008)       Comedy  \n",
       "6                            Emo Philips Live (1987)       Comedy  \n",
       "7                           All Passion Spent (1986)        Drama  \n",
       "8           Chizuko's Younger Sister (Futari) (1991)        Drama  \n",
       "9  By the People: The Election of Barack Obama (2...  Documentary  "
      ]
     },
     "execution_count": 43,
     "metadata": {},
     "output_type": "execute_result"
    }
   ],
   "source": [
    "recommend.iloc[:,:7].head(10)"
   ]
  },
  {
   "cell_type": "code",
   "execution_count": null,
   "metadata": {},
   "outputs": [],
   "source": []
  },
  {
   "attachments": {},
   "cell_type": "markdown",
   "metadata": {},
   "source": [
    "### Cleanup"
   ]
  },
  {
   "cell_type": "code",
   "execution_count": 44,
   "metadata": {},
   "outputs": [
    {
     "name": "stderr",
     "output_type": "stream",
     "text": [
      "INFO:sagemaker:Deleting endpoint configuration with name: pytorch-model\n",
      "INFO:sagemaker:Deleting endpoint with name: pytorch-model\n"
     ]
    }
   ],
   "source": [
    "predictor.delete_endpoint(delete_endpoint_config=True)"
   ]
  },
  {
   "cell_type": "code",
   "execution_count": null,
   "metadata": {},
   "outputs": [],
   "source": []
  }
 ],
 "metadata": {
  "kernelspec": {
   "display_name": "6.86x",
   "language": "python",
   "name": "python3"
  },
  "language_info": {
   "codemirror_mode": {
    "name": "ipython",
    "version": 3
   },
   "file_extension": ".py",
   "mimetype": "text/x-python",
   "name": "python",
   "nbconvert_exporter": "python",
   "pygments_lexer": "ipython3",
   "version": "3.9.12"
  },
  "orig_nbformat": 4
 },
 "nbformat": 4,
 "nbformat_minor": 2
}
