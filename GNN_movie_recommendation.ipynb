{
 "cells": [
  {
   "cell_type": "markdown",
   "metadata": {},
   "source": [
    "# Movie recommendation with graph neural networks (GNN)"
   ]
  },
  {
   "cell_type": "markdown",
   "metadata": {},
   "source": [
    "Graph is a natural structure to represent user-movie interactions. In a bipartite graph, there are two types of nodes, one represents users and another one for movies. There are edges between user nodes and movie nodes, which represents the rating of a movie given by a user. Therefore, graph neural networks (GNN) can also be used to do movie recommendation.\n",
    "\n",
    "In this notebook, I used the MovieLens dataset and tested the GNN models in solving recommendation problems. GNN can be used to solve graph-level, node-level, and edge-level tasks. This is an example of edge-level regression problem. \n",
    "\n",
    "I have referred the following link for this notebook.\n",
    "https://colab.research.google.com/drive/1N3LvAO0AXV4kBPbTMX866OwJM9YS6Ji2?usp=sharing"
   ]
  },
  {
   "cell_type": "code",
   "execution_count": 123,
   "metadata": {},
   "outputs": [],
   "source": [
    "import torch\n",
    "import numpy as np\n",
    "import pandas as pd\n",
    "import matplotlib.pyplot as plt"
   ]
  },
  {
   "cell_type": "markdown",
   "metadata": {},
   "source": [
    "### Load data\n",
    "\n",
    "I used the small dataset just to demonstrate GNN for recommendation system. "
   ]
  },
  {
   "cell_type": "code",
   "execution_count": 124,
   "metadata": {},
   "outputs": [
    {
     "data": {
      "text/html": [
       "<div>\n",
       "<style scoped>\n",
       "    .dataframe tbody tr th:only-of-type {\n",
       "        vertical-align: middle;\n",
       "    }\n",
       "\n",
       "    .dataframe tbody tr th {\n",
       "        vertical-align: top;\n",
       "    }\n",
       "\n",
       "    .dataframe thead th {\n",
       "        text-align: right;\n",
       "    }\n",
       "</style>\n",
       "<table border=\"1\" class=\"dataframe\">\n",
       "  <thead>\n",
       "    <tr style=\"text-align: right;\">\n",
       "      <th></th>\n",
       "      <th>Unnamed: 0</th>\n",
       "      <th>userId</th>\n",
       "      <th>movieId</th>\n",
       "      <th>rating</th>\n",
       "    </tr>\n",
       "  </thead>\n",
       "  <tbody>\n",
       "    <tr>\n",
       "      <th>0</th>\n",
       "      <td>19846</td>\n",
       "      <td>156</td>\n",
       "      <td>1</td>\n",
       "      <td>5.0</td>\n",
       "    </tr>\n",
       "    <tr>\n",
       "      <th>1</th>\n",
       "      <td>19847</td>\n",
       "      <td>156</td>\n",
       "      <td>2</td>\n",
       "      <td>5.0</td>\n",
       "    </tr>\n",
       "    <tr>\n",
       "      <th>2</th>\n",
       "      <td>19851</td>\n",
       "      <td>156</td>\n",
       "      <td>6</td>\n",
       "      <td>4.0</td>\n",
       "    </tr>\n",
       "    <tr>\n",
       "      <th>3</th>\n",
       "      <td>19854</td>\n",
       "      <td>156</td>\n",
       "      <td>10</td>\n",
       "      <td>4.0</td>\n",
       "    </tr>\n",
       "    <tr>\n",
       "      <th>4</th>\n",
       "      <td>19855</td>\n",
       "      <td>156</td>\n",
       "      <td>11</td>\n",
       "      <td>5.0</td>\n",
       "    </tr>\n",
       "  </tbody>\n",
       "</table>\n",
       "</div>"
      ],
      "text/plain": [
       "   Unnamed: 0  userId  movieId  rating\n",
       "0       19846     156        1     5.0\n",
       "1       19847     156        2     5.0\n",
       "2       19851     156        6     4.0\n",
       "3       19854     156       10     4.0\n",
       "4       19855     156       11     5.0"
      ]
     },
     "execution_count": 124,
     "metadata": {},
     "output_type": "execute_result"
    }
   ],
   "source": [
    "df = pd.read_csv(\"small_rating.csv\")\n",
    "df.head()"
   ]
  },
  {
   "cell_type": "markdown",
   "metadata": {},
   "source": [
    "Only keep three columns: userId, movieId, and rating."
   ]
  },
  {
   "cell_type": "code",
   "execution_count": 125,
   "metadata": {},
   "outputs": [],
   "source": [
    "df = df[['userId', 'movieId', 'rating']]"
   ]
  },
  {
   "cell_type": "markdown",
   "metadata": {},
   "source": [
    "Check the minimum and maximum for userId and movieId. To keep the data storage as packed as possible, we want to map the IDs to new ones that are continuous integers starting from 0."
   ]
  },
  {
   "cell_type": "code",
   "execution_count": 126,
   "metadata": {},
   "outputs": [
    {
     "data": {
      "text/html": [
       "<div>\n",
       "<style scoped>\n",
       "    .dataframe tbody tr th:only-of-type {\n",
       "        vertical-align: middle;\n",
       "    }\n",
       "\n",
       "    .dataframe tbody tr th {\n",
       "        vertical-align: top;\n",
       "    }\n",
       "\n",
       "    .dataframe thead th {\n",
       "        text-align: right;\n",
       "    }\n",
       "</style>\n",
       "<table border=\"1\" class=\"dataframe\">\n",
       "  <thead>\n",
       "    <tr style=\"text-align: right;\">\n",
       "      <th></th>\n",
       "      <th>userId</th>\n",
       "      <th>movieId</th>\n",
       "      <th>rating</th>\n",
       "    </tr>\n",
       "  </thead>\n",
       "  <tbody>\n",
       "    <tr>\n",
       "      <th>min</th>\n",
       "      <td>156</td>\n",
       "      <td>1</td>\n",
       "      <td>0.5</td>\n",
       "    </tr>\n",
       "    <tr>\n",
       "      <th>max</th>\n",
       "      <td>138325</td>\n",
       "      <td>58559</td>\n",
       "      <td>5.0</td>\n",
       "    </tr>\n",
       "  </tbody>\n",
       "</table>\n",
       "</div>"
      ],
      "text/plain": [
       "     userId  movieId  rating\n",
       "min     156        1     0.5\n",
       "max  138325    58559     5.0"
      ]
     },
     "execution_count": 126,
     "metadata": {},
     "output_type": "execute_result"
    }
   ],
   "source": [
    "df.apply([min, max])"
   ]
  },
  {
   "cell_type": "markdown",
   "metadata": {},
   "source": [
    "Map to new userId and movieId."
   ]
  },
  {
   "cell_type": "code",
   "execution_count": 127,
   "metadata": {},
   "outputs": [
    {
     "data": {
      "text/html": [
       "<div>\n",
       "<style scoped>\n",
       "    .dataframe tbody tr th:only-of-type {\n",
       "        vertical-align: middle;\n",
       "    }\n",
       "\n",
       "    .dataframe tbody tr th {\n",
       "        vertical-align: top;\n",
       "    }\n",
       "\n",
       "    .dataframe thead th {\n",
       "        text-align: right;\n",
       "    }\n",
       "</style>\n",
       "<table border=\"1\" class=\"dataframe\">\n",
       "  <thead>\n",
       "    <tr style=\"text-align: right;\">\n",
       "      <th></th>\n",
       "      <th>userId</th>\n",
       "      <th>movieId</th>\n",
       "      <th>rating</th>\n",
       "      <th>new_userId</th>\n",
       "      <th>new_movieId</th>\n",
       "    </tr>\n",
       "  </thead>\n",
       "  <tbody>\n",
       "    <tr>\n",
       "      <th>0</th>\n",
       "      <td>156</td>\n",
       "      <td>1</td>\n",
       "      <td>5.0</td>\n",
       "      <td>0</td>\n",
       "      <td>0</td>\n",
       "    </tr>\n",
       "    <tr>\n",
       "      <th>1</th>\n",
       "      <td>156</td>\n",
       "      <td>2</td>\n",
       "      <td>5.0</td>\n",
       "      <td>0</td>\n",
       "      <td>1</td>\n",
       "    </tr>\n",
       "    <tr>\n",
       "      <th>2</th>\n",
       "      <td>156</td>\n",
       "      <td>6</td>\n",
       "      <td>4.0</td>\n",
       "      <td>0</td>\n",
       "      <td>2</td>\n",
       "    </tr>\n",
       "    <tr>\n",
       "      <th>3</th>\n",
       "      <td>156</td>\n",
       "      <td>10</td>\n",
       "      <td>4.0</td>\n",
       "      <td>0</td>\n",
       "      <td>3</td>\n",
       "    </tr>\n",
       "    <tr>\n",
       "      <th>4</th>\n",
       "      <td>156</td>\n",
       "      <td>11</td>\n",
       "      <td>5.0</td>\n",
       "      <td>0</td>\n",
       "      <td>4</td>\n",
       "    </tr>\n",
       "  </tbody>\n",
       "</table>\n",
       "</div>"
      ],
      "text/plain": [
       "   userId  movieId  rating  new_userId  new_movieId\n",
       "0     156        1     5.0           0            0\n",
       "1     156        2     5.0           0            1\n",
       "2     156        6     4.0           0            2\n",
       "3     156       10     4.0           0            3\n",
       "4     156       11     5.0           0            4"
      ]
     },
     "execution_count": 127,
     "metadata": {},
     "output_type": "execute_result"
    }
   ],
   "source": [
    "unique_userId = sorted(df['userId'].unique())\n",
    "unique_movieId = sorted(df['movieId'].unique())\n",
    "df['new_userId'] = df['userId'].map({v:i for i, v in enumerate(unique_userId)})\n",
    "df['new_movieId'] = df['movieId'].map({v:i for i, v in enumerate(unique_movieId)})\n",
    "df.head()"
   ]
  },
  {
   "cell_type": "code",
   "execution_count": 128,
   "metadata": {},
   "outputs": [
    {
     "data": {
      "text/html": [
       "<div>\n",
       "<style scoped>\n",
       "    .dataframe tbody tr th:only-of-type {\n",
       "        vertical-align: middle;\n",
       "    }\n",
       "\n",
       "    .dataframe tbody tr th {\n",
       "        vertical-align: top;\n",
       "    }\n",
       "\n",
       "    .dataframe thead th {\n",
       "        text-align: right;\n",
       "    }\n",
       "</style>\n",
       "<table border=\"1\" class=\"dataframe\">\n",
       "  <thead>\n",
       "    <tr style=\"text-align: right;\">\n",
       "      <th></th>\n",
       "      <th>userId</th>\n",
       "      <th>movieId</th>\n",
       "      <th>rating</th>\n",
       "      <th>new_userId</th>\n",
       "      <th>new_movieId</th>\n",
       "    </tr>\n",
       "  </thead>\n",
       "  <tbody>\n",
       "    <tr>\n",
       "      <th>min</th>\n",
       "      <td>156</td>\n",
       "      <td>1</td>\n",
       "      <td>0.5</td>\n",
       "      <td>0</td>\n",
       "      <td>0</td>\n",
       "    </tr>\n",
       "    <tr>\n",
       "      <th>max</th>\n",
       "      <td>138325</td>\n",
       "      <td>58559</td>\n",
       "      <td>5.0</td>\n",
       "      <td>499</td>\n",
       "      <td>199</td>\n",
       "    </tr>\n",
       "  </tbody>\n",
       "</table>\n",
       "</div>"
      ],
      "text/plain": [
       "     userId  movieId  rating  new_userId  new_movieId\n",
       "min     156        1     0.5           0            0\n",
       "max  138325    58559     5.0         499          199"
      ]
     },
     "execution_count": 128,
     "metadata": {},
     "output_type": "execute_result"
    }
   ],
   "source": [
    "df.apply([min, max])"
   ]
  },
  {
   "cell_type": "markdown",
   "metadata": {},
   "source": [
    "Now, the new userId is from 0 to 499 and new movie Id is from 0 to 199."
   ]
  },
  {
   "cell_type": "markdown",
   "metadata": {},
   "source": [
    "### Data process"
   ]
  },
  {
   "cell_type": "markdown",
   "metadata": {},
   "source": [
    "I used PyG (torch_geometric) to process data and build the GNN models."
   ]
  },
  {
   "cell_type": "code",
   "execution_count": 129,
   "metadata": {},
   "outputs": [],
   "source": [
    "import torch_geometric.transforms as T\n",
    "from torch_geometric.data import HeteroData"
   ]
  },
  {
   "cell_type": "code",
   "execution_count": 130,
   "metadata": {},
   "outputs": [],
   "source": [
    "data = HeteroData()"
   ]
  },
  {
   "cell_type": "code",
   "execution_count": 131,
   "metadata": {},
   "outputs": [],
   "source": [
    "n_users = df['new_userId'].nunique()\n",
    "n_movies = df['new_movieId'].nunique()"
   ]
  },
  {
   "cell_type": "markdown",
   "metadata": {},
   "source": [
    "I used one-hot encoded IDs for user and movie features. An alternative option is to use the movie genre as feature vectors for movies."
   ]
  },
  {
   "cell_type": "code",
   "execution_count": 132,
   "metadata": {},
   "outputs": [],
   "source": [
    "data['user'].x = torch.eye(n_users)\n",
    "data['movie'].x = torch.eye(n_movies)\n",
    "edge_index = torch.LongTensor(df[['new_userId', 'new_movieId']].to_numpy().T)\n",
    "rating = torch.from_numpy(df['rating'].to_numpy()).to(torch.float)\n",
    "data['user', 'rate', 'movie'].edge_index = edge_index\n",
    "data['user', 'rate', 'movie'].edge_label = rating\n",
    "data = T.ToUndirected()(data)"
   ]
  },
  {
   "cell_type": "code",
   "execution_count": 133,
   "metadata": {},
   "outputs": [
    {
     "data": {
      "text/plain": [
       "HeteroData(\n",
       "  \u001b[1muser\u001b[0m={ x=[500, 500] },\n",
       "  \u001b[1mmovie\u001b[0m={ x=[200, 200] },\n",
       "  \u001b[1m(user, rate, movie)\u001b[0m={\n",
       "    edge_index=[2, 86516],\n",
       "    edge_label=[86516]\n",
       "  },\n",
       "  \u001b[1m(movie, rev_rate, user)\u001b[0m={\n",
       "    edge_index=[2, 86516],\n",
       "    edge_label=[86516]\n",
       "  }\n",
       ")"
      ]
     },
     "execution_count": 133,
     "metadata": {},
     "output_type": "execute_result"
    }
   ],
   "source": [
    "data"
   ]
  },
  {
   "cell_type": "markdown",
   "metadata": {},
   "source": [
    "It's easy to access the edge_index and edge_label data using the string tuple indexing."
   ]
  },
  {
   "cell_type": "code",
   "execution_count": 134,
   "metadata": {},
   "outputs": [
    {
     "data": {
      "text/plain": [
       "{'edge_index': tensor([[  0,   0,   0,  ..., 499, 499, 499],\n",
       "        [  0,   1,   2,  ..., 197, 198, 199]]), 'edge_label': tensor([5.0000, 5.0000, 4.0000,  ..., 4.5000, 4.5000, 5.0000])}"
      ]
     },
     "execution_count": 134,
     "metadata": {},
     "output_type": "execute_result"
    }
   ],
   "source": [
    "data['user', 'rate', 'movie']"
   ]
  },
  {
   "cell_type": "markdown",
   "metadata": {},
   "source": [
    "We are solving an edge-level regression problem. So we separate the dataset into train and validation data by spliting the edges randomly."
   ]
  },
  {
   "cell_type": "code",
   "execution_count": 135,
   "metadata": {},
   "outputs": [],
   "source": [
    "train_data, val_data, _ = T.RandomLinkSplit(\n",
    "    num_val=0.2,\n",
    "    num_test=0.0,\n",
    "    neg_sampling_ratio=0.0,\n",
    "    edge_types=[('user', 'rate', 'movie')],\n",
    "    rev_edge_types=[('movie', 'rev_rate', 'user')],\n",
    ")(data)"
   ]
  },
  {
   "cell_type": "code",
   "execution_count": 136,
   "metadata": {},
   "outputs": [
    {
     "data": {
      "text/plain": [
       "(HeteroData(\n",
       "   \u001b[1muser\u001b[0m={ x=[500, 500] },\n",
       "   \u001b[1mmovie\u001b[0m={ x=[200, 200] },\n",
       "   \u001b[1m(user, rate, movie)\u001b[0m={\n",
       "     edge_index=[2, 69213],\n",
       "     edge_label=[69213],\n",
       "     edge_label_index=[2, 69213]\n",
       "   },\n",
       "   \u001b[1m(movie, rev_rate, user)\u001b[0m={\n",
       "     edge_index=[2, 69213],\n",
       "     edge_label=[69213]\n",
       "   }\n",
       " ),\n",
       " HeteroData(\n",
       "   \u001b[1muser\u001b[0m={ x=[500, 500] },\n",
       "   \u001b[1mmovie\u001b[0m={ x=[200, 200] },\n",
       "   \u001b[1m(user, rate, movie)\u001b[0m={\n",
       "     edge_index=[2, 69213],\n",
       "     edge_label=[17303],\n",
       "     edge_label_index=[2, 17303]\n",
       "   },\n",
       "   \u001b[1m(movie, rev_rate, user)\u001b[0m={\n",
       "     edge_index=[2, 69213],\n",
       "     edge_label=[69213]\n",
       "   }\n",
       " ))"
      ]
     },
     "execution_count": 136,
     "metadata": {},
     "output_type": "execute_result"
    }
   ],
   "source": [
    "train_data, val_data"
   ]
  },
  {
   "cell_type": "markdown",
   "metadata": {},
   "source": [
    "### Build and train GNN models"
   ]
  },
  {
   "cell_type": "code",
   "execution_count": 137,
   "metadata": {},
   "outputs": [],
   "source": [
    "from torch_geometric.nn import GATConv, SAGEConv, GCNConv, TransformerConv, to_hetero"
   ]
  },
  {
   "cell_type": "code",
   "execution_count": 138,
   "metadata": {},
   "outputs": [
    {
     "data": {
      "text/plain": [
       "(['user', 'movie'], [('user', 'rate', 'movie'), ('movie', 'rev_rate', 'user')])"
      ]
     },
     "execution_count": 138,
     "metadata": {},
     "output_type": "execute_result"
    }
   ],
   "source": [
    "data.metadata()"
   ]
  },
  {
   "cell_type": "markdown",
   "metadata": {},
   "source": [
    "I wanted to compare different message passing layers for Graph Neural Networks. We are working with heterogeneous graph, because we have two types of nodes (user nodes and movie nodes). We have to use `to_hetero` function to convert homogeneous GNN model to heterogeneous GNN model. "
   ]
  },
  {
   "cell_type": "code",
   "execution_count": 139,
   "metadata": {},
   "outputs": [],
   "source": [
    "class GANEncoder(torch.nn.Module):\n",
    "    def __init__(self, hidden_dim, out_dim):\n",
    "        super(GANEncoder, self).__init__()\n",
    "        heads = 4\n",
    "        self.gatconv1 = GATConv((-1, -1), hidden_dim, heads=heads, add_self_loops=False)\n",
    "        self.lin1 = torch.nn.LazyLinear(heads * hidden_dim)\n",
    "        self.gatconv2 = GATConv((-1, -1), out_dim, heads=heads, add_self_loops=False)\n",
    "        self.lin2 = torch.nn.Linear(heads * hidden_dim, heads * out_dim)\n",
    "        self.lin3 = torch.nn.Linear(heads * out_dim, out_dim)\n",
    "    \n",
    "    def forward(self, x, edge_index):\n",
    "        x = self.gatconv1(x, edge_index) + self.lin1(x)\n",
    "        x = x.relu()\n",
    "        x = self.gatconv2(x, edge_index) + self.lin2(x)\n",
    "        x = x.relu()\n",
    "        x = self.lin3(x)\n",
    "        return x\n",
    "\n",
    "class SAGEEncoder(torch.nn.Module):\n",
    "    def __init__(self, hidden_dim, out_dim):\n",
    "        super(SAGEEncoder, self).__init__()\n",
    "        self.conv1 = SAGEConv((-1, -1), hidden_dim)\n",
    "        self.conv2 = SAGEConv((-1, -1), out_dim)\n",
    "\n",
    "    def forward(self, x, edge_index):\n",
    "        x = self.conv1(x, edge_index).relu()\n",
    "        x = self.conv2(x, edge_index)\n",
    "        return x\n",
    "    \n",
    "class TransformerEncoder(torch.nn.Module):\n",
    "    def __init__(self, hidden_dim, out_dim):\n",
    "        super(TransformerEncoder, self).__init__()\n",
    "        self.conv1 = TransformerConv((-1, -1), hidden_dim)\n",
    "        self.conv2 = TransformerConv((-1, -1), out_dim)\n",
    "\n",
    "    def forward(self, x, edge_index):\n",
    "        x = self.conv1(x, edge_index).relu()\n",
    "        x = self.conv2(x, edge_index)\n",
    "        return x\n",
    "\n",
    "class RatingPredictor(torch.nn.Module):\n",
    "    def __init__(self, feature_dim):\n",
    "        super(RatingPredictor, self).__init__()\n",
    "        self.lin1 = torch.nn.Linear(2 * feature_dim, feature_dim)\n",
    "        self.lin2 = torch.nn.Linear(feature_dim, 1)\n",
    "    \n",
    "    def forward(self, x_dict, edge_label_index):\n",
    "        row, col = edge_label_index\n",
    "        inputs = torch.cat([x_dict['user'][row], x_dict['movie'][col]], dim=-1)\n",
    "        outputs = self.lin1(inputs).relu()\n",
    "        outputs = self.lin2(outputs)\n",
    "        return outputs.view(-1)\n",
    "    \n",
    "class Model(torch.nn.Module):\n",
    "    def __init__(self, hidden_dim, out_dim, encoder_type):\n",
    "        super().__init__()\n",
    "        encoders = {\n",
    "            \"sage\": SAGEEncoder(hidden_dim, out_dim),\n",
    "            \"gan\": GANEncoder(hidden_dim, out_dim),\n",
    "            \"transformer\": TransformerEncoder(hidden_dim, out_dim)\n",
    "        }\n",
    "        self.encoder = encoders[encoder_type]\n",
    "        self.encoder = to_hetero(self.encoder, data.metadata(), aggr='sum')\n",
    "        self.rating_predictor = RatingPredictor(out_dim)\n",
    "\n",
    "    def forward(self, x_dict, edge_index_dict, edge_label_index):\n",
    "        node_feature_dict = self.encoder(x_dict, edge_index_dict)\n",
    "        return self.rating_predictor(node_feature_dict, edge_label_index)"
   ]
  },
  {
   "cell_type": "markdown",
   "metadata": {},
   "source": [
    "Create functions to train the model."
   ]
  },
  {
   "cell_type": "code",
   "execution_count": 140,
   "metadata": {},
   "outputs": [],
   "source": [
    "import torch.nn.functional as F\n",
    "def train_epoch(model, optimizer):\n",
    "    model.train()\n",
    "    optimizer.zero_grad()\n",
    "    pred = model(train_data.x_dict, train_data.edge_index_dict, train_data['user','rate', 'movie'].edge_label_index)\n",
    "    target = train_data['user', 'rate', 'movie'].edge_label\n",
    "    loss = F.mse_loss(pred, target)\n",
    "    loss.backward()\n",
    "    optimizer.step()\n",
    "    return float(loss)\n",
    "\n",
    "@torch.no_grad()\n",
    "def test(model, data):\n",
    "    model.eval()\n",
    "    pred = model(data.x_dict, data.edge_index_dict, data['user', 'rate', 'movie'].edge_label_index)\n",
    "    pred = pred.clamp(min=0, max=5)\n",
    "    target = data['user', 'rate', 'movie'].edge_label\n",
    "    mse = F.mse_loss(pred, target)\n",
    "    return float(mse)\n",
    "\n",
    "def model_train(model, lr=0.01, epochs=300):\n",
    "    optimizer = torch.optim.Adam(model.parameters(), lr=lr)\n",
    "    for epoch in range(epochs):\n",
    "        loss = train_epoch(model, optimizer)\n",
    "        train_mse = test(model, train_data)\n",
    "        val_mse = test(model, val_data)\n",
    "        if epoch % 20 == 0:\n",
    "            print(f'Epoch: {epoch+1:03d}, Loss: {loss:.4f}, Train MSE: {train_mse:.4f}, '\n",
    "                f'Val MSE: {val_mse:.4f}')\n",
    "    return loss, train_mse, val_mse\n"
   ]
  },
  {
   "cell_type": "markdown",
   "metadata": {},
   "source": [
    "Compared three different models"
   ]
  },
  {
   "cell_type": "code",
   "execution_count": 141,
   "metadata": {},
   "outputs": [
    {
     "name": "stderr",
     "output_type": "stream",
     "text": [
      "/Users/fuyuanjing/opt/anaconda3/envs/6.86x/lib/python3.9/site-packages/torch/nn/modules/lazy.py:180: UserWarning: Lazy modules are a new feature under heavy development so changes to the API or functionality can happen at any moment.\n",
      "  warnings.warn('Lazy modules are a new feature under heavy development '\n"
     ]
    },
    {
     "data": {
      "text/plain": [
       "Model(\n",
       "  (encoder): GraphModule(\n",
       "    (gatconv1): ModuleDict(\n",
       "      (user__rate__movie): GATConv((-1, -1), 10, heads=4)\n",
       "      (movie__rev_rate__user): GATConv((-1, -1), 10, heads=4)\n",
       "    )\n",
       "    (lin1): ModuleDict(\n",
       "      (user): LazyLinear(in_features=0, out_features=40, bias=True)\n",
       "      (movie): LazyLinear(in_features=0, out_features=40, bias=True)\n",
       "    )\n",
       "    (gatconv2): ModuleDict(\n",
       "      (user__rate__movie): GATConv((-1, -1), 10, heads=4)\n",
       "      (movie__rev_rate__user): GATConv((-1, -1), 10, heads=4)\n",
       "    )\n",
       "    (lin2): ModuleDict(\n",
       "      (user): Linear(in_features=40, out_features=40, bias=True)\n",
       "      (movie): Linear(in_features=40, out_features=40, bias=True)\n",
       "    )\n",
       "    (lin3): ModuleDict(\n",
       "      (user): Linear(in_features=40, out_features=10, bias=True)\n",
       "      (movie): Linear(in_features=40, out_features=10, bias=True)\n",
       "    )\n",
       "  )\n",
       "  (rating_predictor): RatingPredictor(\n",
       "    (lin1): Linear(in_features=20, out_features=10, bias=True)\n",
       "    (lin2): Linear(in_features=10, out_features=1, bias=True)\n",
       "  )\n",
       ")"
      ]
     },
     "execution_count": 141,
     "metadata": {},
     "output_type": "execute_result"
    }
   ],
   "source": [
    "model_1 = Model(hidden_dim=10, out_dim=10, encoder_type='gan')\n",
    "model_1"
   ]
  },
  {
   "cell_type": "code",
   "execution_count": 142,
   "metadata": {},
   "outputs": [
    {
     "name": "stdout",
     "output_type": "stream",
     "text": [
      "Epoch: 001, Loss: 12.4635, Train MSE: 12.1873, Val MSE: 12.2043\n"
     ]
    },
    {
     "name": "stdout",
     "output_type": "stream",
     "text": [
      "Epoch: 021, Loss: 2.5956, Train MSE: 1.8553, Val MSE: 1.8492\n",
      "Epoch: 041, Loss: 1.1364, Train MSE: 1.0919, Val MSE: 1.0909\n",
      "Epoch: 061, Loss: 0.8794, Train MSE: 0.8662, Val MSE: 0.8688\n",
      "Epoch: 081, Loss: 0.7863, Train MSE: 0.7823, Val MSE: 0.7878\n",
      "Epoch: 101, Loss: 0.7083, Train MSE: 0.7025, Val MSE: 0.7102\n",
      "Epoch: 121, Loss: 0.6486, Train MSE: 0.6470, Val MSE: 0.6575\n",
      "Epoch: 141, Loss: 0.6422, Train MSE: 0.6420, Val MSE: 0.6524\n",
      "Epoch: 161, Loss: 0.6414, Train MSE: 0.6413, Val MSE: 0.6516\n",
      "Epoch: 181, Loss: 0.6411, Train MSE: 0.6410, Val MSE: 0.6511\n",
      "Epoch: 201, Loss: 0.6410, Train MSE: 0.6409, Val MSE: 0.6509\n",
      "Epoch: 221, Loss: 0.6409, Train MSE: 0.6408, Val MSE: 0.6509\n",
      "Epoch: 241, Loss: 0.6409, Train MSE: 0.6408, Val MSE: 0.6509\n",
      "Epoch: 261, Loss: 0.6409, Train MSE: 0.6408, Val MSE: 0.6508\n",
      "Epoch: 281, Loss: 0.6408, Train MSE: 0.6407, Val MSE: 0.6508\n",
      "Epoch: 301, Loss: 0.6408, Train MSE: 0.6407, Val MSE: 0.6507\n",
      "Epoch: 321, Loss: 0.6408, Train MSE: 0.6407, Val MSE: 0.6507\n",
      "Epoch: 341, Loss: 0.6408, Train MSE: 0.6407, Val MSE: 0.6507\n",
      "Epoch: 361, Loss: 0.6408, Train MSE: 0.6407, Val MSE: 0.6507\n",
      "Epoch: 381, Loss: 0.6408, Train MSE: 0.6407, Val MSE: 0.6507\n",
      "Epoch: 401, Loss: 0.6408, Train MSE: 0.6407, Val MSE: 0.6507\n",
      "Epoch: 421, Loss: 0.6408, Train MSE: 0.6407, Val MSE: 0.6507\n",
      "Epoch: 441, Loss: 0.6408, Train MSE: 0.6407, Val MSE: 0.6506\n",
      "Epoch: 461, Loss: 0.6408, Train MSE: 0.6407, Val MSE: 0.6506\n",
      "Epoch: 481, Loss: 0.6408, Train MSE: 0.6407, Val MSE: 0.6507\n"
     ]
    },
    {
     "data": {
      "text/plain": [
       "(0.6407933831214905, 0.6407012939453125, 0.6506454348564148)"
      ]
     },
     "execution_count": 142,
     "metadata": {},
     "output_type": "execute_result"
    }
   ],
   "source": [
    "model_train(model_1, lr=0.005, epochs=500)"
   ]
  },
  {
   "cell_type": "code",
   "execution_count": 143,
   "metadata": {},
   "outputs": [
    {
     "data": {
      "text/plain": [
       "Model(\n",
       "  (encoder): GraphModule(\n",
       "    (conv1): ModuleDict(\n",
       "      (user__rate__movie): SAGEConv((-1, -1), 10, aggr=mean)\n",
       "      (movie__rev_rate__user): SAGEConv((-1, -1), 10, aggr=mean)\n",
       "    )\n",
       "    (conv2): ModuleDict(\n",
       "      (user__rate__movie): SAGEConv((-1, -1), 10, aggr=mean)\n",
       "      (movie__rev_rate__user): SAGEConv((-1, -1), 10, aggr=mean)\n",
       "    )\n",
       "  )\n",
       "  (rating_predictor): RatingPredictor(\n",
       "    (lin1): Linear(in_features=20, out_features=10, bias=True)\n",
       "    (lin2): Linear(in_features=10, out_features=1, bias=True)\n",
       "  )\n",
       ")"
      ]
     },
     "execution_count": 143,
     "metadata": {},
     "output_type": "execute_result"
    }
   ],
   "source": [
    "model_2 = Model(hidden_dim=10, out_dim=10, encoder_type='sage')\n",
    "model_2"
   ]
  },
  {
   "cell_type": "code",
   "execution_count": 144,
   "metadata": {},
   "outputs": [
    {
     "name": "stdout",
     "output_type": "stream",
     "text": [
      "Epoch: 001, Loss: 14.0591, Train MSE: 13.7719, Val MSE: 13.7903\n",
      "Epoch: 021, Loss: 11.7855, Train MSE: 11.6768, Val MSE: 11.6934\n",
      "Epoch: 041, Loss: 4.3191, Train MSE: 3.6540, Val MSE: 3.6612\n",
      "Epoch: 061, Loss: 0.9662, Train MSE: 0.9616, Val MSE: 0.9596\n",
      "Epoch: 081, Loss: 0.9372, Train MSE: 0.9445, Val MSE: 0.9422\n",
      "Epoch: 101, Loss: 0.8834, Train MSE: 0.8796, Val MSE: 0.8795\n",
      "Epoch: 121, Loss: 0.8341, Train MSE: 0.8321, Val MSE: 0.8326\n",
      "Epoch: 141, Loss: 0.7930, Train MSE: 0.7910, Val MSE: 0.7925\n",
      "Epoch: 161, Loss: 0.7538, Train MSE: 0.7519, Val MSE: 0.7548\n",
      "Epoch: 181, Loss: 0.7193, Train MSE: 0.7177, Val MSE: 0.7220\n",
      "Epoch: 201, Loss: 0.6918, Train MSE: 0.6906, Val MSE: 0.6964\n",
      "Epoch: 221, Loss: 0.6718, Train MSE: 0.6711, Val MSE: 0.6784\n",
      "Epoch: 241, Loss: 0.6603, Train MSE: 0.6599, Val MSE: 0.6686\n",
      "Epoch: 261, Loss: 0.6548, Train MSE: 0.6546, Val MSE: 0.6642\n",
      "Epoch: 281, Loss: 0.6520, Train MSE: 0.6518, Val MSE: 0.6620\n",
      "Epoch: 301, Loss: 0.6503, Train MSE: 0.6502, Val MSE: 0.6605\n",
      "Epoch: 321, Loss: 0.6492, Train MSE: 0.6491, Val MSE: 0.6595\n",
      "Epoch: 341, Loss: 0.6483, Train MSE: 0.6482, Val MSE: 0.6587\n",
      "Epoch: 361, Loss: 0.6477, Train MSE: 0.6475, Val MSE: 0.6580\n",
      "Epoch: 381, Loss: 0.6471, Train MSE: 0.6470, Val MSE: 0.6575\n",
      "Epoch: 401, Loss: 0.6466, Train MSE: 0.6465, Val MSE: 0.6571\n",
      "Epoch: 421, Loss: 0.6462, Train MSE: 0.6460, Val MSE: 0.6567\n",
      "Epoch: 441, Loss: 0.6458, Train MSE: 0.6457, Val MSE: 0.6563\n",
      "Epoch: 461, Loss: 0.6455, Train MSE: 0.6453, Val MSE: 0.6560\n",
      "Epoch: 481, Loss: 0.6452, Train MSE: 0.6450, Val MSE: 0.6557\n"
     ]
    },
    {
     "data": {
      "text/plain": [
       "(0.644902765750885, 0.6447854042053223, 0.6554559469223022)"
      ]
     },
     "execution_count": 144,
     "metadata": {},
     "output_type": "execute_result"
    }
   ],
   "source": [
    "model_train(model_2, lr=0.005, epochs=500)"
   ]
  },
  {
   "cell_type": "code",
   "execution_count": 145,
   "metadata": {},
   "outputs": [
    {
     "data": {
      "text/plain": [
       "Model(\n",
       "  (encoder): GraphModule(\n",
       "    (conv1): ModuleDict(\n",
       "      (user__rate__movie): TransformerConv((-1, -1), 10, heads=1)\n",
       "      (movie__rev_rate__user): TransformerConv((-1, -1), 10, heads=1)\n",
       "    )\n",
       "    (conv2): ModuleDict(\n",
       "      (user__rate__movie): TransformerConv((-1, -1), 10, heads=1)\n",
       "      (movie__rev_rate__user): TransformerConv((-1, -1), 10, heads=1)\n",
       "    )\n",
       "  )\n",
       "  (rating_predictor): RatingPredictor(\n",
       "    (lin1): Linear(in_features=20, out_features=10, bias=True)\n",
       "    (lin2): Linear(in_features=10, out_features=1, bias=True)\n",
       "  )\n",
       ")"
      ]
     },
     "execution_count": 145,
     "metadata": {},
     "output_type": "execute_result"
    }
   ],
   "source": [
    "model_3 = Model(hidden_dim=10, out_dim=10, encoder_type='transformer')\n",
    "model_3"
   ]
  },
  {
   "cell_type": "code",
   "execution_count": 146,
   "metadata": {},
   "outputs": [
    {
     "name": "stdout",
     "output_type": "stream",
     "text": [
      "Epoch: 001, Loss: 15.0833, Train MSE: 14.3441, Val MSE: 14.3630\n",
      "Epoch: 021, Loss: 8.6020, Train MSE: 7.8433, Val MSE: 7.8556\n",
      "Epoch: 041, Loss: 1.3962, Train MSE: 1.1740, Val MSE: 1.1700\n",
      "Epoch: 061, Loss: 0.9083, Train MSE: 0.9169, Val MSE: 0.9166\n",
      "Epoch: 081, Loss: 0.8706, Train MSE: 0.8653, Val MSE: 0.8675\n",
      "Epoch: 101, Loss: 0.8067, Train MSE: 0.8046, Val MSE: 0.8083\n",
      "Epoch: 121, Loss: 0.7584, Train MSE: 0.7560, Val MSE: 0.7614\n",
      "Epoch: 141, Loss: 0.7119, Train MSE: 0.7096, Val MSE: 0.7167\n",
      "Epoch: 161, Loss: 0.6706, Train MSE: 0.6688, Val MSE: 0.6775\n",
      "Epoch: 181, Loss: 0.6479, Train MSE: 0.6476, Val MSE: 0.6573\n",
      "Epoch: 201, Loss: 0.6445, Train MSE: 0.6443, Val MSE: 0.6543\n",
      "Epoch: 221, Loss: 0.6430, Train MSE: 0.6428, Val MSE: 0.6528\n",
      "Epoch: 241, Loss: 0.6424, Train MSE: 0.6422, Val MSE: 0.6523\n",
      "Epoch: 261, Loss: 0.6421, Train MSE: 0.6420, Val MSE: 0.6521\n",
      "Epoch: 281, Loss: 0.6419, Train MSE: 0.6418, Val MSE: 0.6519\n",
      "Epoch: 301, Loss: 0.6418, Train MSE: 0.6417, Val MSE: 0.6518\n",
      "Epoch: 321, Loss: 0.6417, Train MSE: 0.6416, Val MSE: 0.6517\n",
      "Epoch: 341, Loss: 0.6417, Train MSE: 0.6416, Val MSE: 0.6516\n",
      "Epoch: 361, Loss: 0.6416, Train MSE: 0.6415, Val MSE: 0.6516\n",
      "Epoch: 381, Loss: 0.6416, Train MSE: 0.6415, Val MSE: 0.6515\n",
      "Epoch: 401, Loss: 0.6415, Train MSE: 0.6414, Val MSE: 0.6515\n",
      "Epoch: 421, Loss: 0.6415, Train MSE: 0.6414, Val MSE: 0.6514\n",
      "Epoch: 441, Loss: 0.6415, Train MSE: 0.6414, Val MSE: 0.6514\n",
      "Epoch: 461, Loss: 0.6414, Train MSE: 0.6413, Val MSE: 0.6513\n",
      "Epoch: 481, Loss: 0.6414, Train MSE: 0.6413, Val MSE: 0.6513\n"
     ]
    },
    {
     "data": {
      "text/plain": [
       "(0.641376793384552, 0.6412789821624756, 0.6512827277183533)"
      ]
     },
     "execution_count": 146,
     "metadata": {},
     "output_type": "execute_result"
    }
   ],
   "source": [
    "model_train(model_3, lr=0.005, epochs=500)"
   ]
  },
  {
   "cell_type": "code",
   "execution_count": null,
   "metadata": {},
   "outputs": [],
   "source": []
  },
  {
   "cell_type": "markdown",
   "metadata": {},
   "source": [
    "### Evaluate the model"
   ]
  },
  {
   "cell_type": "markdown",
   "metadata": {},
   "source": [
    "All three models have almost the same performance in terms of validation MSE. I compared the predicted rating with actural rating for the validation dataset."
   ]
  },
  {
   "cell_type": "code",
   "execution_count": 147,
   "metadata": {},
   "outputs": [
    {
     "data": {
      "text/plain": [
       "HeteroData(\n",
       "  \u001b[1muser\u001b[0m={ x=[500, 500] },\n",
       "  \u001b[1mmovie\u001b[0m={ x=[200, 200] },\n",
       "  \u001b[1m(user, rate, movie)\u001b[0m={\n",
       "    edge_index=[2, 69213],\n",
       "    edge_label=[17303],\n",
       "    edge_label_index=[2, 17303]\n",
       "  },\n",
       "  \u001b[1m(movie, rev_rate, user)\u001b[0m={\n",
       "    edge_index=[2, 69213],\n",
       "    edge_label=[69213]\n",
       "  }\n",
       ")"
      ]
     },
     "execution_count": 147,
     "metadata": {},
     "output_type": "execute_result"
    }
   ],
   "source": [
    "val_data"
   ]
  },
  {
   "cell_type": "code",
   "execution_count": 148,
   "metadata": {},
   "outputs": [
    {
     "data": {
      "text/plain": [
       "tensor([4., 3., 4.,  ..., 3., 3., 4.])"
      ]
     },
     "execution_count": 148,
     "metadata": {},
     "output_type": "execute_result"
    }
   ],
   "source": [
    "val_target = val_data['user', 'rate', 'movie'].edge_label\n",
    "val_target"
   ]
  },
  {
   "cell_type": "code",
   "execution_count": 149,
   "metadata": {},
   "outputs": [
    {
     "data": {
      "text/plain": [
       "tensor([4.2005, 2.8935, 3.6712,  ..., 3.7258, 4.0368, 3.2688])"
      ]
     },
     "execution_count": 149,
     "metadata": {},
     "output_type": "execute_result"
    }
   ],
   "source": [
    "val_pred = model_1(val_data.x_dict, val_data.edge_index_dict, val_data['user', 'rate', 'movie'].edge_label_index).detach()\n",
    "val_pred"
   ]
  },
  {
   "cell_type": "code",
   "execution_count": 150,
   "metadata": {},
   "outputs": [
    {
     "name": "stdout",
     "output_type": "stream",
     "text": [
      "the MSE of the validation predication is 0.6507750153541565\n",
      "the RMSE of the validation prediction is 0.8067062497138977\n"
     ]
    }
   ],
   "source": [
    "print(f\"the MSE of the validation predication is {F.mse_loss(val_pred, val_target)}\")\n",
    "print(f\"the RMSE of the validation prediction is {F.mse_loss(val_pred, val_target).sqrt()}\")"
   ]
  },
  {
   "cell_type": "code",
   "execution_count": 151,
   "metadata": {},
   "outputs": [],
   "source": [
    "import matplotlib.pyplot as plt"
   ]
  },
  {
   "cell_type": "code",
   "execution_count": 152,
   "metadata": {},
   "outputs": [
    {
     "data": {
      "image/png": "[encoded data removed]",
      "text/plain": [
       "<Figure size 864x576 with 1 Axes>"
      ]
     },
     "metadata": {
      "needs_background": "light"
     },
     "output_type": "display_data"
    }
   ],
   "source": [
    "residue = (val_pred - val_target).numpy()\n",
    "plt.figure(figsize=(12,8))\n",
    "plt.hist(residue, bins=50)\n",
    "plt.show()"
   ]
  },
  {
   "cell_type": "markdown",
   "metadata": {},
   "source": [
    "We can see the distribution of residues is symetric and most of the errors are within -1 and +1."
   ]
  },
  {
   "cell_type": "markdown",
   "metadata": {},
   "source": [
    "### Make recommendations"
   ]
  },
  {
   "cell_type": "code",
   "execution_count": 153,
   "metadata": {},
   "outputs": [],
   "source": [
    "# create a function to generate all possible edge index for a user\n",
    "def all_edges(userId):\n",
    "    edge_index = np.array([[userId]*n_movies, np.arange(n_movies)])\n",
    "    return torch.LongTensor(edge_index)\n",
    "\n",
    "def rate_all_movies_by_user(model, userId):\n",
    "    edge_label_index = all_edges(userId)\n",
    "    pred = model(data.x_dict, data.edge_index_dict, edge_label_index)\n",
    "    pred = pred.detach().numpy()\n",
    "    df = {\n",
    "        'new_userId': [userId] * n_movies,\n",
    "        'new_movieId': np.arange(n_movies),\n",
    "        'rating_pred': pred,\n",
    "    }\n",
    "    return pd.DataFrame(df)"
   ]
  },
  {
   "cell_type": "markdown",
   "metadata": {},
   "source": [
    "Predict the ratings for all movies given by a user."
   ]
  },
  {
   "cell_type": "code",
   "execution_count": 154,
   "metadata": {},
   "outputs": [
    {
     "data": {
      "text/html": [
       "<div>\n",
       "<style scoped>\n",
       "    .dataframe tbody tr th:only-of-type {\n",
       "        vertical-align: middle;\n",
       "    }\n",
       "\n",
       "    .dataframe tbody tr th {\n",
       "        vertical-align: top;\n",
       "    }\n",
       "\n",
       "    .dataframe thead th {\n",
       "        text-align: right;\n",
       "    }\n",
       "</style>\n",
       "<table border=\"1\" class=\"dataframe\">\n",
       "  <thead>\n",
       "    <tr style=\"text-align: right;\">\n",
       "      <th></th>\n",
       "      <th>new_userId</th>\n",
       "      <th>new_movieId</th>\n",
       "      <th>rating_pred</th>\n",
       "    </tr>\n",
       "  </thead>\n",
       "  <tbody>\n",
       "    <tr>\n",
       "      <th>0</th>\n",
       "      <td>400</td>\n",
       "      <td>0</td>\n",
       "      <td>3.700058</td>\n",
       "    </tr>\n",
       "    <tr>\n",
       "      <th>1</th>\n",
       "      <td>400</td>\n",
       "      <td>1</td>\n",
       "      <td>2.598008</td>\n",
       "    </tr>\n",
       "    <tr>\n",
       "      <th>2</th>\n",
       "      <td>400</td>\n",
       "      <td>2</td>\n",
       "      <td>3.418951</td>\n",
       "    </tr>\n",
       "    <tr>\n",
       "      <th>3</th>\n",
       "      <td>400</td>\n",
       "      <td>3</td>\n",
       "      <td>2.915419</td>\n",
       "    </tr>\n",
       "    <tr>\n",
       "      <th>4</th>\n",
       "      <td>400</td>\n",
       "      <td>4</td>\n",
       "      <td>3.071210</td>\n",
       "    </tr>\n",
       "    <tr>\n",
       "      <th>...</th>\n",
       "      <td>...</td>\n",
       "      <td>...</td>\n",
       "      <td>...</td>\n",
       "    </tr>\n",
       "    <tr>\n",
       "      <th>195</th>\n",
       "      <td>400</td>\n",
       "      <td>195</td>\n",
       "      <td>3.722353</td>\n",
       "    </tr>\n",
       "    <tr>\n",
       "      <th>196</th>\n",
       "      <td>400</td>\n",
       "      <td>196</td>\n",
       "      <td>3.506878</td>\n",
       "    </tr>\n",
       "    <tr>\n",
       "      <th>197</th>\n",
       "      <td>400</td>\n",
       "      <td>197</td>\n",
       "      <td>3.665986</td>\n",
       "    </tr>\n",
       "    <tr>\n",
       "      <th>198</th>\n",
       "      <td>400</td>\n",
       "      <td>198</td>\n",
       "      <td>3.615706</td>\n",
       "    </tr>\n",
       "    <tr>\n",
       "      <th>199</th>\n",
       "      <td>400</td>\n",
       "      <td>199</td>\n",
       "      <td>3.811661</td>\n",
       "    </tr>\n",
       "  </tbody>\n",
       "</table>\n",
       "<p>200 rows × 3 columns</p>\n",
       "</div>"
      ],
      "text/plain": [
       "     new_userId  new_movieId  rating_pred\n",
       "0           400            0     3.700058\n",
       "1           400            1     2.598008\n",
       "2           400            2     3.418951\n",
       "3           400            3     2.915419\n",
       "4           400            4     3.071210\n",
       "..          ...          ...          ...\n",
       "195         400          195     3.722353\n",
       "196         400          196     3.506878\n",
       "197         400          197     3.665986\n",
       "198         400          198     3.615706\n",
       "199         400          199     3.811661\n",
       "\n",
       "[200 rows x 3 columns]"
      ]
     },
     "execution_count": 154,
     "metadata": {},
     "output_type": "execute_result"
    }
   ],
   "source": [
    "new_userId = 400\n",
    "pred_df = rate_all_movies_by_user(model_1, new_userId)\n",
    "pred_df"
   ]
  },
  {
   "cell_type": "code",
   "execution_count": 155,
   "metadata": {},
   "outputs": [
    {
     "data": {
      "text/html": [
       "<div>\n",
       "<style scoped>\n",
       "    .dataframe tbody tr th:only-of-type {\n",
       "        vertical-align: middle;\n",
       "    }\n",
       "\n",
       "    .dataframe tbody tr th {\n",
       "        vertical-align: top;\n",
       "    }\n",
       "\n",
       "    .dataframe thead th {\n",
       "        text-align: right;\n",
       "    }\n",
       "</style>\n",
       "<table border=\"1\" class=\"dataframe\">\n",
       "  <thead>\n",
       "    <tr style=\"text-align: right;\">\n",
       "      <th></th>\n",
       "      <th>userId</th>\n",
       "      <th>movieId</th>\n",
       "      <th>rating</th>\n",
       "      <th>new_userId</th>\n",
       "      <th>new_movieId</th>\n",
       "    </tr>\n",
       "  </thead>\n",
       "  <tbody>\n",
       "    <tr>\n",
       "      <th>69152</th>\n",
       "      <td>111549</td>\n",
       "      <td>1</td>\n",
       "      <td>3.0</td>\n",
       "      <td>400</td>\n",
       "      <td>0</td>\n",
       "    </tr>\n",
       "    <tr>\n",
       "      <th>69153</th>\n",
       "      <td>111549</td>\n",
       "      <td>2</td>\n",
       "      <td>3.0</td>\n",
       "      <td>400</td>\n",
       "      <td>1</td>\n",
       "    </tr>\n",
       "    <tr>\n",
       "      <th>69154</th>\n",
       "      <td>111549</td>\n",
       "      <td>10</td>\n",
       "      <td>3.0</td>\n",
       "      <td>400</td>\n",
       "      <td>3</td>\n",
       "    </tr>\n",
       "    <tr>\n",
       "      <th>69155</th>\n",
       "      <td>111549</td>\n",
       "      <td>11</td>\n",
       "      <td>3.0</td>\n",
       "      <td>400</td>\n",
       "      <td>4</td>\n",
       "    </tr>\n",
       "    <tr>\n",
       "      <th>69156</th>\n",
       "      <td>111549</td>\n",
       "      <td>17</td>\n",
       "      <td>4.0</td>\n",
       "      <td>400</td>\n",
       "      <td>6</td>\n",
       "    </tr>\n",
       "    <tr>\n",
       "      <th>...</th>\n",
       "      <td>...</td>\n",
       "      <td>...</td>\n",
       "      <td>...</td>\n",
       "      <td>...</td>\n",
       "      <td>...</td>\n",
       "    </tr>\n",
       "    <tr>\n",
       "      <th>69306</th>\n",
       "      <td>111549</td>\n",
       "      <td>7361</td>\n",
       "      <td>4.5</td>\n",
       "      <td>400</td>\n",
       "      <td>195</td>\n",
       "    </tr>\n",
       "    <tr>\n",
       "      <th>69307</th>\n",
       "      <td>111549</td>\n",
       "      <td>7438</td>\n",
       "      <td>3.0</td>\n",
       "      <td>400</td>\n",
       "      <td>196</td>\n",
       "    </tr>\n",
       "    <tr>\n",
       "      <th>69308</th>\n",
       "      <td>111549</td>\n",
       "      <td>8961</td>\n",
       "      <td>3.5</td>\n",
       "      <td>400</td>\n",
       "      <td>197</td>\n",
       "    </tr>\n",
       "    <tr>\n",
       "      <th>69309</th>\n",
       "      <td>111549</td>\n",
       "      <td>33794</td>\n",
       "      <td>3.5</td>\n",
       "      <td>400</td>\n",
       "      <td>198</td>\n",
       "    </tr>\n",
       "    <tr>\n",
       "      <th>69310</th>\n",
       "      <td>111549</td>\n",
       "      <td>58559</td>\n",
       "      <td>4.0</td>\n",
       "      <td>400</td>\n",
       "      <td>199</td>\n",
       "    </tr>\n",
       "  </tbody>\n",
       "</table>\n",
       "<p>159 rows × 5 columns</p>\n",
       "</div>"
      ],
      "text/plain": [
       "       userId  movieId  rating  new_userId  new_movieId\n",
       "69152  111549        1     3.0         400            0\n",
       "69153  111549        2     3.0         400            1\n",
       "69154  111549       10     3.0         400            3\n",
       "69155  111549       11     3.0         400            4\n",
       "69156  111549       17     4.0         400            6\n",
       "...       ...      ...     ...         ...          ...\n",
       "69306  111549     7361     4.5         400          195\n",
       "69307  111549     7438     3.0         400          196\n",
       "69308  111549     8961     3.5         400          197\n",
       "69309  111549    33794     3.5         400          198\n",
       "69310  111549    58559     4.0         400          199\n",
       "\n",
       "[159 rows x 5 columns]"
      ]
     },
     "execution_count": 155,
     "metadata": {},
     "output_type": "execute_result"
    }
   ],
   "source": [
    "df_user = df[df['new_userId']==new_userId]\n",
    "df_user"
   ]
  },
  {
   "cell_type": "code",
   "execution_count": 156,
   "metadata": {},
   "outputs": [
    {
     "name": "stdout",
     "output_type": "stream",
     "text": [
      "This user has already rated 159 movies. We should recommend movies from those not watched yet.\n"
     ]
    }
   ],
   "source": [
    "print(f\"This user has already rated {len(df_user)} movies. We should recommend movies from those not watched yet.\")"
   ]
  },
  {
   "cell_type": "markdown",
   "metadata": {},
   "source": [
    "Select the movies that have not been watched."
   ]
  },
  {
   "cell_type": "code",
   "execution_count": 157,
   "metadata": {},
   "outputs": [
    {
     "data": {
      "text/html": [
       "<div>\n",
       "<style scoped>\n",
       "    .dataframe tbody tr th:only-of-type {\n",
       "        vertical-align: middle;\n",
       "    }\n",
       "\n",
       "    .dataframe tbody tr th {\n",
       "        vertical-align: top;\n",
       "    }\n",
       "\n",
       "    .dataframe thead th {\n",
       "        text-align: right;\n",
       "    }\n",
       "</style>\n",
       "<table border=\"1\" class=\"dataframe\">\n",
       "  <thead>\n",
       "    <tr style=\"text-align: right;\">\n",
       "      <th></th>\n",
       "      <th>new_userId</th>\n",
       "      <th>new_movieId</th>\n",
       "      <th>rating_pred</th>\n",
       "    </tr>\n",
       "  </thead>\n",
       "  <tbody>\n",
       "    <tr>\n",
       "      <th>60</th>\n",
       "      <td>400</td>\n",
       "      <td>60</td>\n",
       "      <td>3.958329</td>\n",
       "    </tr>\n",
       "    <tr>\n",
       "      <th>97</th>\n",
       "      <td>400</td>\n",
       "      <td>97</td>\n",
       "      <td>3.916569</td>\n",
       "    </tr>\n",
       "    <tr>\n",
       "      <th>92</th>\n",
       "      <td>400</td>\n",
       "      <td>92</td>\n",
       "      <td>3.769733</td>\n",
       "    </tr>\n",
       "    <tr>\n",
       "      <th>34</th>\n",
       "      <td>400</td>\n",
       "      <td>34</td>\n",
       "      <td>3.764854</td>\n",
       "    </tr>\n",
       "    <tr>\n",
       "      <th>143</th>\n",
       "      <td>400</td>\n",
       "      <td>143</td>\n",
       "      <td>3.704622</td>\n",
       "    </tr>\n",
       "    <tr>\n",
       "      <th>148</th>\n",
       "      <td>400</td>\n",
       "      <td>148</td>\n",
       "      <td>3.573842</td>\n",
       "    </tr>\n",
       "    <tr>\n",
       "      <th>19</th>\n",
       "      <td>400</td>\n",
       "      <td>19</td>\n",
       "      <td>3.564238</td>\n",
       "    </tr>\n",
       "    <tr>\n",
       "      <th>180</th>\n",
       "      <td>400</td>\n",
       "      <td>180</td>\n",
       "      <td>3.529225</td>\n",
       "    </tr>\n",
       "    <tr>\n",
       "      <th>168</th>\n",
       "      <td>400</td>\n",
       "      <td>168</td>\n",
       "      <td>3.523056</td>\n",
       "    </tr>\n",
       "    <tr>\n",
       "      <th>5</th>\n",
       "      <td>400</td>\n",
       "      <td>5</td>\n",
       "      <td>3.457252</td>\n",
       "    </tr>\n",
       "  </tbody>\n",
       "</table>\n",
       "</div>"
      ],
      "text/plain": [
       "     new_userId  new_movieId  rating_pred\n",
       "60          400           60     3.958329\n",
       "97          400           97     3.916569\n",
       "92          400           92     3.769733\n",
       "34          400           34     3.764854\n",
       "143         400          143     3.704622\n",
       "148         400          148     3.573842\n",
       "19          400           19     3.564238\n",
       "180         400          180     3.529225\n",
       "168         400          168     3.523056\n",
       "5           400            5     3.457252"
      ]
     },
     "execution_count": 157,
     "metadata": {},
     "output_type": "execute_result"
    }
   ],
   "source": [
    "recommend_df = pred_df[~pred_df['new_movieId'].isin(df_user.new_movieId)]\n",
    "# oder the predicted rating from highest to lowest\n",
    "recommend_df = recommend_df.sort_values(by='rating_pred', ascending=False)\n",
    "recommend_df.head(10)"
   ]
  }
 ],
 "metadata": {
  "kernelspec": {
   "display_name": "6.86x",
   "language": "python",
   "name": "python3"
  },
  "language_info": {
   "codemirror_mode": {
    "name": "ipython",
    "version": 3
   },
   "file_extension": ".py",
   "mimetype": "text/x-python",
   "name": "python",
   "nbconvert_exporter": "python",
   "pygments_lexer": "ipython3",
   "version": "3.9.12"
  },
  "orig_nbformat": 4
 },
 "nbformat": 4,
 "nbformat_minor": 2
}
