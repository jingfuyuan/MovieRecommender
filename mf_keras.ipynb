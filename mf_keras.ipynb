{
 "cells": [
  {
   "attachments": {},
   "cell_type": "markdown",
   "metadata": {},
   "source": [
    "# Build neural networks with TensorFlow for collaborative filtering"
   ]
  },
  {
   "cell_type": "code",
   "execution_count": 1,
   "metadata": {},
   "outputs": [
    {
     "name": "stderr",
     "output_type": "stream",
     "text": [
      "2023-06-25 11:29:12.168306: I tensorflow/core/platform/cpu_feature_guard.cc:193] This TensorFlow binary is optimized with oneAPI Deep Neural Network Library (oneDNN) to use the following CPU instructions in performance-critical operations:  AVX2 FMA\n",
      "To enable them in other operations, rebuild TensorFlow with the appropriate compiler flags.\n"
     ]
    }
   ],
   "source": [
    "import numpy as np\n",
    "import pandas as pd\n",
    "pd.options.mode.chained_assignment = None\n",
    "import matplotlib.pyplot as plt\n",
    "from sklearn.utils import shuffle\n",
    "from keras.models import Model\n",
    "from keras.layers import Input, Embedding, Dot, Add, Flatten, Concatenate, Dense, Dropout\n",
    "from keras.regularizers import l2\n",
    "from keras.optimizers import SGD, Adam"
   ]
  },
  {
   "attachments": {},
   "cell_type": "markdown",
   "metadata": {},
   "source": [
    "### Data preparation"
   ]
  },
  {
   "cell_type": "code",
   "execution_count": 2,
   "metadata": {},
   "outputs": [],
   "source": [
    "df = pd.read_csv(\"small_rating.csv\")"
   ]
  },
  {
   "cell_type": "code",
   "execution_count": 3,
   "metadata": {},
   "outputs": [],
   "source": [
    "userIds = sorted(df[\"userId\"].unique())\n",
    "movieIds = sorted(df[\"movieId\"].unique())"
   ]
  },
  {
   "cell_type": "code",
   "execution_count": 4,
   "metadata": {},
   "outputs": [
    {
     "name": "stdout",
     "output_type": "stream",
     "text": [
      "number of users: 500\n",
      "number of movies: 200\n"
     ]
    }
   ],
   "source": [
    "print(\"number of users: {}\".format(len(userIds)))\n",
    "print(\"number of movies: {}\".format(len(movieIds)))"
   ]
  },
  {
   "cell_type": "code",
   "execution_count": 5,
   "metadata": {},
   "outputs": [
    {
     "name": "stdout",
     "output_type": "stream",
     "text": [
      "[156, 741, 768, 775, 903, 982, 1849, 2261, 2397, 3284]\n",
      "[1, 2, 6, 10, 11, 16, 17, 19, 21, 25]\n"
     ]
    }
   ],
   "source": [
    "print(userIds[:10])\n",
    "print(movieIds[:10])"
   ]
  },
  {
   "attachments": {},
   "cell_type": "markdown",
   "metadata": {},
   "source": [
    "We need to map the users and movies to new IDs that are continuous integers starting from 0. This is to save the space."
   ]
  },
  {
   "cell_type": "code",
   "execution_count": 6,
   "metadata": {},
   "outputs": [],
   "source": [
    "df2 = df[[\"userId\", \"movieId\", \"rating\"]].copy()\n",
    "df2[\"userId\"] = df2[\"userId\"].map({v:k for k, v in enumerate(userIds)})\n",
    "df2[\"movieId\"] = df2[\"movieId\"].map({v:k for k, v in enumerate(movieIds)})"
   ]
  },
  {
   "cell_type": "code",
   "execution_count": 7,
   "metadata": {},
   "outputs": [],
   "source": [
    "N = df2.userId.max() + 1\n",
    "M = df2.movieId.max() + 1"
   ]
  },
  {
   "attachments": {},
   "cell_type": "markdown",
   "metadata": {},
   "source": [
    "N: number of users  \n",
    "M: number of movies"
   ]
  },
  {
   "cell_type": "code",
   "execution_count": 8,
   "metadata": {},
   "outputs": [
    {
     "data": {
      "text/plain": [
       "(500, 200)"
      ]
     },
     "execution_count": 8,
     "metadata": {},
     "output_type": "execute_result"
    }
   ],
   "source": [
    "N, M"
   ]
  },
  {
   "attachments": {},
   "cell_type": "markdown",
   "metadata": {},
   "source": [
    "shuffle the data before splitting into train and test sets."
   ]
  },
  {
   "cell_type": "code",
   "execution_count": 9,
   "metadata": {},
   "outputs": [],
   "source": [
    "df2 = shuffle(df2)"
   ]
  },
  {
   "cell_type": "code",
   "execution_count": 10,
   "metadata": {},
   "outputs": [
    {
     "data": {
      "text/html": [
       "<div>\n",
       "<style scoped>\n",
       "    .dataframe tbody tr th:only-of-type {\n",
       "        vertical-align: middle;\n",
       "    }\n",
       "\n",
       "    .dataframe tbody tr th {\n",
       "        vertical-align: top;\n",
       "    }\n",
       "\n",
       "    .dataframe thead th {\n",
       "        text-align: right;\n",
       "    }\n",
       "</style>\n",
       "<table border=\"1\" class=\"dataframe\">\n",
       "  <thead>\n",
       "    <tr style=\"text-align: right;\">\n",
       "      <th></th>\n",
       "      <th>userId</th>\n",
       "      <th>movieId</th>\n",
       "      <th>rating</th>\n",
       "    </tr>\n",
       "  </thead>\n",
       "  <tbody>\n",
       "    <tr>\n",
       "      <th>69627</th>\n",
       "      <td>402</td>\n",
       "      <td>162</td>\n",
       "      <td>5.0</td>\n",
       "    </tr>\n",
       "    <tr>\n",
       "      <th>70071</th>\n",
       "      <td>405</td>\n",
       "      <td>98</td>\n",
       "      <td>5.0</td>\n",
       "    </tr>\n",
       "    <tr>\n",
       "      <th>40408</th>\n",
       "      <td>233</td>\n",
       "      <td>133</td>\n",
       "      <td>0.5</td>\n",
       "    </tr>\n",
       "    <tr>\n",
       "      <th>3843</th>\n",
       "      <td>22</td>\n",
       "      <td>0</td>\n",
       "      <td>4.0</td>\n",
       "    </tr>\n",
       "    <tr>\n",
       "      <th>41465</th>\n",
       "      <td>239</td>\n",
       "      <td>132</td>\n",
       "      <td>4.5</td>\n",
       "    </tr>\n",
       "  </tbody>\n",
       "</table>\n",
       "</div>"
      ],
      "text/plain": [
       "       userId  movieId  rating\n",
       "69627     402      162     5.0\n",
       "70071     405       98     5.0\n",
       "40408     233      133     0.5\n",
       "3843       22        0     4.0\n",
       "41465     239      132     4.5"
      ]
     },
     "execution_count": 10,
     "metadata": {},
     "output_type": "execute_result"
    }
   ],
   "source": [
    "df2.head()"
   ]
  },
  {
   "attachments": {},
   "cell_type": "markdown",
   "metadata": {},
   "source": [
    "Split data into train dataset and test dataset."
   ]
  },
  {
   "cell_type": "code",
   "execution_count": 11,
   "metadata": {},
   "outputs": [],
   "source": [
    "cutoff = int(0.8 * len(df2))\n",
    "df_train = df2.iloc[:cutoff]\n",
    "df_test = df2.iloc[cutoff:]"
   ]
  },
  {
   "cell_type": "code",
   "execution_count": 12,
   "metadata": {},
   "outputs": [
    {
     "data": {
      "text/plain": [
       "((69212, 3), (17304, 3))"
      ]
     },
     "execution_count": 12,
     "metadata": {},
     "output_type": "execute_result"
    }
   ],
   "source": [
    "df_train.shape, df_test.shape"
   ]
  },
  {
   "attachments": {},
   "cell_type": "markdown",
   "metadata": {},
   "source": [
    "### A simple ANN for collaborative filtering  \n",
    "\n",
    "The key for this architecture is the embedding of users and movies. Similar to word embedding in NLP, users and movies can be represented with vectors in the embedding space so that similar users and similar movies are close to each other. Embedding vectors can be considered as feature vectors, but they are learned during the training. After embedding users and movies, the two vectors are concatenated and followed with two fully connected layers to produce the predicted rating."
   ]
  },
  {
   "cell_type": "code",
   "execution_count": 13,
   "metadata": {},
   "outputs": [],
   "source": [
    "\n",
    "def build_model(N, M, K, reg=0.0):\n",
    "    \"\"\"\n",
    "    Parameters:\n",
    "        N: integer, number of users\n",
    "        M: integer, number of movies\n",
    "        K: integer, embedding dimension\n",
    "        reg: float, l2 regularization\n",
    "    Return:\n",
    "        return a TensorFlow model\n",
    "    \"\"\"\n",
    "    #userId, dimension is 1\n",
    "    u = Input(shape=(1,))\n",
    "    #movieId, dimension is 1\n",
    "    m = Input(shape=(1,))\n",
    "    u_embedding = Embedding(N, K, embeddings_regularizer=l2(reg))(u)\n",
    "    m_embedding = Embedding(M, K, embeddings_regularizer=l2(reg))(m)\n",
    "    # u_bias = Embedding(N, 1, embeddings_regularizer=l2(reg))(u)\n",
    "    # m_bias = Embedding(M, 1, embeddings_regularizer=l2(reg))(m)\n",
    "    # x = Dot(axes=2)([u_embedding, m_embedding])\n",
    "    # x = Add()([x, u_bias, m_bias])\n",
    "    # x= Flatten()(x)\n",
    "    x = Concatenate(axis=-1)([u_embedding, m_embedding])\n",
    "    x = Flatten()(x)\n",
    "    x = Dense(500, activation='relu')(x)\n",
    "    x = Dropout(0.5)(x)\n",
    "    # x = Dense(16)(x)\n",
    "    x = Dense(1)(x)\n",
    "    model = Model(inputs = [u, m], outputs = x)\n",
    "    return model\n"
   ]
  },
  {
   "cell_type": "code",
   "execution_count": 14,
   "metadata": {},
   "outputs": [
    {
     "name": "stdout",
     "output_type": "stream",
     "text": [
      "Model: \"model\"\n",
      "__________________________________________________________________________________________________\n",
      " Layer (type)                   Output Shape         Param #     Connected to                     \n",
      "==================================================================================================\n",
      " input_1 (InputLayer)           [(None, 1)]          0           []                               \n",
      "                                                                                                  \n",
      " input_2 (InputLayer)           [(None, 1)]          0           []                               \n",
      "                                                                                                  \n",
      " embedding (Embedding)          (None, 1, 10)        5000        ['input_1[0][0]']                \n",
      "                                                                                                  \n",
      " embedding_1 (Embedding)        (None, 1, 10)        2000        ['input_2[0][0]']                \n",
      "                                                                                                  \n",
      " concatenate (Concatenate)      (None, 1, 20)        0           ['embedding[0][0]',              \n",
      "                                                                  'embedding_1[0][0]']            \n",
      "                                                                                                  \n",
      " flatten (Flatten)              (None, 20)           0           ['concatenate[0][0]']            \n",
      "                                                                                                  \n",
      " dense (Dense)                  (None, 500)          10500       ['flatten[0][0]']                \n",
      "                                                                                                  \n",
      " dropout (Dropout)              (None, 500)          0           ['dense[0][0]']                  \n",
      "                                                                                                  \n",
      " dense_1 (Dense)                (None, 1)            501         ['dropout[0][0]']                \n",
      "                                                                                                  \n",
      "==================================================================================================\n",
      "Total params: 18,001\n",
      "Trainable params: 18,001\n",
      "Non-trainable params: 0\n",
      "__________________________________________________________________________________________________\n"
     ]
    },
    {
     "name": "stderr",
     "output_type": "stream",
     "text": [
      "2023-06-25 11:29:16.697523: I tensorflow/core/platform/cpu_feature_guard.cc:193] This TensorFlow binary is optimized with oneAPI Deep Neural Network Library (oneDNN) to use the following CPU instructions in performance-critical operations:  AVX2 FMA\n",
      "To enable them in other operations, rebuild TensorFlow with the appropriate compiler flags.\n"
     ]
    }
   ],
   "source": [
    "# K is embedding dimension\n",
    "K = 10\n",
    "# mu is the mean rating of the train dataset. use it to centeralize the data\n",
    "mu = df_train.rating.mean()\n",
    "epoch = 50\n",
    "reg = 0.0\n",
    "\n",
    "model = build_model(N, M, K, reg)\n",
    "model.compile(\n",
    "    loss='mse',\n",
    "    optimizer=Adam(learning_rate=0.005),\n",
    "    metrics=['mse']\n",
    ")\n",
    "model.summary()"
   ]
  },
  {
   "cell_type": "code",
   "execution_count": 15,
   "metadata": {},
   "outputs": [
    {
     "name": "stdout",
     "output_type": "stream",
     "text": [
      "Epoch 1/50\n"
     ]
    },
    {
     "name": "stdout",
     "output_type": "stream",
     "text": [
      "271/271 [==============================] - 1s 3ms/step - loss: 0.6993 - mse: 0.6993 - val_loss: 0.6437 - val_mse: 0.6437\n",
      "Epoch 2/50\n",
      "271/271 [==============================] - 1s 2ms/step - loss: 0.6410 - mse: 0.6410 - val_loss: 0.6206 - val_mse: 0.6206\n",
      "Epoch 3/50\n",
      "271/271 [==============================] - 1s 2ms/step - loss: 0.6261 - mse: 0.6261 - val_loss: 0.6136 - val_mse: 0.6136\n",
      "Epoch 4/50\n",
      "271/271 [==============================] - 1s 2ms/step - loss: 0.6154 - mse: 0.6154 - val_loss: 0.6064 - val_mse: 0.6064\n",
      "Epoch 5/50\n",
      "271/271 [==============================] - 1s 2ms/step - loss: 0.6100 - mse: 0.6100 - val_loss: 0.6132 - val_mse: 0.6132\n",
      "Epoch 6/50\n",
      "271/271 [==============================] - 1s 2ms/step - loss: 0.6044 - mse: 0.6044 - val_loss: 0.6135 - val_mse: 0.6135\n",
      "Epoch 7/50\n",
      "271/271 [==============================] - 1s 2ms/step - loss: 0.6004 - mse: 0.6004 - val_loss: 0.6044 - val_mse: 0.6044\n",
      "Epoch 8/50\n",
      "271/271 [==============================] - 1s 2ms/step - loss: 0.5975 - mse: 0.5975 - val_loss: 0.6004 - val_mse: 0.6004\n",
      "Epoch 9/50\n",
      "271/271 [==============================] - 1s 2ms/step - loss: 0.5922 - mse: 0.5922 - val_loss: 0.5954 - val_mse: 0.5954\n",
      "Epoch 10/50\n",
      "271/271 [==============================] - 1s 2ms/step - loss: 0.5880 - mse: 0.5880 - val_loss: 0.5988 - val_mse: 0.5988\n",
      "Epoch 11/50\n",
      "271/271 [==============================] - 1s 2ms/step - loss: 0.5815 - mse: 0.5815 - val_loss: 0.5882 - val_mse: 0.5882\n",
      "Epoch 12/50\n",
      "271/271 [==============================] - 1s 2ms/step - loss: 0.5767 - mse: 0.5767 - val_loss: 0.5904 - val_mse: 0.5904\n",
      "Epoch 13/50\n",
      "271/271 [==============================] - 1s 2ms/step - loss: 0.5695 - mse: 0.5695 - val_loss: 0.5899 - val_mse: 0.5899\n",
      "Epoch 14/50\n",
      "271/271 [==============================] - 1s 3ms/step - loss: 0.5657 - mse: 0.5657 - val_loss: 0.5828 - val_mse: 0.5828\n",
      "Epoch 15/50\n",
      "271/271 [==============================] - 1s 2ms/step - loss: 0.5601 - mse: 0.5601 - val_loss: 0.5840 - val_mse: 0.5840\n",
      "Epoch 16/50\n",
      "271/271 [==============================] - 1s 2ms/step - loss: 0.5572 - mse: 0.5572 - val_loss: 0.5873 - val_mse: 0.5873\n",
      "Epoch 17/50\n",
      "271/271 [==============================] - 1s 2ms/step - loss: 0.5569 - mse: 0.5569 - val_loss: 0.5864 - val_mse: 0.5864\n",
      "Epoch 18/50\n",
      "271/271 [==============================] - 1s 2ms/step - loss: 0.5510 - mse: 0.5510 - val_loss: 0.5848 - val_mse: 0.5848\n",
      "Epoch 19/50\n",
      "271/271 [==============================] - 1s 2ms/step - loss: 0.5486 - mse: 0.5486 - val_loss: 0.5830 - val_mse: 0.5830\n",
      "Epoch 20/50\n",
      "271/271 [==============================] - 1s 2ms/step - loss: 0.5475 - mse: 0.5475 - val_loss: 0.5846 - val_mse: 0.5846\n",
      "Epoch 21/50\n",
      "271/271 [==============================] - 1s 2ms/step - loss: 0.5445 - mse: 0.5445 - val_loss: 0.5847 - val_mse: 0.5847\n",
      "Epoch 22/50\n",
      "271/271 [==============================] - 1s 2ms/step - loss: 0.5416 - mse: 0.5416 - val_loss: 0.5762 - val_mse: 0.5762\n",
      "Epoch 23/50\n",
      "271/271 [==============================] - 1s 2ms/step - loss: 0.5385 - mse: 0.5385 - val_loss: 0.5804 - val_mse: 0.5804\n",
      "Epoch 24/50\n",
      "271/271 [==============================] - 1s 2ms/step - loss: 0.5352 - mse: 0.5352 - val_loss: 0.5796 - val_mse: 0.5796\n",
      "Epoch 25/50\n",
      "271/271 [==============================] - 1s 3ms/step - loss: 0.5330 - mse: 0.5330 - val_loss: 0.5743 - val_mse: 0.5743\n",
      "Epoch 26/50\n",
      "271/271 [==============================] - 1s 2ms/step - loss: 0.5305 - mse: 0.5305 - val_loss: 0.5719 - val_mse: 0.5719\n",
      "Epoch 27/50\n",
      "271/271 [==============================] - 1s 2ms/step - loss: 0.5274 - mse: 0.5274 - val_loss: 0.5746 - val_mse: 0.5746\n",
      "Epoch 28/50\n",
      "271/271 [==============================] - 1s 2ms/step - loss: 0.5265 - mse: 0.5265 - val_loss: 0.5720 - val_mse: 0.5720\n",
      "Epoch 29/50\n",
      "271/271 [==============================] - 1s 2ms/step - loss: 0.5246 - mse: 0.5246 - val_loss: 0.5696 - val_mse: 0.5696\n",
      "Epoch 30/50\n",
      "271/271 [==============================] - 1s 2ms/step - loss: 0.5226 - mse: 0.5226 - val_loss: 0.5701 - val_mse: 0.5701\n",
      "Epoch 31/50\n",
      "271/271 [==============================] - 1s 2ms/step - loss: 0.5210 - mse: 0.5210 - val_loss: 0.5683 - val_mse: 0.5683\n",
      "Epoch 32/50\n",
      "271/271 [==============================] - 1s 2ms/step - loss: 0.5186 - mse: 0.5186 - val_loss: 0.5685 - val_mse: 0.5685\n",
      "Epoch 33/50\n",
      "271/271 [==============================] - 1s 2ms/step - loss: 0.5160 - mse: 0.5160 - val_loss: 0.5674 - val_mse: 0.5674\n",
      "Epoch 34/50\n",
      "271/271 [==============================] - 1s 2ms/step - loss: 0.5134 - mse: 0.5134 - val_loss: 0.5737 - val_mse: 0.5737\n",
      "Epoch 35/50\n",
      "271/271 [==============================] - 1s 2ms/step - loss: 0.5139 - mse: 0.5139 - val_loss: 0.5655 - val_mse: 0.5655\n",
      "Epoch 36/50\n",
      "271/271 [==============================] - 1s 2ms/step - loss: 0.5105 - mse: 0.5105 - val_loss: 0.5665 - val_mse: 0.5665\n",
      "Epoch 37/50\n",
      "271/271 [==============================] - 1s 2ms/step - loss: 0.5102 - mse: 0.5102 - val_loss: 0.5647 - val_mse: 0.5647\n",
      "Epoch 38/50\n",
      "271/271 [==============================] - 1s 2ms/step - loss: 0.5090 - mse: 0.5090 - val_loss: 0.5690 - val_mse: 0.5690\n",
      "Epoch 39/50\n",
      "271/271 [==============================] - 1s 2ms/step - loss: 0.5070 - mse: 0.5070 - val_loss: 0.5710 - val_mse: 0.5710\n",
      "Epoch 40/50\n",
      "271/271 [==============================] - 1s 2ms/step - loss: 0.5046 - mse: 0.5046 - val_loss: 0.5672 - val_mse: 0.5672\n",
      "Epoch 41/50\n",
      "271/271 [==============================] - 1s 2ms/step - loss: 0.5049 - mse: 0.5049 - val_loss: 0.5668 - val_mse: 0.5668\n",
      "Epoch 42/50\n",
      "271/271 [==============================] - 1s 2ms/step - loss: 0.5023 - mse: 0.5023 - val_loss: 0.5661 - val_mse: 0.5661\n",
      "Epoch 43/50\n",
      "271/271 [==============================] - 1s 2ms/step - loss: 0.5030 - mse: 0.5030 - val_loss: 0.5720 - val_mse: 0.5720\n",
      "Epoch 44/50\n",
      "271/271 [==============================] - 1s 2ms/step - loss: 0.5021 - mse: 0.5021 - val_loss: 0.5690 - val_mse: 0.5690\n",
      "Epoch 45/50\n",
      "271/271 [==============================] - 1s 2ms/step - loss: 0.5013 - mse: 0.5013 - val_loss: 0.5676 - val_mse: 0.5676\n",
      "Epoch 46/50\n",
      "271/271 [==============================] - 1s 2ms/step - loss: 0.4994 - mse: 0.4994 - val_loss: 0.5667 - val_mse: 0.5667\n",
      "Epoch 47/50\n",
      "271/271 [==============================] - 1s 2ms/step - loss: 0.5004 - mse: 0.5004 - val_loss: 0.5667 - val_mse: 0.5667\n",
      "Epoch 48/50\n",
      "271/271 [==============================] - 1s 2ms/step - loss: 0.4964 - mse: 0.4964 - val_loss: 0.5653 - val_mse: 0.5653\n",
      "Epoch 49/50\n",
      "271/271 [==============================] - 1s 2ms/step - loss: 0.4979 - mse: 0.4979 - val_loss: 0.5655 - val_mse: 0.5655\n",
      "Epoch 50/50\n",
      "271/271 [==============================] - 1s 2ms/step - loss: 0.4967 - mse: 0.4967 - val_loss: 0.5644 - val_mse: 0.5644\n"
     ]
    }
   ],
   "source": [
    "\n",
    "r = model.fit(\n",
    "    x = [df_train.userId.values, df_train.movieId.values],\n",
    "    y = df_train.rating.values - mu,\n",
    "    epochs = epoch,\n",
    "    batch_size=256,\n",
    "    validation_data=(\n",
    "        [df_test.userId.values, df_test.movieId.values],\n",
    "        df_test.rating.values - mu\n",
    "    )\n",
    ")"
   ]
  },
  {
   "cell_type": "code",
   "execution_count": 16,
   "metadata": {},
   "outputs": [
    {
     "data": {
      "image/png": "[encoded data removed]",
      "text/plain": [
       "<Figure size 432x288 with 1 Axes>"
      ]
     },
     "metadata": {
      "needs_background": "light"
     },
     "output_type": "display_data"
    }
   ],
   "source": [
    "plt.plot(r.history['mse'], label=\"train mse\")\n",
    "plt.plot(r.history['val_mse'], label=\"test mse\")\n",
    "plt.legend()\n",
    "plt.show()"
   ]
  },
  {
   "attachments": {},
   "cell_type": "markdown",
   "metadata": {},
   "source": [
    "### Use trained model to make prediction."
   ]
  },
  {
   "cell_type": "code",
   "execution_count": 17,
   "metadata": {},
   "outputs": [],
   "source": [
    "def one_user_all_movies(userId):\n",
    "    userId_arr = np.array([userId] * M)\n",
    "    movieId_arr = np.arange(M)\n",
    "    return pd.DataFrame({\"userId\":userId_arr, \"movieId\":movieId_arr})\n",
    "\n",
    "def predict_all_movies(model, userId):\n",
    "    result_df = one_user_all_movies(userId)\n",
    "    rating_pred = model.predict([result_df.userId.values, result_df.movieId.values])\n",
    "    result_df['rating_pred'] = rating_pred + mu\n",
    "    actual_df = df2.loc[df2[\"userId\"]==userId, [\"movieId\", \"rating\"]]\n",
    "    result_df = pd.merge(result_df, actual_df, how=\"left\", on=\"movieId\")\n",
    "    return result_df"
   ]
  },
  {
   "attachments": {},
   "cell_type": "markdown",
   "metadata": {},
   "source": [
    "Predict the ratings of all movies for a specific user."
   ]
  },
  {
   "cell_type": "code",
   "execution_count": 18,
   "metadata": {},
   "outputs": [
    {
     "name": "stdout",
     "output_type": "stream",
     "text": [
      "7/7 [==============================] - 0s 895us/step\n"
     ]
    }
   ],
   "source": [
    "predict_all_df = predict_all_movies(model, 20)"
   ]
  },
  {
   "attachments": {},
   "cell_type": "markdown",
   "metadata": {},
   "source": [
    "Compare predicted rating with actural rating of a specific user"
   ]
  },
  {
   "cell_type": "code",
   "execution_count": 19,
   "metadata": {},
   "outputs": [
    {
     "name": "stdout",
     "output_type": "stream",
     "text": [
      "This user rated 160 movies\n"
     ]
    },
    {
     "data": {
      "image/png": "[encoded data removed]",
      "text/plain": [
       "<Figure size 432x288 with 1 Axes>"
      ]
     },
     "metadata": {
      "needs_background": "light"
     },
     "output_type": "display_data"
    }
   ],
   "source": [
    "compare_df = predict_all_df[~predict_all_df[\"rating\"].isna()].assign(residual=lambda df: df[\"rating_pred\"] - df[\"rating\"])\n",
    "print(\"This user rated {} movies\".format(compare_df.shape[0]))\n",
    "plt.hist(compare_df['residual'], bins=20)\n",
    "plt.show()"
   ]
  },
  {
   "attachments": {},
   "cell_type": "markdown",
   "metadata": {},
   "source": [
    "Most of the errors are within -1.0 and +1.0"
   ]
  },
  {
   "attachments": {},
   "cell_type": "markdown",
   "metadata": {},
   "source": [
    "Make recommendation from those not yet watched movies."
   ]
  },
  {
   "cell_type": "code",
   "execution_count": 20,
   "metadata": {},
   "outputs": [
    {
     "data": {
      "text/html": [
       "<div>\n",
       "<style scoped>\n",
       "    .dataframe tbody tr th:only-of-type {\n",
       "        vertical-align: middle;\n",
       "    }\n",
       "\n",
       "    .dataframe tbody tr th {\n",
       "        vertical-align: top;\n",
       "    }\n",
       "\n",
       "    .dataframe thead th {\n",
       "        text-align: right;\n",
       "    }\n",
       "</style>\n",
       "<table border=\"1\" class=\"dataframe\">\n",
       "  <thead>\n",
       "    <tr style=\"text-align: right;\">\n",
       "      <th></th>\n",
       "      <th>userId</th>\n",
       "      <th>movieId</th>\n",
       "      <th>rating_pred</th>\n",
       "      <th>rating</th>\n",
       "    </tr>\n",
       "  </thead>\n",
       "  <tbody>\n",
       "    <tr>\n",
       "      <th>147</th>\n",
       "      <td>20</td>\n",
       "      <td>147</td>\n",
       "      <td>3.865951</td>\n",
       "      <td>NaN</td>\n",
       "    </tr>\n",
       "    <tr>\n",
       "      <th>82</th>\n",
       "      <td>20</td>\n",
       "      <td>82</td>\n",
       "      <td>3.794595</td>\n",
       "      <td>NaN</td>\n",
       "    </tr>\n",
       "    <tr>\n",
       "      <th>93</th>\n",
       "      <td>20</td>\n",
       "      <td>93</td>\n",
       "      <td>3.694987</td>\n",
       "      <td>NaN</td>\n",
       "    </tr>\n",
       "    <tr>\n",
       "      <th>109</th>\n",
       "      <td>20</td>\n",
       "      <td>109</td>\n",
       "      <td>3.682422</td>\n",
       "      <td>NaN</td>\n",
       "    </tr>\n",
       "    <tr>\n",
       "      <th>172</th>\n",
       "      <td>20</td>\n",
       "      <td>172</td>\n",
       "      <td>3.660375</td>\n",
       "      <td>NaN</td>\n",
       "    </tr>\n",
       "    <tr>\n",
       "      <th>34</th>\n",
       "      <td>20</td>\n",
       "      <td>34</td>\n",
       "      <td>3.649328</td>\n",
       "      <td>NaN</td>\n",
       "    </tr>\n",
       "    <tr>\n",
       "      <th>105</th>\n",
       "      <td>20</td>\n",
       "      <td>105</td>\n",
       "      <td>3.632047</td>\n",
       "      <td>NaN</td>\n",
       "    </tr>\n",
       "    <tr>\n",
       "      <th>183</th>\n",
       "      <td>20</td>\n",
       "      <td>183</td>\n",
       "      <td>3.615762</td>\n",
       "      <td>NaN</td>\n",
       "    </tr>\n",
       "    <tr>\n",
       "      <th>83</th>\n",
       "      <td>20</td>\n",
       "      <td>83</td>\n",
       "      <td>3.614308</td>\n",
       "      <td>NaN</td>\n",
       "    </tr>\n",
       "    <tr>\n",
       "      <th>115</th>\n",
       "      <td>20</td>\n",
       "      <td>115</td>\n",
       "      <td>3.612540</td>\n",
       "      <td>NaN</td>\n",
       "    </tr>\n",
       "  </tbody>\n",
       "</table>\n",
       "</div>"
      ],
      "text/plain": [
       "     userId  movieId  rating_pred  rating\n",
       "147      20      147     3.865951     NaN\n",
       "82       20       82     3.794595     NaN\n",
       "93       20       93     3.694987     NaN\n",
       "109      20      109     3.682422     NaN\n",
       "172      20      172     3.660375     NaN\n",
       "34       20       34     3.649328     NaN\n",
       "105      20      105     3.632047     NaN\n",
       "183      20      183     3.615762     NaN\n",
       "83       20       83     3.614308     NaN\n",
       "115      20      115     3.612540     NaN"
      ]
     },
     "execution_count": 20,
     "metadata": {},
     "output_type": "execute_result"
    }
   ],
   "source": [
    "predict_all_df[predict_all_df[\"rating\"].isna()].sort_values(by=\"rating_pred\", ascending=False).head(10)"
   ]
  },
  {
   "attachments": {},
   "cell_type": "markdown",
   "metadata": {},
   "source": [
    "### AutoRec: Autoencoders for collaborative filtering\n",
    "\n",
    "ref: https://users.cecs.anu.edu.au/~u5098633/papers/www15.pdf  \n",
    "\n",
    "We can store the movie ratings in a big matrix, whoes rows represent users and columns represent movies. Because a user usually only rate a very small portion of all the movies, this matrix is a sparse matrix with a lot of missing values. Autoencoder can reproduce the known input value and fill the missing value. During the training of this neural network, the input and output are the same, but noise is added into the input. Here, drop out is used as a way for adding noise."
   ]
  },
  {
   "cell_type": "code",
   "execution_count": 21,
   "metadata": {},
   "outputs": [],
   "source": [
    "from scipy.sparse import csr_matrix"
   ]
  },
  {
   "attachments": {},
   "cell_type": "markdown",
   "metadata": {},
   "source": [
    "Shuffle the dataset and split it into train and test dataset."
   ]
  },
  {
   "cell_type": "code",
   "execution_count": 22,
   "metadata": {},
   "outputs": [
    {
     "name": "stdout",
     "output_type": "stream",
     "text": [
      "the average rating of train dataset is 3.655782234294631\n"
     ]
    }
   ],
   "source": [
    "df2_shuffled = shuffle(df2)\n",
    "cutoff = int(0.8 * len(df2))\n",
    "train = df2_shuffled.iloc[:cutoff]\n",
    "test = df2_shuffled.iloc[cutoff:]\n",
    "\n",
    "mean_rating = train['rating'].mean()\n",
    "print(\"the average rating of train dataset is {}\".format(mean_rating))\n",
    "\n",
    "# subtract mean from the train and test dataset. Need to add this to the predition values\n",
    "train['rating'] = train['rating'] - mean_rating\n",
    "test['rating'] = test['rating'] - mean_rating"
   ]
  },
  {
   "attachments": {},
   "cell_type": "markdown",
   "metadata": {},
   "source": [
    "Convert the train and test dataset into sparse matrix."
   ]
  },
  {
   "cell_type": "code",
   "execution_count": 23,
   "metadata": {},
   "outputs": [],
   "source": [
    "N = df2.userId.max() + 1\n",
    "M = df2.movieId.max() + 1\n",
    "A = csr_matrix((train.rating, (train.userId, train.movieId)), shape=(N, M))\n",
    "A_test = csr_matrix((test.rating, (test.userId, test.movieId)), shape=(N, M))"
   ]
  },
  {
   "cell_type": "code",
   "execution_count": 24,
   "metadata": {},
   "outputs": [
    {
     "data": {
      "text/plain": [
       "(500, 200)"
      ]
     },
     "execution_count": 24,
     "metadata": {},
     "output_type": "execute_result"
    }
   ],
   "source": [
    "N, M"
   ]
  },
  {
   "attachments": {},
   "cell_type": "markdown",
   "metadata": {},
   "source": [
    "When we calculate the loss, we only look at the values that are not 0, because 0 represents missing values. Here, mask is used to label which values are not 0."
   ]
  },
  {
   "cell_type": "code",
   "execution_count": 25,
   "metadata": {},
   "outputs": [],
   "source": [
    "mask = (A != 0) * 1.0\n",
    "mask_test = (A_test != 0) * 1.0"
   ]
  },
  {
   "attachments": {},
   "cell_type": "markdown",
   "metadata": {},
   "source": [
    "We can not use the stardard MSE as loss function, because we only use the values that are not 0. A custom loss function is defined here. We also need to define custom data generator functions."
   ]
  },
  {
   "cell_type": "code",
   "execution_count": 26,
   "metadata": {},
   "outputs": [],
   "source": [
    "import keras.backend as K\n",
    "from keras.utils import Sequence"
   ]
  },
  {
   "cell_type": "code",
   "execution_count": 27,
   "metadata": {},
   "outputs": [],
   "source": [
    "def custom_loss(y_true, y_pred):\n",
    "    # When we calculate the loss, we only look at the values that are not 0\n",
    "    mask = K.cast(K.not_equal(y_true, 0), dtype='float32')\n",
    "    diff = y_pred - y_true\n",
    "    sqdiff = diff * diff * mask\n",
    "    sse = K.sum(K.sum(sqdiff))\n",
    "    n = K.sum(K.sum(mask))\n",
    "    return sse / n\n",
    "\n",
    "\n",
    "def generator(A, batch_size=256):\n",
    "    batches = int(np.ceil(A.shape[0] / batch_size))\n",
    "    while True: \n",
    "        A_shuf = shuffle(A) # shuffle the dataset for training\n",
    "        for i in range(batches):\n",
    "            a = A_shuf[i*batch_size:(i+1)*batch_size].toarray()\n",
    "            # the input and output are the same for training.\n",
    "            # I did not really add noise here, because dropout is used in the NN as a way for generating noise\n",
    "            noisy = a\n",
    "            # generate input and target output for training the NN. They are the same here\n",
    "            yield noisy, a\n",
    "\n",
    "def test_generator(A, A_test, batch_size=256):\n",
    "    batches = int(np.ceil(A.shape[0] / batch_size))\n",
    "    while True:\n",
    "        for i in range(batches):\n",
    "            a = A[i*batch_size:(i+1)*batch_size].toarray()\n",
    "            at = A_test[i*batch_size:(i+1)*batch_size].toarray()\n",
    "            # generate input and output data for testing the NN\n",
    "            # this time, we use the train data (known values) to make prediction and then compare the prediction with test data\n",
    "            yield a, at\n",
    "\n",
    "# I can also use a custom data generator to feed the model\n",
    "# define a custom data generator which inherits the keras.utils.Sequence class\n",
    "class DataGenerator(Sequence):\n",
    "    def __init__(self, train, test, batch_size = 256, is_train=True):\n",
    "        \"\"\"\n",
    "        Parameters:\n",
    "            train: sparse matrix with shape (N, M) where N is number of users and M is number of movies\n",
    "            test: sparse matrix with shape (N, M)\n",
    "        \"\"\"\n",
    "        self.train = train\n",
    "        self.test = test\n",
    "        self.batch_size = batch_size\n",
    "        self.is_train = is_train\n",
    "        self.n = train.shape[0]\n",
    "\n",
    "    def __len__(self):\n",
    "        return int(np.ceil(self.n / self.batch_size))\n",
    "    \n",
    "    def on_epoch_end(self):\n",
    "        if self.is_train:\n",
    "            self.train = shuffle(self.train)\n",
    "\n",
    "    def __getitem__(self, idx):\n",
    "        start = idx * self.batch_size\n",
    "        end = min((idx+1) * self.batch_size, self.n)\n",
    "        x_train = self.train[start:end].toarray()\n",
    "        x_test = self.test[start:end].toarray()\n",
    "        # noise = np.random.randn(*x_train.shape) * 0.5\n",
    "        # mask = (x_train != 0)\n",
    "        # x_train_noise = np.where(mask, x_train + noise, x_train)\n",
    "        x_train_noise = x_train\n",
    "        if self.is_train:\n",
    "            # for training, the input and output are the same\n",
    "            return x_train_noise, x_train\n",
    "        else:\n",
    "            # for testing, use the train data (known values) to make prediction and compare that to test data\n",
    "            return x_train, x_test\n"
   ]
  },
  {
   "cell_type": "code",
   "execution_count": 28,
   "metadata": {},
   "outputs": [
    {
     "name": "stdout",
     "output_type": "stream",
     "text": [
      "[1.34421777 0.         1.34421777 0.34421777 0.34421777]\n",
      "[1.34421777 0.         1.34421777 0.34421777 0.34421777]\n"
     ]
    }
   ],
   "source": [
    "for x, y in DataGenerator(A, A_test,5):\n",
    "    print(x[:,10])\n",
    "    print(y[:,10])\n",
    "    break"
   ]
  },
  {
   "attachments": {},
   "cell_type": "markdown",
   "metadata": {},
   "source": [
    "Build the AutoRec model."
   ]
  },
  {
   "cell_type": "code",
   "execution_count": 29,
   "metadata": {},
   "outputs": [],
   "source": [
    "def autorec_model(M, dropout, n_hidden, reg):\n",
    "    \"\"\"\n",
    "    Parameters:\n",
    "        M: integer, input feature dimension, number of movies\n",
    "        dropout: float, dropout rate for the input layer. It's a way to add noise\n",
    "        n_hidden: integer, number of neurons in the hidden layer\n",
    "        reg: float, l2 regularization\n",
    "    Return:\n",
    "        return the AutoRec model\n",
    "    \"\"\"\n",
    "    i = Input(shape=(M,))\n",
    "    x = Dropout(dropout)(i)\n",
    "    x = Dense(n_hidden, activation='relu', kernel_regularizer=l2(reg))(x)\n",
    "    outputs = Dense(M, kernel_regularizer=l2(reg))(x)\n",
    "\n",
    "    model = Model(inputs = i, outputs = outputs)\n",
    "    return model"
   ]
  },
  {
   "attachments": {},
   "cell_type": "markdown",
   "metadata": {},
   "source": [
    "compile the model. Use the custom loss function here."
   ]
  },
  {
   "cell_type": "code",
   "execution_count": 30,
   "metadata": {},
   "outputs": [
    {
     "name": "stdout",
     "output_type": "stream",
     "text": [
      "Model: \"model_1\"\n",
      "_________________________________________________________________\n",
      " Layer (type)                Output Shape              Param #   \n",
      "=================================================================\n",
      " input_3 (InputLayer)        [(None, 200)]             0         \n",
      "                                                                 \n",
      " dropout_1 (Dropout)         (None, 200)               0         \n",
      "                                                                 \n",
      " dense_2 (Dense)             (None, 100)               20100     \n",
      "                                                                 \n",
      " dense_3 (Dense)             (None, 200)               20200     \n",
      "                                                                 \n",
      "=================================================================\n",
      "Total params: 40,300\n",
      "Trainable params: 40,300\n",
      "Non-trainable params: 0\n",
      "_________________________________________________________________\n"
     ]
    }
   ],
   "source": [
    "model2 = autorec_model(M, dropout=0.70, n_hidden=100, reg=0.0005)\n",
    "model2.compile(\n",
    "    loss = custom_loss,\n",
    "    optimizer=Adam(learning_rate=0.005),\n",
    "    metrics=[custom_loss] \n",
    ")\n",
    "model2.summary()"
   ]
  },
  {
   "attachments": {},
   "cell_type": "markdown",
   "metadata": {},
   "source": [
    "Train the model"
   ]
  },
  {
   "cell_type": "code",
   "execution_count": 31,
   "metadata": {},
   "outputs": [
    {
     "name": "stdout",
     "output_type": "stream",
     "text": [
      "Epoch 1/50\n"
     ]
    },
    {
     "name": "stdout",
     "output_type": "stream",
     "text": [
      "2/2 [==============================] - 1s 150ms/step - loss: 1.9108 - custom_loss: 1.7729 - val_loss: 1.1148 - val_custom_loss: 0.9871\n",
      "Epoch 2/50\n",
      "2/2 [==============================] - 0s 34ms/step - loss: 1.3899 - custom_loss: 1.2644 - val_loss: 1.0408 - val_custom_loss: 0.9192\n",
      "Epoch 3/50\n",
      "2/2 [==============================] - 0s 33ms/step - loss: 1.2219 - custom_loss: 1.1038 - val_loss: 1.0074 - val_custom_loss: 0.8914\n",
      "Epoch 4/50\n",
      "2/2 [==============================] - 0s 34ms/step - loss: 1.1209 - custom_loss: 1.0065 - val_loss: 0.9825 - val_custom_loss: 0.8718\n",
      "Epoch 5/50\n",
      "2/2 [==============================] - 0s 33ms/step - loss: 1.0413 - custom_loss: 0.9321 - val_loss: 0.9556 - val_custom_loss: 0.8496\n",
      "Epoch 6/50\n",
      "2/2 [==============================] - 0s 34ms/step - loss: 0.9811 - custom_loss: 0.8773 - val_loss: 0.9247 - val_custom_loss: 0.8228\n",
      "Epoch 7/50\n",
      "2/2 [==============================] - 0s 35ms/step - loss: 0.9272 - custom_loss: 0.8265 - val_loss: 0.8907 - val_custom_loss: 0.7926\n",
      "Epoch 8/50\n",
      "2/2 [==============================] - 0s 35ms/step - loss: 0.8863 - custom_loss: 0.7897 - val_loss: 0.8550 - val_custom_loss: 0.7602\n",
      "Epoch 9/50\n",
      "2/2 [==============================] - 0s 34ms/step - loss: 0.8574 - custom_loss: 0.7634 - val_loss: 0.8225 - val_custom_loss: 0.7311\n",
      "Epoch 10/50\n",
      "2/2 [==============================] - 0s 33ms/step - loss: 0.8243 - custom_loss: 0.7342 - val_loss: 0.7940 - val_custom_loss: 0.7057\n",
      "Epoch 11/50\n",
      "2/2 [==============================] - 0s 33ms/step - loss: 0.8002 - custom_loss: 0.7132 - val_loss: 0.7705 - val_custom_loss: 0.6854\n",
      "Epoch 12/50\n",
      "2/2 [==============================] - 0s 32ms/step - loss: 0.7765 - custom_loss: 0.6924 - val_loss: 0.7520 - val_custom_loss: 0.6699\n",
      "Epoch 13/50\n",
      "2/2 [==============================] - 0s 33ms/step - loss: 0.7573 - custom_loss: 0.6763 - val_loss: 0.7403 - val_custom_loss: 0.6611\n",
      "Epoch 14/50\n",
      "2/2 [==============================] - 0s 35ms/step - loss: 0.7339 - custom_loss: 0.6561 - val_loss: 0.7326 - val_custom_loss: 0.6561\n",
      "Epoch 15/50\n",
      "2/2 [==============================] - 0s 33ms/step - loss: 0.7247 - custom_loss: 0.6490 - val_loss: 0.7263 - val_custom_loss: 0.6523\n",
      "Epoch 16/50\n",
      "2/2 [==============================] - 0s 34ms/step - loss: 0.7046 - custom_loss: 0.6316 - val_loss: 0.7183 - val_custom_loss: 0.6465\n",
      "Epoch 17/50\n",
      "2/2 [==============================] - 0s 33ms/step - loss: 0.6906 - custom_loss: 0.6198 - val_loss: 0.7062 - val_custom_loss: 0.6364\n",
      "Epoch 18/50\n",
      "2/2 [==============================] - 0s 33ms/step - loss: 0.6891 - custom_loss: 0.6200 - val_loss: 0.6932 - val_custom_loss: 0.6252\n",
      "Epoch 19/50\n",
      "2/2 [==============================] - 0s 33ms/step - loss: 0.6627 - custom_loss: 0.5952 - val_loss: 0.6833 - val_custom_loss: 0.6170\n",
      "Epoch 20/50\n",
      "2/2 [==============================] - 0s 34ms/step - loss: 0.6616 - custom_loss: 0.5964 - val_loss: 0.6764 - val_custom_loss: 0.6117\n",
      "Epoch 21/50\n",
      "2/2 [==============================] - 0s 33ms/step - loss: 0.6502 - custom_loss: 0.5863 - val_loss: 0.6716 - val_custom_loss: 0.6085\n",
      "Epoch 22/50\n",
      "2/2 [==============================] - 0s 34ms/step - loss: 0.6466 - custom_loss: 0.5844 - val_loss: 0.6683 - val_custom_loss: 0.6066\n",
      "Epoch 23/50\n",
      "2/2 [==============================] - 0s 33ms/step - loss: 0.6398 - custom_loss: 0.5787 - val_loss: 0.6664 - val_custom_loss: 0.6060\n",
      "Epoch 24/50\n",
      "2/2 [==============================] - 0s 33ms/step - loss: 0.6301 - custom_loss: 0.5703 - val_loss: 0.6627 - val_custom_loss: 0.6036\n",
      "Epoch 25/50\n",
      "2/2 [==============================] - 0s 34ms/step - loss: 0.6216 - custom_loss: 0.5636 - val_loss: 0.6576 - val_custom_loss: 0.5996\n",
      "Epoch 26/50\n",
      "2/2 [==============================] - 0s 34ms/step - loss: 0.6155 - custom_loss: 0.5579 - val_loss: 0.6530 - val_custom_loss: 0.5960\n",
      "Epoch 27/50\n",
      "2/2 [==============================] - 0s 33ms/step - loss: 0.5990 - custom_loss: 0.5428 - val_loss: 0.6497 - val_custom_loss: 0.5937\n",
      "Epoch 28/50\n",
      "2/2 [==============================] - 0s 32ms/step - loss: 0.6005 - custom_loss: 0.5452 - val_loss: 0.6472 - val_custom_loss: 0.5921\n",
      "Epoch 29/50\n",
      "2/2 [==============================] - 0s 34ms/step - loss: 0.5900 - custom_loss: 0.5359 - val_loss: 0.6452 - val_custom_loss: 0.5911\n",
      "Epoch 30/50\n",
      "2/2 [==============================] - 0s 33ms/step - loss: 0.5861 - custom_loss: 0.5324 - val_loss: 0.6437 - val_custom_loss: 0.5904\n",
      "Epoch 31/50\n",
      "2/2 [==============================] - 0s 33ms/step - loss: 0.5876 - custom_loss: 0.5349 - val_loss: 0.6414 - val_custom_loss: 0.5888\n",
      "Epoch 32/50\n",
      "2/2 [==============================] - 0s 33ms/step - loss: 0.5734 - custom_loss: 0.5216 - val_loss: 0.6381 - val_custom_loss: 0.5863\n",
      "Epoch 33/50\n",
      "2/2 [==============================] - 0s 34ms/step - loss: 0.5696 - custom_loss: 0.5181 - val_loss: 0.6351 - val_custom_loss: 0.5841\n",
      "Epoch 34/50\n",
      "2/2 [==============================] - 0s 34ms/step - loss: 0.5668 - custom_loss: 0.5167 - val_loss: 0.6327 - val_custom_loss: 0.5823\n",
      "Epoch 35/50\n",
      "2/2 [==============================] - 0s 33ms/step - loss: 0.5625 - custom_loss: 0.5124 - val_loss: 0.6316 - val_custom_loss: 0.5819\n",
      "Epoch 36/50\n",
      "2/2 [==============================] - 0s 33ms/step - loss: 0.5596 - custom_loss: 0.5106 - val_loss: 0.6315 - val_custom_loss: 0.5825\n",
      "Epoch 37/50\n",
      "2/2 [==============================] - 0s 33ms/step - loss: 0.5537 - custom_loss: 0.5051 - val_loss: 0.6311 - val_custom_loss: 0.5826\n",
      "Epoch 38/50\n",
      "2/2 [==============================] - 0s 33ms/step - loss: 0.5463 - custom_loss: 0.4988 - val_loss: 0.6294 - val_custom_loss: 0.5815\n",
      "Epoch 39/50\n",
      "2/2 [==============================] - 0s 33ms/step - loss: 0.5426 - custom_loss: 0.4954 - val_loss: 0.6273 - val_custom_loss: 0.5798\n",
      "Epoch 40/50\n",
      "2/2 [==============================] - 0s 34ms/step - loss: 0.5419 - custom_loss: 0.4949 - val_loss: 0.6246 - val_custom_loss: 0.5775\n",
      "Epoch 41/50\n",
      "2/2 [==============================] - 0s 33ms/step - loss: 0.5318 - custom_loss: 0.4853 - val_loss: 0.6229 - val_custom_loss: 0.5760\n",
      "Epoch 42/50\n",
      "2/2 [==============================] - 0s 32ms/step - loss: 0.5354 - custom_loss: 0.4890 - val_loss: 0.6228 - val_custom_loss: 0.5763\n",
      "Epoch 43/50\n",
      "2/2 [==============================] - 0s 34ms/step - loss: 0.5238 - custom_loss: 0.4780 - val_loss: 0.6229 - val_custom_loss: 0.5767\n",
      "Epoch 44/50\n",
      "2/2 [==============================] - 0s 33ms/step - loss: 0.5250 - custom_loss: 0.4790 - val_loss: 0.6241 - val_custom_loss: 0.5783\n",
      "Epoch 45/50\n",
      "2/2 [==============================] - 0s 34ms/step - loss: 0.5241 - custom_loss: 0.4789 - val_loss: 0.6234 - val_custom_loss: 0.5779\n",
      "Epoch 46/50\n",
      "2/2 [==============================] - 0s 61ms/step - loss: 0.5156 - custom_loss: 0.4708 - val_loss: 0.6226 - val_custom_loss: 0.5775\n",
      "Epoch 47/50\n",
      "2/2 [==============================] - 0s 34ms/step - loss: 0.5164 - custom_loss: 0.4718 - val_loss: 0.6214 - val_custom_loss: 0.5765\n",
      "Epoch 48/50\n",
      "2/2 [==============================] - 0s 34ms/step - loss: 0.5142 - custom_loss: 0.4699 - val_loss: 0.6193 - val_custom_loss: 0.5745\n",
      "Epoch 49/50\n",
      "2/2 [==============================] - 0s 33ms/step - loss: 0.5086 - custom_loss: 0.4642 - val_loss: 0.6184 - val_custom_loss: 0.5737\n",
      "Epoch 50/50\n",
      "2/2 [==============================] - 0s 33ms/step - loss: 0.5051 - custom_loss: 0.4613 - val_loss: 0.6198 - val_custom_loss: 0.5753\n"
     ]
    }
   ],
   "source": [
    "batch_size=256\n",
    "epochs = 50\n",
    "\n",
    "# r2 = model2.fit(\n",
    "#     generator(A, batch_size),\n",
    "#     validation_data=test_generator(A, A_test, batch_size),\n",
    "#     epochs=epochs,\n",
    "#     steps_per_epoch=int(np.ceil(A.shape[0] / batch_size)),\n",
    "#     validation_steps=int(np.ceil(A.shape[0] / batch_size))\n",
    "# )\n",
    "\n",
    "train_data_generator = DataGenerator(A, A_test, batch_size, is_train=True)\n",
    "test_data_generator = DataGenerator(A, A_test, batch_size, is_train=False)\n",
    "r2 = model2.fit(\n",
    "    train_data_generator,\n",
    "    validation_data = test_data_generator,\n",
    "    epochs = epochs\n",
    ")"
   ]
  },
  {
   "cell_type": "code",
   "execution_count": 32,
   "metadata": {},
   "outputs": [
    {
     "data": {
      "image/png": "[encoded data removed]",
      "text/plain": [
       "<Figure size 432x288 with 1 Axes>"
      ]
     },
     "metadata": {
      "needs_background": "light"
     },
     "output_type": "display_data"
    }
   ],
   "source": [
    "plt.plot(r2.history['custom_loss'], label=\"train mse\")\n",
    "plt.plot(r2.history['val_custom_loss'], label=\"test mse\")\n",
    "plt.legend()\n",
    "plt.show()"
   ]
  },
  {
   "attachments": {},
   "cell_type": "markdown",
   "metadata": {},
   "source": [
    "### predict ratings of all movies for a specific user "
   ]
  },
  {
   "cell_type": "code",
   "execution_count": 33,
   "metadata": {},
   "outputs": [],
   "source": [
    "def autorec_input(userId):\n",
    "    arr = np.zeros(M)\n",
    "    user_df = df2[df2['userId']==userId]\n",
    "    arr[user_df.movieId.values] = user_df.rating.values - mean_rating\n",
    "    return np.expand_dims(arr, 0)\n",
    "\n",
    "def autorec_rate_allmovies(model, userId):\n",
    "    X = autorec_input(userId)\n",
    "    pred = model.predict(X)[0]\n",
    "    result_df = pd.DataFrame({\n",
    "        \"userId\": userId,\n",
    "        \"movieId\": np.arange(M),\n",
    "        \"autorec_rating\": pred + mean_rating\n",
    "    })\n",
    "    actual_df = df2.loc[df2[\"userId\"]==userId, [\"movieId\", \"rating\"]]\n",
    "    result_df = pd.merge(result_df, actual_df, how=\"left\", on=\"movieId\")\n",
    "    return result_df\n",
    "    "
   ]
  },
  {
   "cell_type": "code",
   "execution_count": 34,
   "metadata": {},
   "outputs": [
    {
     "name": "stdout",
     "output_type": "stream",
     "text": [
      "1/1 [==============================] - 0s 43ms/step\n"
     ]
    }
   ],
   "source": [
    "autorec_rating_df = autorec_rate_allmovies(model2, 20)"
   ]
  },
  {
   "cell_type": "code",
   "execution_count": 35,
   "metadata": {},
   "outputs": [
    {
     "name": "stdout",
     "output_type": "stream",
     "text": [
      "this user rated 160 movies\n"
     ]
    },
    {
     "data": {
      "text/html": [
       "<div>\n",
       "<style scoped>\n",
       "    .dataframe tbody tr th:only-of-type {\n",
       "        vertical-align: middle;\n",
       "    }\n",
       "\n",
       "    .dataframe tbody tr th {\n",
       "        vertical-align: top;\n",
       "    }\n",
       "\n",
       "    .dataframe thead th {\n",
       "        text-align: right;\n",
       "    }\n",
       "</style>\n",
       "<table border=\"1\" class=\"dataframe\">\n",
       "  <thead>\n",
       "    <tr style=\"text-align: right;\">\n",
       "      <th></th>\n",
       "      <th>userId</th>\n",
       "      <th>movieId</th>\n",
       "      <th>autorec_rating</th>\n",
       "      <th>rating</th>\n",
       "      <th>residual</th>\n",
       "    </tr>\n",
       "  </thead>\n",
       "  <tbody>\n",
       "    <tr>\n",
       "      <th>0</th>\n",
       "      <td>20</td>\n",
       "      <td>0</td>\n",
       "      <td>3.465953</td>\n",
       "      <td>4.0</td>\n",
       "      <td>-0.534047</td>\n",
       "    </tr>\n",
       "    <tr>\n",
       "      <th>1</th>\n",
       "      <td>20</td>\n",
       "      <td>1</td>\n",
       "      <td>3.066041</td>\n",
       "      <td>3.0</td>\n",
       "      <td>0.066041</td>\n",
       "    </tr>\n",
       "    <tr>\n",
       "      <th>3</th>\n",
       "      <td>20</td>\n",
       "      <td>3</td>\n",
       "      <td>3.300404</td>\n",
       "      <td>4.0</td>\n",
       "      <td>-0.699596</td>\n",
       "    </tr>\n",
       "    <tr>\n",
       "      <th>4</th>\n",
       "      <td>20</td>\n",
       "      <td>4</td>\n",
       "      <td>3.163666</td>\n",
       "      <td>2.5</td>\n",
       "      <td>0.663666</td>\n",
       "    </tr>\n",
       "    <tr>\n",
       "      <th>5</th>\n",
       "      <td>20</td>\n",
       "      <td>5</td>\n",
       "      <td>3.287280</td>\n",
       "      <td>3.5</td>\n",
       "      <td>-0.212720</td>\n",
       "    </tr>\n",
       "    <tr>\n",
       "      <th>...</th>\n",
       "      <td>...</td>\n",
       "      <td>...</td>\n",
       "      <td>...</td>\n",
       "      <td>...</td>\n",
       "      <td>...</td>\n",
       "    </tr>\n",
       "    <tr>\n",
       "      <th>194</th>\n",
       "      <td>20</td>\n",
       "      <td>194</td>\n",
       "      <td>3.718714</td>\n",
       "      <td>3.0</td>\n",
       "      <td>0.718714</td>\n",
       "    </tr>\n",
       "    <tr>\n",
       "      <th>196</th>\n",
       "      <td>20</td>\n",
       "      <td>196</td>\n",
       "      <td>3.425693</td>\n",
       "      <td>3.0</td>\n",
       "      <td>0.425693</td>\n",
       "    </tr>\n",
       "    <tr>\n",
       "      <th>197</th>\n",
       "      <td>20</td>\n",
       "      <td>197</td>\n",
       "      <td>3.496594</td>\n",
       "      <td>3.5</td>\n",
       "      <td>-0.003406</td>\n",
       "    </tr>\n",
       "    <tr>\n",
       "      <th>198</th>\n",
       "      <td>20</td>\n",
       "      <td>198</td>\n",
       "      <td>3.703597</td>\n",
       "      <td>4.5</td>\n",
       "      <td>-0.796403</td>\n",
       "    </tr>\n",
       "    <tr>\n",
       "      <th>199</th>\n",
       "      <td>20</td>\n",
       "      <td>199</td>\n",
       "      <td>3.808911</td>\n",
       "      <td>4.0</td>\n",
       "      <td>-0.191089</td>\n",
       "    </tr>\n",
       "  </tbody>\n",
       "</table>\n",
       "<p>160 rows × 5 columns</p>\n",
       "</div>"
      ],
      "text/plain": [
       "     userId  movieId  autorec_rating  rating  residual\n",
       "0        20        0        3.465953     4.0 -0.534047\n",
       "1        20        1        3.066041     3.0  0.066041\n",
       "3        20        3        3.300404     4.0 -0.699596\n",
       "4        20        4        3.163666     2.5  0.663666\n",
       "5        20        5        3.287280     3.5 -0.212720\n",
       "..      ...      ...             ...     ...       ...\n",
       "194      20      194        3.718714     3.0  0.718714\n",
       "196      20      196        3.425693     3.0  0.425693\n",
       "197      20      197        3.496594     3.5 -0.003406\n",
       "198      20      198        3.703597     4.5 -0.796403\n",
       "199      20      199        3.808911     4.0 -0.191089\n",
       "\n",
       "[160 rows x 5 columns]"
      ]
     },
     "execution_count": 35,
     "metadata": {},
     "output_type": "execute_result"
    }
   ],
   "source": [
    "compare_df = autorec_rating_df[~autorec_rating_df[\"rating\"].isna()].assign(residual=lambda df: df['autorec_rating'] - df[\"rating\"])\n",
    "print(\"this user rated {} movies\".format(compare_df.shape[0]))\n",
    "compare_df"
   ]
  },
  {
   "cell_type": "code",
   "execution_count": 36,
   "metadata": {},
   "outputs": [
    {
     "data": {
      "image/png": "[encoded data removed]",
      "text/plain": [
       "<Figure size 576x432 with 1 Axes>"
      ]
     },
     "metadata": {
      "needs_background": "light"
     },
     "output_type": "display_data"
    }
   ],
   "source": [
    "plt.figure(figsize=(8,6))\n",
    "plt.hist(compare_df[\"residual\"], bins=20)\n",
    "plt.show()"
   ]
  },
  {
   "cell_type": "code",
   "execution_count": 37,
   "metadata": {},
   "outputs": [
    {
     "data": {
      "text/html": [
       "<div>\n",
       "<style scoped>\n",
       "    .dataframe tbody tr th:only-of-type {\n",
       "        vertical-align: middle;\n",
       "    }\n",
       "\n",
       "    .dataframe tbody tr th {\n",
       "        vertical-align: top;\n",
       "    }\n",
       "\n",
       "    .dataframe thead th {\n",
       "        text-align: right;\n",
       "    }\n",
       "</style>\n",
       "<table border=\"1\" class=\"dataframe\">\n",
       "  <thead>\n",
       "    <tr style=\"text-align: right;\">\n",
       "      <th></th>\n",
       "      <th>userId</th>\n",
       "      <th>movieId</th>\n",
       "      <th>autorec_rating</th>\n",
       "      <th>rating</th>\n",
       "    </tr>\n",
       "  </thead>\n",
       "  <tbody>\n",
       "    <tr>\n",
       "      <th>34</th>\n",
       "      <td>20</td>\n",
       "      <td>34</td>\n",
       "      <td>3.798368</td>\n",
       "      <td>NaN</td>\n",
       "    </tr>\n",
       "    <tr>\n",
       "      <th>83</th>\n",
       "      <td>20</td>\n",
       "      <td>83</td>\n",
       "      <td>3.722512</td>\n",
       "      <td>NaN</td>\n",
       "    </tr>\n",
       "    <tr>\n",
       "      <th>82</th>\n",
       "      <td>20</td>\n",
       "      <td>82</td>\n",
       "      <td>3.694973</td>\n",
       "      <td>NaN</td>\n",
       "    </tr>\n",
       "    <tr>\n",
       "      <th>109</th>\n",
       "      <td>20</td>\n",
       "      <td>109</td>\n",
       "      <td>3.691950</td>\n",
       "      <td>NaN</td>\n",
       "    </tr>\n",
       "    <tr>\n",
       "      <th>177</th>\n",
       "      <td>20</td>\n",
       "      <td>177</td>\n",
       "      <td>3.691036</td>\n",
       "      <td>NaN</td>\n",
       "    </tr>\n",
       "    <tr>\n",
       "      <th>102</th>\n",
       "      <td>20</td>\n",
       "      <td>102</td>\n",
       "      <td>3.632533</td>\n",
       "      <td>NaN</td>\n",
       "    </tr>\n",
       "    <tr>\n",
       "      <th>87</th>\n",
       "      <td>20</td>\n",
       "      <td>87</td>\n",
       "      <td>3.622662</td>\n",
       "      <td>NaN</td>\n",
       "    </tr>\n",
       "    <tr>\n",
       "      <th>183</th>\n",
       "      <td>20</td>\n",
       "      <td>183</td>\n",
       "      <td>3.594635</td>\n",
       "      <td>NaN</td>\n",
       "    </tr>\n",
       "    <tr>\n",
       "      <th>78</th>\n",
       "      <td>20</td>\n",
       "      <td>78</td>\n",
       "      <td>3.589635</td>\n",
       "      <td>NaN</td>\n",
       "    </tr>\n",
       "    <tr>\n",
       "      <th>129</th>\n",
       "      <td>20</td>\n",
       "      <td>129</td>\n",
       "      <td>3.577334</td>\n",
       "      <td>NaN</td>\n",
       "    </tr>\n",
       "  </tbody>\n",
       "</table>\n",
       "</div>"
      ],
      "text/plain": [
       "     userId  movieId  autorec_rating  rating\n",
       "34       20       34        3.798368     NaN\n",
       "83       20       83        3.722512     NaN\n",
       "82       20       82        3.694973     NaN\n",
       "109      20      109        3.691950     NaN\n",
       "177      20      177        3.691036     NaN\n",
       "102      20      102        3.632533     NaN\n",
       "87       20       87        3.622662     NaN\n",
       "183      20      183        3.594635     NaN\n",
       "78       20       78        3.589635     NaN\n",
       "129      20      129        3.577334     NaN"
      ]
     },
     "execution_count": 37,
     "metadata": {},
     "output_type": "execute_result"
    }
   ],
   "source": [
    "autorec_rating_df[autorec_rating_df[\"rating\"].isna()].sort_values(by=\"autorec_rating\", ascending=False).head(10)"
   ]
  },
  {
   "cell_type": "code",
   "execution_count": null,
   "metadata": {},
   "outputs": [],
   "source": []
  }
 ],
 "metadata": {
  "kernelspec": {
   "display_name": "6.86x",
   "language": "python",
   "name": "python3"
  },
  "language_info": {
   "codemirror_mode": {
    "name": "ipython",
    "version": 3
   },
   "file_extension": ".py",
   "mimetype": "text/x-python",
   "name": "python",
   "nbconvert_exporter": "python",
   "pygments_lexer": "ipython3",
   "version": "3.9.12"
  },
  "orig_nbformat": 4,
  "vscode": {
   "interpreter": {
    "hash": "a753ad7429735aa118c0f067317ae5a330857701974315844cd454527ad11075"
   }
  }
 },
 "nbformat": 4,
 "nbformat_minor": 2
}
